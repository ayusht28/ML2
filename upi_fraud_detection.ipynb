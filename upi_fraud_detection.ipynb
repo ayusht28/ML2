{
 "cells": [
  {
   "cell_type": "markdown",
   "id": "471245c2",
   "metadata": {},
   "source": [
    "# AGENDA OF THE PROJECT \n",
    "\n",
    "1. Data importing to pandas \n",
    "2. Top 5 rows of the data\n",
    "3. Checked the duplicate values\n",
    "4. Removed/Dropped the unique values \n",
    "5. Checked missing values \n",
    "6. Checked the Datatypes \n",
    "7. Descriptive analysis\n",
    "8. Created Year and Month column \n",
    "9. Mapped the months in MMM format \n",
    "10. Target variable distribution (Fraud and non Fraud)  \n",
    "11. analysis on fraudulent transaction only \n",
    "12. fraud.head()\n",
    "13. update datatypes for date\n",
    "14. Descriptive analysis on fraudulent transaction\n",
    "15. inferences to make \n",
    "16. perform Pearson's correlation for the numerical columns\n",
    "17. Inference \n",
    "18. Starting data visualisation part\n",
    "19.  Pairplot using sns\n",
    "20.  Visualising using plotly.express as px\n",
    "21.  Disclaimer about Fake dataset \n",
    "22.  Deleting unwanted columns \n",
    "23.  Encoding and Scaling \n",
    "24.  reducing the size of the data \n",
    "25.  model building \n",
    "26.  testing model performance before data balancing ;RAW data\n",
    "27.  Inferences\n",
    "28.  Data balancing techniques\n",
    "29.  undersampling \n",
    "30.  oversampling(SMOTE)\n",
    "31.  Model performance post data balancing \n",
    "32.  Inference\n",
    "33.  Hyperparameter tuning post data balancing \n",
    "34.  Inference \n",
    "35.  Hyperparameter tuning using Grid search CV\n",
    "36.  Evualating performance post Hyperparameter tuning\n",
    "37.  Selecting the best model for model building \n",
    "38.  creating  a .pkl file \n",
    "39.  Project Conclusion \n",
    "40.  Model deployment using streamlit platform "
   ]
  },
  {
   "cell_type": "markdown",
   "id": "9c278ab4",
   "metadata": {},
   "source": [
    " # Importing libraries "
   ]
  },
  {
   "cell_type": "code",
   "execution_count": 2,
   "id": "b5caa4a4",
   "metadata": {},
   "outputs": [
    {
     "name": "stdout",
     "output_type": "stream",
     "text": [
      "Defaulting to user installation because normal site-packages is not writeable\n",
      "Requirement already satisfied: pandas in c:\\programdata\\anaconda3\\lib\\site-packages (2.2.2)\n",
      "Requirement already satisfied: numpy>=1.26.0 in c:\\programdata\\anaconda3\\lib\\site-packages (from pandas) (1.26.4)\n",
      "Requirement already satisfied: python-dateutil>=2.8.2 in c:\\programdata\\anaconda3\\lib\\site-packages (from pandas) (2.9.0.post0)\n",
      "Requirement already satisfied: pytz>=2020.1 in c:\\programdata\\anaconda3\\lib\\site-packages (from pandas) (2024.1)\n",
      "Requirement already satisfied: tzdata>=2022.7 in c:\\programdata\\anaconda3\\lib\\site-packages (from pandas) (2023.3)\n",
      "Requirement already satisfied: six>=1.5 in c:\\programdata\\anaconda3\\lib\\site-packages (from python-dateutil>=2.8.2->pandas) (1.16.0)\n",
      "Note: you may need to restart the kernel to use updated packages.\n"
     ]
    }
   ],
   "source": [
    "pip install pandas"
   ]
  },
  {
   "cell_type": "code",
   "execution_count": 3,
   "id": "a0aad011",
   "metadata": {},
   "outputs": [],
   "source": [
    "import pandas as pd\n",
    "import numpy as np\n",
    "import seaborn as sns\n",
    "import matplotlib.pyplot as px"
   ]
  },
  {
   "cell_type": "markdown",
   "id": "787af220",
   "metadata": {},
   "source": [
    "# Data Collection \n",
    "- Import the data to jupyter notebook \n",
    "- Pandas for data manipulation "
   ]
  },
  {
   "cell_type": "code",
   "execution_count": 6,
   "id": "048fd7ae",
   "metadata": {},
   "outputs": [],
   "source": [
    "# read CSV file \n",
    "df = pd.read_csv(\"C:/Users/ritik/Desktop/skills/UPI_Fraud_Detection/upi_transactions.csv\")\n"
   ]
  },
  {
   "cell_type": "code",
   "execution_count": 7,
   "id": "2d992170",
   "metadata": {},
   "outputs": [
    {
     "data": {
      "text/html": [
       "<div>\n",
       "<style scoped>\n",
       "    .dataframe tbody tr th:only-of-type {\n",
       "        vertical-align: middle;\n",
       "    }\n",
       "\n",
       "    .dataframe tbody tr th {\n",
       "        vertical-align: top;\n",
       "    }\n",
       "\n",
       "    .dataframe thead th {\n",
       "        text-align: right;\n",
       "    }\n",
       "</style>\n",
       "<table border=\"1\" class=\"dataframe\">\n",
       "  <thead>\n",
       "    <tr style=\"text-align: right;\">\n",
       "      <th></th>\n",
       "      <th>Transaction_ID</th>\n",
       "      <th>Date</th>\n",
       "      <th>Time</th>\n",
       "      <th>Merchant_ID</th>\n",
       "      <th>Customer_ID</th>\n",
       "      <th>Device_ID</th>\n",
       "      <th>Transaction_Type</th>\n",
       "      <th>Payment_Gateway</th>\n",
       "      <th>Transaction_City</th>\n",
       "      <th>Transaction_State</th>\n",
       "      <th>IP_Address</th>\n",
       "      <th>Transaction_Status</th>\n",
       "      <th>Device_OS</th>\n",
       "      <th>Transaction_Frequency</th>\n",
       "      <th>Merchant_Category</th>\n",
       "      <th>Transaction_Channel</th>\n",
       "      <th>Transaction_Amount_Deviation</th>\n",
       "      <th>Days_Since_Last_Transaction</th>\n",
       "      <th>amount</th>\n",
       "      <th>fraud</th>\n",
       "    </tr>\n",
       "  </thead>\n",
       "  <tbody>\n",
       "    <tr>\n",
       "      <th>0</th>\n",
       "      <td>T00022452</td>\n",
       "      <td>20/04/23</td>\n",
       "      <td>4:50:22 AM</td>\n",
       "      <td>f65a902b-2396-40cc-9593-97e103f1bc15</td>\n",
       "      <td>89aaeceb-21f5-46c8-9de3-89dde6a10a75</td>\n",
       "      <td>c1e0deb4-7c97-4178-a838-38f4a2f0b57c</td>\n",
       "      <td>Refund</td>\n",
       "      <td>SamplePay</td>\n",
       "      <td>Durgapur</td>\n",
       "      <td>Chhattisgarh</td>\n",
       "      <td>140.213.7.48</td>\n",
       "      <td>Completed</td>\n",
       "      <td>MacOS</td>\n",
       "      <td>1</td>\n",
       "      <td>Brand Vouchers and OTT</td>\n",
       "      <td>In-store</td>\n",
       "      <td>25.02</td>\n",
       "      <td>5</td>\n",
       "      <td>396.62</td>\n",
       "      <td>1</td>\n",
       "    </tr>\n",
       "    <tr>\n",
       "      <th>1</th>\n",
       "      <td>T00032233</td>\n",
       "      <td>08/08/23</td>\n",
       "      <td>8:09:21 AM</td>\n",
       "      <td>d4a5efcb-4eb6-4d3a-8132-07bb3e6e13a4</td>\n",
       "      <td>8a8962f9-e84a-4573-ab0b-187311978a21</td>\n",
       "      <td>62e14f64-b0ba-4284-889a-51ac05baf33e</td>\n",
       "      <td>Bank Transfer</td>\n",
       "      <td>SamplePay</td>\n",
       "      <td>Rajpur Sonarpur</td>\n",
       "      <td>Himachal Pradesh</td>\n",
       "      <td>184.108.177.45</td>\n",
       "      <td>Pending</td>\n",
       "      <td>Windows</td>\n",
       "      <td>30</td>\n",
       "      <td>Home delivery</td>\n",
       "      <td>Mobile</td>\n",
       "      <td>-36.64</td>\n",
       "      <td>20</td>\n",
       "      <td>121.94</td>\n",
       "      <td>1</td>\n",
       "    </tr>\n",
       "    <tr>\n",
       "      <th>2</th>\n",
       "      <td>T00037364</td>\n",
       "      <td>25/06/23</td>\n",
       "      <td>7:49:01 AM</td>\n",
       "      <td>759ad138-9473-4729-8699-3d72c7ffb983</td>\n",
       "      <td>c3f53ce6-e305-4460-a71d-93bde26043ab</td>\n",
       "      <td>4281c542-ac77-4269-b4bb-1de93ac12677</td>\n",
       "      <td>Bank Transfer</td>\n",
       "      <td>Other</td>\n",
       "      <td>New Delhi</td>\n",
       "      <td>Himachal Pradesh</td>\n",
       "      <td>16.106.248.163</td>\n",
       "      <td>Failed</td>\n",
       "      <td>Android</td>\n",
       "      <td>2</td>\n",
       "      <td>Utilities</td>\n",
       "      <td>Online</td>\n",
       "      <td>44.19</td>\n",
       "      <td>22</td>\n",
       "      <td>106.69</td>\n",
       "      <td>1</td>\n",
       "    </tr>\n",
       "    <tr>\n",
       "      <th>3</th>\n",
       "      <td>T00015924</td>\n",
       "      <td>28/01/24</td>\n",
       "      <td>5:44:12 AM</td>\n",
       "      <td>d8f561e4-bded-4ef0-bcd8-5494b2e31a94</td>\n",
       "      <td>9f0c5613-7d4c-4454-bee1-c47fbba406a1</td>\n",
       "      <td>058b6488-2469-42f2-bc7f-707921d35cad</td>\n",
       "      <td>Subscription</td>\n",
       "      <td>UPI Pay</td>\n",
       "      <td>Bharatpur</td>\n",
       "      <td>Chhattisgarh</td>\n",
       "      <td>65.245.160.212</td>\n",
       "      <td>Failed</td>\n",
       "      <td>Android</td>\n",
       "      <td>0</td>\n",
       "      <td>Purchases</td>\n",
       "      <td>Online</td>\n",
       "      <td>-54.34</td>\n",
       "      <td>28</td>\n",
       "      <td>3611.11</td>\n",
       "      <td>1</td>\n",
       "    </tr>\n",
       "    <tr>\n",
       "      <th>4</th>\n",
       "      <td>T00021805</td>\n",
       "      <td>21/06/23</td>\n",
       "      <td>9:40:59 AM</td>\n",
       "      <td>26fdd7a1-8537-4dfe-bcf7-f5a127b36682</td>\n",
       "      <td>bf9aa6d5-7d3d-43f9-8631-31336720a383</td>\n",
       "      <td>068ff12c-127a-4cfb-9899-ddde37060b28</td>\n",
       "      <td>Investment</td>\n",
       "      <td>Dummy Bank</td>\n",
       "      <td>Sagar</td>\n",
       "      <td>Mizoram</td>\n",
       "      <td>33.172.152.38</td>\n",
       "      <td>Completed</td>\n",
       "      <td>MacOS</td>\n",
       "      <td>1</td>\n",
       "      <td>Other</td>\n",
       "      <td>Online</td>\n",
       "      <td>12.38</td>\n",
       "      <td>25</td>\n",
       "      <td>374.89</td>\n",
       "      <td>1</td>\n",
       "    </tr>\n",
       "  </tbody>\n",
       "</table>\n",
       "</div>"
      ],
      "text/plain": [
       "  Transaction_ID      Date        Time                           Merchant_ID  \\\n",
       "0      T00022452  20/04/23  4:50:22 AM  f65a902b-2396-40cc-9593-97e103f1bc15   \n",
       "1      T00032233  08/08/23  8:09:21 AM  d4a5efcb-4eb6-4d3a-8132-07bb3e6e13a4   \n",
       "2      T00037364  25/06/23  7:49:01 AM  759ad138-9473-4729-8699-3d72c7ffb983   \n",
       "3      T00015924  28/01/24  5:44:12 AM  d8f561e4-bded-4ef0-bcd8-5494b2e31a94   \n",
       "4      T00021805  21/06/23  9:40:59 AM  26fdd7a1-8537-4dfe-bcf7-f5a127b36682   \n",
       "\n",
       "                            Customer_ID                             Device_ID  \\\n",
       "0  89aaeceb-21f5-46c8-9de3-89dde6a10a75  c1e0deb4-7c97-4178-a838-38f4a2f0b57c   \n",
       "1  8a8962f9-e84a-4573-ab0b-187311978a21  62e14f64-b0ba-4284-889a-51ac05baf33e   \n",
       "2  c3f53ce6-e305-4460-a71d-93bde26043ab  4281c542-ac77-4269-b4bb-1de93ac12677   \n",
       "3  9f0c5613-7d4c-4454-bee1-c47fbba406a1  058b6488-2469-42f2-bc7f-707921d35cad   \n",
       "4  bf9aa6d5-7d3d-43f9-8631-31336720a383  068ff12c-127a-4cfb-9899-ddde37060b28   \n",
       "\n",
       "  Transaction_Type Payment_Gateway Transaction_City Transaction_State  \\\n",
       "0           Refund       SamplePay         Durgapur      Chhattisgarh   \n",
       "1    Bank Transfer       SamplePay  Rajpur Sonarpur  Himachal Pradesh   \n",
       "2    Bank Transfer           Other        New Delhi  Himachal Pradesh   \n",
       "3     Subscription         UPI Pay        Bharatpur      Chhattisgarh   \n",
       "4       Investment      Dummy Bank            Sagar           Mizoram   \n",
       "\n",
       "       IP_Address Transaction_Status Device_OS  Transaction_Frequency  \\\n",
       "0    140.213.7.48          Completed     MacOS                      1   \n",
       "1  184.108.177.45            Pending   Windows                     30   \n",
       "2  16.106.248.163             Failed   Android                      2   \n",
       "3  65.245.160.212             Failed   Android                      0   \n",
       "4   33.172.152.38          Completed     MacOS                      1   \n",
       "\n",
       "        Merchant_Category Transaction_Channel  Transaction_Amount_Deviation  \\\n",
       "0  Brand Vouchers and OTT            In-store                         25.02   \n",
       "1           Home delivery              Mobile                        -36.64   \n",
       "2               Utilities              Online                         44.19   \n",
       "3               Purchases              Online                        -54.34   \n",
       "4                   Other              Online                         12.38   \n",
       "\n",
       "   Days_Since_Last_Transaction   amount  fraud  \n",
       "0                            5   396.62      1  \n",
       "1                           20   121.94      1  \n",
       "2                           22   106.69      1  \n",
       "3                           28  3611.11      1  \n",
       "4                           25   374.89      1  "
      ]
     },
     "execution_count": 7,
     "metadata": {},
     "output_type": "execute_result"
    }
   ],
   "source": [
    "# Top 5 rows of data \n",
    "df.head()"
   ]
  },
  {
   "cell_type": "code",
   "execution_count": 8,
   "id": "3a59e13e",
   "metadata": {},
   "outputs": [
    {
     "data": {
      "text/plain": [
       "Index(['Transaction_ID', 'Date', 'Time', 'Merchant_ID', 'Customer_ID',\n",
       "       'Device_ID', 'Transaction_Type', 'Payment_Gateway', 'Transaction_City',\n",
       "       'Transaction_State', 'IP_Address', 'Transaction_Status', 'Device_OS',\n",
       "       'Transaction_Frequency', 'Merchant_Category', 'Transaction_Channel',\n",
       "       'Transaction_Amount_Deviation', 'Days_Since_Last_Transaction', 'amount',\n",
       "       'fraud'],\n",
       "      dtype='object')"
      ]
     },
     "execution_count": 8,
     "metadata": {},
     "output_type": "execute_result"
    }
   ],
   "source": [
    "df.columns"
   ]
  },
  {
   "cell_type": "code",
   "execution_count": 9,
   "id": "5f4b7918",
   "metadata": {},
   "outputs": [
    {
     "name": "stdout",
     "output_type": "stream",
     "text": [
      "<class 'pandas.core.frame.DataFrame'>\n",
      "RangeIndex: 647 entries, 0 to 646\n",
      "Data columns (total 20 columns):\n",
      " #   Column                        Non-Null Count  Dtype  \n",
      "---  ------                        --------------  -----  \n",
      " 0   Transaction_ID                647 non-null    object \n",
      " 1   Date                          647 non-null    object \n",
      " 2   Time                          647 non-null    object \n",
      " 3   Merchant_ID                   647 non-null    object \n",
      " 4   Customer_ID                   647 non-null    object \n",
      " 5   Device_ID                     647 non-null    object \n",
      " 6   Transaction_Type              647 non-null    object \n",
      " 7   Payment_Gateway               647 non-null    object \n",
      " 8   Transaction_City              647 non-null    object \n",
      " 9   Transaction_State             647 non-null    object \n",
      " 10  IP_Address                    647 non-null    object \n",
      " 11  Transaction_Status            647 non-null    object \n",
      " 12  Device_OS                     647 non-null    object \n",
      " 13  Transaction_Frequency         647 non-null    int64  \n",
      " 14  Merchant_Category             647 non-null    object \n",
      " 15  Transaction_Channel           647 non-null    object \n",
      " 16  Transaction_Amount_Deviation  647 non-null    float64\n",
      " 17  Days_Since_Last_Transaction   647 non-null    int64  \n",
      " 18  amount                        647 non-null    float64\n",
      " 19  fraud                         647 non-null    int64  \n",
      "dtypes: float64(2), int64(3), object(15)\n",
      "memory usage: 101.2+ KB\n"
     ]
    }
   ],
   "source": [
    "# Tells datatype \n",
    "df.info()"
   ]
  },
  {
   "cell_type": "code",
   "execution_count": 11,
   "id": "3522db9e",
   "metadata": {},
   "outputs": [
    {
     "data": {
      "text/html": [
       "<div>\n",
       "<style scoped>\n",
       "    .dataframe tbody tr th:only-of-type {\n",
       "        vertical-align: middle;\n",
       "    }\n",
       "\n",
       "    .dataframe tbody tr th {\n",
       "        vertical-align: top;\n",
       "    }\n",
       "\n",
       "    .dataframe thead th {\n",
       "        text-align: right;\n",
       "    }\n",
       "</style>\n",
       "<table border=\"1\" class=\"dataframe\">\n",
       "  <thead>\n",
       "    <tr style=\"text-align: right;\">\n",
       "      <th></th>\n",
       "      <th>count</th>\n",
       "      <th>mean</th>\n",
       "      <th>std</th>\n",
       "      <th>min</th>\n",
       "      <th>25%</th>\n",
       "      <th>50%</th>\n",
       "      <th>75%</th>\n",
       "      <th>max</th>\n",
       "    </tr>\n",
       "  </thead>\n",
       "  <tbody>\n",
       "    <tr>\n",
       "      <th>Transaction_Frequency</th>\n",
       "      <td>647.0</td>\n",
       "      <td>3.564142</td>\n",
       "      <td>6.454543</td>\n",
       "      <td>0.00</td>\n",
       "      <td>1.000</td>\n",
       "      <td>2.00</td>\n",
       "      <td>3.00</td>\n",
       "      <td>50.00</td>\n",
       "    </tr>\n",
       "    <tr>\n",
       "      <th>Transaction_Amount_Deviation</th>\n",
       "      <td>647.0</td>\n",
       "      <td>5.014668</td>\n",
       "      <td>56.375914</td>\n",
       "      <td>-99.47</td>\n",
       "      <td>-42.355</td>\n",
       "      <td>8.38</td>\n",
       "      <td>52.29</td>\n",
       "      <td>99.45</td>\n",
       "    </tr>\n",
       "    <tr>\n",
       "      <th>Days_Since_Last_Transaction</th>\n",
       "      <td>647.0</td>\n",
       "      <td>15.717156</td>\n",
       "      <td>8.218122</td>\n",
       "      <td>1.00</td>\n",
       "      <td>8.500</td>\n",
       "      <td>16.00</td>\n",
       "      <td>23.00</td>\n",
       "      <td>29.00</td>\n",
       "    </tr>\n",
       "    <tr>\n",
       "      <th>amount</th>\n",
       "      <td>647.0</td>\n",
       "      <td>128.839753</td>\n",
       "      <td>364.995747</td>\n",
       "      <td>0.12</td>\n",
       "      <td>17.155</td>\n",
       "      <td>35.00</td>\n",
       "      <td>74.77</td>\n",
       "      <td>4883.62</td>\n",
       "    </tr>\n",
       "    <tr>\n",
       "      <th>fraud</th>\n",
       "      <td>647.0</td>\n",
       "      <td>0.239567</td>\n",
       "      <td>0.427150</td>\n",
       "      <td>0.00</td>\n",
       "      <td>0.000</td>\n",
       "      <td>0.00</td>\n",
       "      <td>0.00</td>\n",
       "      <td>1.00</td>\n",
       "    </tr>\n",
       "  </tbody>\n",
       "</table>\n",
       "</div>"
      ],
      "text/plain": [
       "                              count        mean         std    min     25%  \\\n",
       "Transaction_Frequency         647.0    3.564142    6.454543   0.00   1.000   \n",
       "Transaction_Amount_Deviation  647.0    5.014668   56.375914 -99.47 -42.355   \n",
       "Days_Since_Last_Transaction   647.0   15.717156    8.218122   1.00   8.500   \n",
       "amount                        647.0  128.839753  364.995747   0.12  17.155   \n",
       "fraud                         647.0    0.239567    0.427150   0.00   0.000   \n",
       "\n",
       "                                50%    75%      max  \n",
       "Transaction_Frequency          2.00   3.00    50.00  \n",
       "Transaction_Amount_Deviation   8.38  52.29    99.45  \n",
       "Days_Since_Last_Transaction   16.00  23.00    29.00  \n",
       "amount                        35.00  74.77  4883.62  \n",
       "fraud                          0.00   0.00     1.00  "
      ]
     },
     "execution_count": 11,
     "metadata": {},
     "output_type": "execute_result"
    }
   ],
   "source": [
    "# Descriptive feature \n",
    "df.describe().T"
   ]
  },
  {
   "cell_type": "markdown",
   "id": "78912b72",
   "metadata": {},
   "source": [
    "Data Preparation \n",
    "- Duplicate values \n",
    "- Missing values \n",
    "- Unique values \n",
    "- Removing/ Dropping the unique values "
   ]
  },
  {
   "cell_type": "markdown",
   "id": "abd55db3",
   "metadata": {},
   "source": [
    "# Duplicate values in the dataset \n"
   ]
  },
  {
   "cell_type": "code",
   "execution_count": 12,
   "id": "bb7b0591",
   "metadata": {},
   "outputs": [
    {
     "data": {
      "text/plain": [
       "0      False\n",
       "1      False\n",
       "2      False\n",
       "3      False\n",
       "4      False\n",
       "       ...  \n",
       "642    False\n",
       "643    False\n",
       "644    False\n",
       "645    False\n",
       "646    False\n",
       "Length: 647, dtype: bool"
      ]
     },
     "execution_count": 12,
     "metadata": {},
     "output_type": "execute_result"
    }
   ],
   "source": [
    "df.duplicated()"
   ]
  },
  {
   "cell_type": "code",
   "execution_count": 13,
   "id": "f4ef5c71",
   "metadata": {},
   "outputs": [
    {
     "data": {
      "text/plain": [
       "0"
      ]
     },
     "execution_count": 13,
     "metadata": {},
     "output_type": "execute_result"
    }
   ],
   "source": [
    "df.duplicated().sum()"
   ]
  },
  {
   "cell_type": "markdown",
   "id": "c18d00fc",
   "metadata": {},
   "source": [
    "There are no duplicate values in the dataset "
   ]
  },
  {
   "cell_type": "markdown",
   "id": "f14ca431",
   "metadata": {},
   "source": [
    "# Missing values "
   ]
  },
  {
   "cell_type": "code",
   "execution_count": 16,
   "id": "076995cd",
   "metadata": {},
   "outputs": [
    {
     "data": {
      "text/plain": [
       "Transaction_ID                  0\n",
       "Date                            0\n",
       "Time                            0\n",
       "Merchant_ID                     0\n",
       "Customer_ID                     0\n",
       "Device_ID                       0\n",
       "Transaction_Type                0\n",
       "Payment_Gateway                 0\n",
       "Transaction_City                0\n",
       "Transaction_State               0\n",
       "IP_Address                      0\n",
       "Transaction_Status              0\n",
       "Device_OS                       0\n",
       "Transaction_Frequency           0\n",
       "Merchant_Category               0\n",
       "Transaction_Channel             0\n",
       "Transaction_Amount_Deviation    0\n",
       "Days_Since_Last_Transaction     0\n",
       "amount                          0\n",
       "fraud                           0\n",
       "dtype: int64"
      ]
     },
     "execution_count": 16,
     "metadata": {},
     "output_type": "execute_result"
    }
   ],
   "source": [
    "df.isnull().sum()"
   ]
  },
  {
   "cell_type": "markdown",
   "id": "f78d5a3f",
   "metadata": {},
   "source": [
    "How to deal with missing values \n",
    "- Drop the missing values (only if the missing values is very less in proportion )\n",
    "- Amputation (fill back the missing values )\n",
    "- Forward fill\n",
    "- Backward fill\n",
    "- Linear Regression \n",
    "- Mean value to replace the missing value (not recommended, as mean is    sensitive to outliers)\n",
    "- Median value should be used to replace the missing value as it is robust and is not sensitive to outliers,data distribution does not matter "
   ]
  },
  {
   "cell_type": "code",
   "execution_count": 17,
   "id": "2135cb18",
   "metadata": {},
   "outputs": [
    {
     "data": {
      "text/plain": [
       "(647, 20)"
      ]
     },
     "execution_count": 17,
     "metadata": {},
     "output_type": "execute_result"
    }
   ],
   "source": [
    "# check the shape of the dataset \n",
    "\n",
    "df.shape"
   ]
  },
  {
   "cell_type": "code",
   "execution_count": 18,
   "id": "4b722556",
   "metadata": {},
   "outputs": [
    {
     "data": {
      "text/plain": [
       "Transaction_ID                  647\n",
       "Date                            302\n",
       "Time                            641\n",
       "Merchant_ID                     647\n",
       "Customer_ID                     647\n",
       "Device_ID                       647\n",
       "Transaction_Type                  7\n",
       "Payment_Gateway                   9\n",
       "Transaction_City                281\n",
       "Transaction_State                28\n",
       "IP_Address                      647\n",
       "Transaction_Status                3\n",
       "Device_OS                         4\n",
       "Transaction_Frequency            14\n",
       "Merchant_Category                10\n",
       "Transaction_Channel               3\n",
       "Transaction_Amount_Deviation    635\n",
       "Days_Since_Last_Transaction      29\n",
       "amount                          633\n",
       "fraud                             2\n",
       "dtype: int64"
      ]
     },
     "execution_count": 18,
     "metadata": {},
     "output_type": "execute_result"
    }
   ],
   "source": [
    "# unique value in the dataset \n",
    "df.nunique()"
   ]
  },
  {
   "cell_type": "markdown",
   "id": "f10f4ab4",
   "metadata": {},
   "source": [
    "# Drop the unique values from the data"
   ]
  },
  {
   "cell_type": "code",
   "execution_count": 19,
   "id": "a64df976",
   "metadata": {},
   "outputs": [
    {
     "data": {
      "text/plain": [
       "Index(['Transaction_ID', 'Date', 'Time', 'Merchant_ID', 'Customer_ID',\n",
       "       'Device_ID', 'Transaction_Type', 'Payment_Gateway', 'Transaction_City',\n",
       "       'Transaction_State', 'IP_Address', 'Transaction_Status', 'Device_OS',\n",
       "       'Transaction_Frequency', 'Merchant_Category', 'Transaction_Channel',\n",
       "       'Transaction_Amount_Deviation', 'Days_Since_Last_Transaction', 'amount',\n",
       "       'fraud'],\n",
       "      dtype='object')"
      ]
     },
     "execution_count": 19,
     "metadata": {},
     "output_type": "execute_result"
    }
   ],
   "source": [
    "df.columns"
   ]
  },
  {
   "cell_type": "code",
   "execution_count": 20,
   "id": "d56c8dd9",
   "metadata": {},
   "outputs": [],
   "source": [
    "df.drop(['Transaction_ID','Merchant_ID','Customer_ID','Device_ID','IP_Address' ], axis=1, inplace=True)"
   ]
  },
  {
   "cell_type": "code",
   "execution_count": 21,
   "id": "8837b0d5",
   "metadata": {},
   "outputs": [
    {
     "data": {
      "text/html": [
       "<div>\n",
       "<style scoped>\n",
       "    .dataframe tbody tr th:only-of-type {\n",
       "        vertical-align: middle;\n",
       "    }\n",
       "\n",
       "    .dataframe tbody tr th {\n",
       "        vertical-align: top;\n",
       "    }\n",
       "\n",
       "    .dataframe thead th {\n",
       "        text-align: right;\n",
       "    }\n",
       "</style>\n",
       "<table border=\"1\" class=\"dataframe\">\n",
       "  <thead>\n",
       "    <tr style=\"text-align: right;\">\n",
       "      <th></th>\n",
       "      <th>Date</th>\n",
       "      <th>Time</th>\n",
       "      <th>Transaction_Type</th>\n",
       "      <th>Payment_Gateway</th>\n",
       "      <th>Transaction_City</th>\n",
       "      <th>Transaction_State</th>\n",
       "      <th>Transaction_Status</th>\n",
       "      <th>Device_OS</th>\n",
       "      <th>Transaction_Frequency</th>\n",
       "      <th>Merchant_Category</th>\n",
       "      <th>Transaction_Channel</th>\n",
       "      <th>Transaction_Amount_Deviation</th>\n",
       "      <th>Days_Since_Last_Transaction</th>\n",
       "      <th>amount</th>\n",
       "      <th>fraud</th>\n",
       "    </tr>\n",
       "  </thead>\n",
       "  <tbody>\n",
       "    <tr>\n",
       "      <th>0</th>\n",
       "      <td>20/04/23</td>\n",
       "      <td>4:50:22 AM</td>\n",
       "      <td>Refund</td>\n",
       "      <td>SamplePay</td>\n",
       "      <td>Durgapur</td>\n",
       "      <td>Chhattisgarh</td>\n",
       "      <td>Completed</td>\n",
       "      <td>MacOS</td>\n",
       "      <td>1</td>\n",
       "      <td>Brand Vouchers and OTT</td>\n",
       "      <td>In-store</td>\n",
       "      <td>25.02</td>\n",
       "      <td>5</td>\n",
       "      <td>396.62</td>\n",
       "      <td>1</td>\n",
       "    </tr>\n",
       "    <tr>\n",
       "      <th>1</th>\n",
       "      <td>08/08/23</td>\n",
       "      <td>8:09:21 AM</td>\n",
       "      <td>Bank Transfer</td>\n",
       "      <td>SamplePay</td>\n",
       "      <td>Rajpur Sonarpur</td>\n",
       "      <td>Himachal Pradesh</td>\n",
       "      <td>Pending</td>\n",
       "      <td>Windows</td>\n",
       "      <td>30</td>\n",
       "      <td>Home delivery</td>\n",
       "      <td>Mobile</td>\n",
       "      <td>-36.64</td>\n",
       "      <td>20</td>\n",
       "      <td>121.94</td>\n",
       "      <td>1</td>\n",
       "    </tr>\n",
       "  </tbody>\n",
       "</table>\n",
       "</div>"
      ],
      "text/plain": [
       "       Date        Time Transaction_Type Payment_Gateway Transaction_City  \\\n",
       "0  20/04/23  4:50:22 AM           Refund       SamplePay         Durgapur   \n",
       "1  08/08/23  8:09:21 AM    Bank Transfer       SamplePay  Rajpur Sonarpur   \n",
       "\n",
       "  Transaction_State Transaction_Status Device_OS  Transaction_Frequency  \\\n",
       "0      Chhattisgarh          Completed     MacOS                      1   \n",
       "1  Himachal Pradesh            Pending   Windows                     30   \n",
       "\n",
       "        Merchant_Category Transaction_Channel  Transaction_Amount_Deviation  \\\n",
       "0  Brand Vouchers and OTT            In-store                         25.02   \n",
       "1           Home delivery              Mobile                        -36.64   \n",
       "\n",
       "   Days_Since_Last_Transaction  amount  fraud  \n",
       "0                            5  396.62      1  \n",
       "1                           20  121.94      1  "
      ]
     },
     "execution_count": 21,
     "metadata": {},
     "output_type": "execute_result"
    }
   ],
   "source": [
    "df.head(2)"
   ]
  },
  {
   "cell_type": "markdown",
   "id": "0ae510ca",
   "metadata": {},
   "source": [
    "# Data Cleaning and feature Engineering "
   ]
  },
  {
   "cell_type": "code",
   "execution_count": 22,
   "id": "715b7b6f",
   "metadata": {},
   "outputs": [
    {
     "data": {
      "text/plain": [
       "0      20/04/23\n",
       "1      08/08/23\n",
       "2      25/06/23\n",
       "3      28/01/24\n",
       "4      21/06/23\n",
       "         ...   \n",
       "642    24/07/23\n",
       "643    05/07/23\n",
       "644    16/04/23\n",
       "645    28/10/23\n",
       "646    11/04/24\n",
       "Name: Date, Length: 647, dtype: object"
      ]
     },
     "execution_count": 22,
     "metadata": {},
     "output_type": "execute_result"
    }
   ],
   "source": [
    "df['Date']"
   ]
  },
  {
   "cell_type": "code",
   "execution_count": 24,
   "id": "51a92b56",
   "metadata": {},
   "outputs": [
    {
     "data": {
      "text/plain": [
       "0      20/04/23\n",
       "1      08/08/23\n",
       "2      25/06/23\n",
       "3      28/01/24\n",
       "4      21/06/23\n",
       "         ...   \n",
       "642    24/07/23\n",
       "643    05/07/23\n",
       "644    16/04/23\n",
       "645    28/10/23\n",
       "646    11/04/24\n",
       "Name: Date, Length: 647, dtype: object"
      ]
     },
     "execution_count": 24,
     "metadata": {},
     "output_type": "execute_result"
    }
   ],
   "source": [
    "# only for single column at a time \n",
    "df.Date"
   ]
  },
  {
   "cell_type": "code",
   "execution_count": 27,
   "id": "9629fb46",
   "metadata": {},
   "outputs": [
    {
     "data": {
      "text/html": [
       "<div>\n",
       "<style scoped>\n",
       "    .dataframe tbody tr th:only-of-type {\n",
       "        vertical-align: middle;\n",
       "    }\n",
       "\n",
       "    .dataframe tbody tr th {\n",
       "        vertical-align: top;\n",
       "    }\n",
       "\n",
       "    .dataframe thead th {\n",
       "        text-align: right;\n",
       "    }\n",
       "</style>\n",
       "<table border=\"1\" class=\"dataframe\">\n",
       "  <thead>\n",
       "    <tr style=\"text-align: right;\">\n",
       "      <th></th>\n",
       "      <th>Date</th>\n",
       "      <th>amount</th>\n",
       "    </tr>\n",
       "  </thead>\n",
       "  <tbody>\n",
       "    <tr>\n",
       "      <th>0</th>\n",
       "      <td>20/04/23</td>\n",
       "      <td>396.62</td>\n",
       "    </tr>\n",
       "    <tr>\n",
       "      <th>1</th>\n",
       "      <td>08/08/23</td>\n",
       "      <td>121.94</td>\n",
       "    </tr>\n",
       "    <tr>\n",
       "      <th>2</th>\n",
       "      <td>25/06/23</td>\n",
       "      <td>106.69</td>\n",
       "    </tr>\n",
       "    <tr>\n",
       "      <th>3</th>\n",
       "      <td>28/01/24</td>\n",
       "      <td>3611.11</td>\n",
       "    </tr>\n",
       "    <tr>\n",
       "      <th>4</th>\n",
       "      <td>21/06/23</td>\n",
       "      <td>374.89</td>\n",
       "    </tr>\n",
       "    <tr>\n",
       "      <th>...</th>\n",
       "      <td>...</td>\n",
       "      <td>...</td>\n",
       "    </tr>\n",
       "    <tr>\n",
       "      <th>642</th>\n",
       "      <td>24/07/23</td>\n",
       "      <td>28.27</td>\n",
       "    </tr>\n",
       "    <tr>\n",
       "      <th>643</th>\n",
       "      <td>05/07/23</td>\n",
       "      <td>26.26</td>\n",
       "    </tr>\n",
       "    <tr>\n",
       "      <th>644</th>\n",
       "      <td>16/04/23</td>\n",
       "      <td>6.02</td>\n",
       "    </tr>\n",
       "    <tr>\n",
       "      <th>645</th>\n",
       "      <td>28/10/23</td>\n",
       "      <td>17.12</td>\n",
       "    </tr>\n",
       "    <tr>\n",
       "      <th>646</th>\n",
       "      <td>11/04/24</td>\n",
       "      <td>50.60</td>\n",
       "    </tr>\n",
       "  </tbody>\n",
       "</table>\n",
       "<p>647 rows × 2 columns</p>\n",
       "</div>"
      ],
      "text/plain": [
       "         Date   amount\n",
       "0    20/04/23   396.62\n",
       "1    08/08/23   121.94\n",
       "2    25/06/23   106.69\n",
       "3    28/01/24  3611.11\n",
       "4    21/06/23   374.89\n",
       "..        ...      ...\n",
       "642  24/07/23    28.27\n",
       "643  05/07/23    26.26\n",
       "644  16/04/23     6.02\n",
       "645  28/10/23    17.12\n",
       "646  11/04/24    50.60\n",
       "\n",
       "[647 rows x 2 columns]"
      ]
     },
     "execution_count": 27,
     "metadata": {},
     "output_type": "execute_result"
    }
   ],
   "source": [
    "#works for more than one column , by using multi square brackets\n",
    "df[['Date','amount']]"
   ]
  },
  {
   "cell_type": "code",
   "execution_count": 28,
   "id": "d5545ae8",
   "metadata": {},
   "outputs": [
    {
     "data": {
      "text/html": [
       "<div>\n",
       "<style scoped>\n",
       "    .dataframe tbody tr th:only-of-type {\n",
       "        vertical-align: middle;\n",
       "    }\n",
       "\n",
       "    .dataframe tbody tr th {\n",
       "        vertical-align: top;\n",
       "    }\n",
       "\n",
       "    .dataframe thead th {\n",
       "        text-align: right;\n",
       "    }\n",
       "</style>\n",
       "<table border=\"1\" class=\"dataframe\">\n",
       "  <thead>\n",
       "    <tr style=\"text-align: right;\">\n",
       "      <th></th>\n",
       "      <th>Date</th>\n",
       "      <th>Time</th>\n",
       "      <th>Transaction_Type</th>\n",
       "      <th>Payment_Gateway</th>\n",
       "      <th>Transaction_City</th>\n",
       "      <th>Transaction_State</th>\n",
       "      <th>Transaction_Status</th>\n",
       "      <th>Device_OS</th>\n",
       "      <th>Transaction_Frequency</th>\n",
       "      <th>Merchant_Category</th>\n",
       "      <th>Transaction_Channel</th>\n",
       "      <th>Transaction_Amount_Deviation</th>\n",
       "      <th>Days_Since_Last_Transaction</th>\n",
       "      <th>amount</th>\n",
       "      <th>fraud</th>\n",
       "    </tr>\n",
       "  </thead>\n",
       "  <tbody>\n",
       "    <tr>\n",
       "      <th>0</th>\n",
       "      <td>20/04/23</td>\n",
       "      <td>4:50:22 AM</td>\n",
       "      <td>Refund</td>\n",
       "      <td>SamplePay</td>\n",
       "      <td>Durgapur</td>\n",
       "      <td>Chhattisgarh</td>\n",
       "      <td>Completed</td>\n",
       "      <td>MacOS</td>\n",
       "      <td>1</td>\n",
       "      <td>Brand Vouchers and OTT</td>\n",
       "      <td>In-store</td>\n",
       "      <td>25.02</td>\n",
       "      <td>5</td>\n",
       "      <td>396.62</td>\n",
       "      <td>1</td>\n",
       "    </tr>\n",
       "    <tr>\n",
       "      <th>1</th>\n",
       "      <td>08/08/23</td>\n",
       "      <td>8:09:21 AM</td>\n",
       "      <td>Bank Transfer</td>\n",
       "      <td>SamplePay</td>\n",
       "      <td>Rajpur Sonarpur</td>\n",
       "      <td>Himachal Pradesh</td>\n",
       "      <td>Pending</td>\n",
       "      <td>Windows</td>\n",
       "      <td>30</td>\n",
       "      <td>Home delivery</td>\n",
       "      <td>Mobile</td>\n",
       "      <td>-36.64</td>\n",
       "      <td>20</td>\n",
       "      <td>121.94</td>\n",
       "      <td>1</td>\n",
       "    </tr>\n",
       "    <tr>\n",
       "      <th>2</th>\n",
       "      <td>25/06/23</td>\n",
       "      <td>7:49:01 AM</td>\n",
       "      <td>Bank Transfer</td>\n",
       "      <td>Other</td>\n",
       "      <td>New Delhi</td>\n",
       "      <td>Himachal Pradesh</td>\n",
       "      <td>Failed</td>\n",
       "      <td>Android</td>\n",
       "      <td>2</td>\n",
       "      <td>Utilities</td>\n",
       "      <td>Online</td>\n",
       "      <td>44.19</td>\n",
       "      <td>22</td>\n",
       "      <td>106.69</td>\n",
       "      <td>1</td>\n",
       "    </tr>\n",
       "    <tr>\n",
       "      <th>3</th>\n",
       "      <td>28/01/24</td>\n",
       "      <td>5:44:12 AM</td>\n",
       "      <td>Subscription</td>\n",
       "      <td>UPI Pay</td>\n",
       "      <td>Bharatpur</td>\n",
       "      <td>Chhattisgarh</td>\n",
       "      <td>Failed</td>\n",
       "      <td>Android</td>\n",
       "      <td>0</td>\n",
       "      <td>Purchases</td>\n",
       "      <td>Online</td>\n",
       "      <td>-54.34</td>\n",
       "      <td>28</td>\n",
       "      <td>3611.11</td>\n",
       "      <td>1</td>\n",
       "    </tr>\n",
       "    <tr>\n",
       "      <th>4</th>\n",
       "      <td>21/06/23</td>\n",
       "      <td>9:40:59 AM</td>\n",
       "      <td>Investment</td>\n",
       "      <td>Dummy Bank</td>\n",
       "      <td>Sagar</td>\n",
       "      <td>Mizoram</td>\n",
       "      <td>Completed</td>\n",
       "      <td>MacOS</td>\n",
       "      <td>1</td>\n",
       "      <td>Other</td>\n",
       "      <td>Online</td>\n",
       "      <td>12.38</td>\n",
       "      <td>25</td>\n",
       "      <td>374.89</td>\n",
       "      <td>1</td>\n",
       "    </tr>\n",
       "  </tbody>\n",
       "</table>\n",
       "</div>"
      ],
      "text/plain": [
       "       Date        Time Transaction_Type Payment_Gateway Transaction_City  \\\n",
       "0  20/04/23  4:50:22 AM           Refund       SamplePay         Durgapur   \n",
       "1  08/08/23  8:09:21 AM    Bank Transfer       SamplePay  Rajpur Sonarpur   \n",
       "2  25/06/23  7:49:01 AM    Bank Transfer           Other        New Delhi   \n",
       "3  28/01/24  5:44:12 AM     Subscription         UPI Pay        Bharatpur   \n",
       "4  21/06/23  9:40:59 AM       Investment      Dummy Bank            Sagar   \n",
       "\n",
       "  Transaction_State Transaction_Status Device_OS  Transaction_Frequency  \\\n",
       "0      Chhattisgarh          Completed     MacOS                      1   \n",
       "1  Himachal Pradesh            Pending   Windows                     30   \n",
       "2  Himachal Pradesh             Failed   Android                      2   \n",
       "3      Chhattisgarh             Failed   Android                      0   \n",
       "4           Mizoram          Completed     MacOS                      1   \n",
       "\n",
       "        Merchant_Category Transaction_Channel  Transaction_Amount_Deviation  \\\n",
       "0  Brand Vouchers and OTT            In-store                         25.02   \n",
       "1           Home delivery              Mobile                        -36.64   \n",
       "2               Utilities              Online                         44.19   \n",
       "3               Purchases              Online                        -54.34   \n",
       "4                   Other              Online                         12.38   \n",
       "\n",
       "   Days_Since_Last_Transaction   amount  fraud  \n",
       "0                            5   396.62      1  \n",
       "1                           20   121.94      1  \n",
       "2                           22   106.69      1  \n",
       "3                           28  3611.11      1  \n",
       "4                           25   374.89      1  "
      ]
     },
     "execution_count": 28,
     "metadata": {},
     "output_type": "execute_result"
    }
   ],
   "source": [
    "df.head()"
   ]
  },
  {
   "cell_type": "code",
   "execution_count": 29,
   "id": "145be160",
   "metadata": {},
   "outputs": [],
   "source": [
    "# importing date and time module in python \n",
    "\n",
    "import datetime as dt  "
   ]
  },
  {
   "cell_type": "code",
   "execution_count": 30,
   "id": "5d1d0ca7",
   "metadata": {},
   "outputs": [],
   "source": [
    "#Converting Date column to datetime\n",
    "df['Date']=pd.to_datetime(df['Date'],format='%d/%m/%y')"
   ]
  },
  {
   "cell_type": "markdown",
   "id": "4c0e905b",
   "metadata": {},
   "source": [
    "# Creating a new column 'year' column with the help of Datetime Module available in python , apply it to 'Date' column "
   ]
  },
  {
   "cell_type": "code",
   "execution_count": 32,
   "id": "1874da11",
   "metadata": {},
   "outputs": [],
   "source": [
    "#Extracting the year from the datetime module from the date column \n",
    "df['Year'] = df['Date'].dt.year"
   ]
  },
  {
   "cell_type": "code",
   "execution_count": 33,
   "id": "da647bca",
   "metadata": {},
   "outputs": [
    {
     "data": {
      "text/html": [
       "<div>\n",
       "<style scoped>\n",
       "    .dataframe tbody tr th:only-of-type {\n",
       "        vertical-align: middle;\n",
       "    }\n",
       "\n",
       "    .dataframe tbody tr th {\n",
       "        vertical-align: top;\n",
       "    }\n",
       "\n",
       "    .dataframe thead th {\n",
       "        text-align: right;\n",
       "    }\n",
       "</style>\n",
       "<table border=\"1\" class=\"dataframe\">\n",
       "  <thead>\n",
       "    <tr style=\"text-align: right;\">\n",
       "      <th></th>\n",
       "      <th>Date</th>\n",
       "      <th>Time</th>\n",
       "      <th>Transaction_Type</th>\n",
       "      <th>Payment_Gateway</th>\n",
       "      <th>Transaction_City</th>\n",
       "      <th>Transaction_State</th>\n",
       "      <th>Transaction_Status</th>\n",
       "      <th>Device_OS</th>\n",
       "      <th>Transaction_Frequency</th>\n",
       "      <th>Merchant_Category</th>\n",
       "      <th>Transaction_Channel</th>\n",
       "      <th>Transaction_Amount_Deviation</th>\n",
       "      <th>Days_Since_Last_Transaction</th>\n",
       "      <th>amount</th>\n",
       "      <th>fraud</th>\n",
       "      <th>Year</th>\n",
       "    </tr>\n",
       "  </thead>\n",
       "  <tbody>\n",
       "    <tr>\n",
       "      <th>0</th>\n",
       "      <td>2023-04-20</td>\n",
       "      <td>4:50:22 AM</td>\n",
       "      <td>Refund</td>\n",
       "      <td>SamplePay</td>\n",
       "      <td>Durgapur</td>\n",
       "      <td>Chhattisgarh</td>\n",
       "      <td>Completed</td>\n",
       "      <td>MacOS</td>\n",
       "      <td>1</td>\n",
       "      <td>Brand Vouchers and OTT</td>\n",
       "      <td>In-store</td>\n",
       "      <td>25.02</td>\n",
       "      <td>5</td>\n",
       "      <td>396.62</td>\n",
       "      <td>1</td>\n",
       "      <td>2023</td>\n",
       "    </tr>\n",
       "    <tr>\n",
       "      <th>1</th>\n",
       "      <td>2023-08-08</td>\n",
       "      <td>8:09:21 AM</td>\n",
       "      <td>Bank Transfer</td>\n",
       "      <td>SamplePay</td>\n",
       "      <td>Rajpur Sonarpur</td>\n",
       "      <td>Himachal Pradesh</td>\n",
       "      <td>Pending</td>\n",
       "      <td>Windows</td>\n",
       "      <td>30</td>\n",
       "      <td>Home delivery</td>\n",
       "      <td>Mobile</td>\n",
       "      <td>-36.64</td>\n",
       "      <td>20</td>\n",
       "      <td>121.94</td>\n",
       "      <td>1</td>\n",
       "      <td>2023</td>\n",
       "    </tr>\n",
       "    <tr>\n",
       "      <th>2</th>\n",
       "      <td>2023-06-25</td>\n",
       "      <td>7:49:01 AM</td>\n",
       "      <td>Bank Transfer</td>\n",
       "      <td>Other</td>\n",
       "      <td>New Delhi</td>\n",
       "      <td>Himachal Pradesh</td>\n",
       "      <td>Failed</td>\n",
       "      <td>Android</td>\n",
       "      <td>2</td>\n",
       "      <td>Utilities</td>\n",
       "      <td>Online</td>\n",
       "      <td>44.19</td>\n",
       "      <td>22</td>\n",
       "      <td>106.69</td>\n",
       "      <td>1</td>\n",
       "      <td>2023</td>\n",
       "    </tr>\n",
       "    <tr>\n",
       "      <th>3</th>\n",
       "      <td>2024-01-28</td>\n",
       "      <td>5:44:12 AM</td>\n",
       "      <td>Subscription</td>\n",
       "      <td>UPI Pay</td>\n",
       "      <td>Bharatpur</td>\n",
       "      <td>Chhattisgarh</td>\n",
       "      <td>Failed</td>\n",
       "      <td>Android</td>\n",
       "      <td>0</td>\n",
       "      <td>Purchases</td>\n",
       "      <td>Online</td>\n",
       "      <td>-54.34</td>\n",
       "      <td>28</td>\n",
       "      <td>3611.11</td>\n",
       "      <td>1</td>\n",
       "      <td>2024</td>\n",
       "    </tr>\n",
       "    <tr>\n",
       "      <th>4</th>\n",
       "      <td>2023-06-21</td>\n",
       "      <td>9:40:59 AM</td>\n",
       "      <td>Investment</td>\n",
       "      <td>Dummy Bank</td>\n",
       "      <td>Sagar</td>\n",
       "      <td>Mizoram</td>\n",
       "      <td>Completed</td>\n",
       "      <td>MacOS</td>\n",
       "      <td>1</td>\n",
       "      <td>Other</td>\n",
       "      <td>Online</td>\n",
       "      <td>12.38</td>\n",
       "      <td>25</td>\n",
       "      <td>374.89</td>\n",
       "      <td>1</td>\n",
       "      <td>2023</td>\n",
       "    </tr>\n",
       "  </tbody>\n",
       "</table>\n",
       "</div>"
      ],
      "text/plain": [
       "        Date        Time Transaction_Type Payment_Gateway Transaction_City  \\\n",
       "0 2023-04-20  4:50:22 AM           Refund       SamplePay         Durgapur   \n",
       "1 2023-08-08  8:09:21 AM    Bank Transfer       SamplePay  Rajpur Sonarpur   \n",
       "2 2023-06-25  7:49:01 AM    Bank Transfer           Other        New Delhi   \n",
       "3 2024-01-28  5:44:12 AM     Subscription         UPI Pay        Bharatpur   \n",
       "4 2023-06-21  9:40:59 AM       Investment      Dummy Bank            Sagar   \n",
       "\n",
       "  Transaction_State Transaction_Status Device_OS  Transaction_Frequency  \\\n",
       "0      Chhattisgarh          Completed     MacOS                      1   \n",
       "1  Himachal Pradesh            Pending   Windows                     30   \n",
       "2  Himachal Pradesh             Failed   Android                      2   \n",
       "3      Chhattisgarh             Failed   Android                      0   \n",
       "4           Mizoram          Completed     MacOS                      1   \n",
       "\n",
       "        Merchant_Category Transaction_Channel  Transaction_Amount_Deviation  \\\n",
       "0  Brand Vouchers and OTT            In-store                         25.02   \n",
       "1           Home delivery              Mobile                        -36.64   \n",
       "2               Utilities              Online                         44.19   \n",
       "3               Purchases              Online                        -54.34   \n",
       "4                   Other              Online                         12.38   \n",
       "\n",
       "   Days_Since_Last_Transaction   amount  fraud  Year  \n",
       "0                            5   396.62      1  2023  \n",
       "1                           20   121.94      1  2023  \n",
       "2                           22   106.69      1  2023  \n",
       "3                           28  3611.11      1  2024  \n",
       "4                           25   374.89      1  2023  "
      ]
     },
     "execution_count": 33,
     "metadata": {},
     "output_type": "execute_result"
    }
   ],
   "source": [
    "df.head()"
   ]
  },
  {
   "cell_type": "markdown",
   "id": "e6273ddd",
   "metadata": {},
   "source": [
    "# Create a month column with the month of transactions"
   ]
  },
  {
   "cell_type": "code",
   "execution_count": 34,
   "id": "52445d1f",
   "metadata": {},
   "outputs": [],
   "source": [
    "# Extracting the month from 'Date' column using datetime module available in python \n",
    "df['Month'] = df['Date'].dt.month"
   ]
  },
  {
   "cell_type": "code",
   "execution_count": 35,
   "id": "e1b6dd5a",
   "metadata": {},
   "outputs": [
    {
     "data": {
      "text/html": [
       "<div>\n",
       "<style scoped>\n",
       "    .dataframe tbody tr th:only-of-type {\n",
       "        vertical-align: middle;\n",
       "    }\n",
       "\n",
       "    .dataframe tbody tr th {\n",
       "        vertical-align: top;\n",
       "    }\n",
       "\n",
       "    .dataframe thead th {\n",
       "        text-align: right;\n",
       "    }\n",
       "</style>\n",
       "<table border=\"1\" class=\"dataframe\">\n",
       "  <thead>\n",
       "    <tr style=\"text-align: right;\">\n",
       "      <th></th>\n",
       "      <th>Date</th>\n",
       "      <th>Time</th>\n",
       "      <th>Transaction_Type</th>\n",
       "      <th>Payment_Gateway</th>\n",
       "      <th>Transaction_City</th>\n",
       "      <th>Transaction_State</th>\n",
       "      <th>Transaction_Status</th>\n",
       "      <th>Device_OS</th>\n",
       "      <th>Transaction_Frequency</th>\n",
       "      <th>Merchant_Category</th>\n",
       "      <th>Transaction_Channel</th>\n",
       "      <th>Transaction_Amount_Deviation</th>\n",
       "      <th>Days_Since_Last_Transaction</th>\n",
       "      <th>amount</th>\n",
       "      <th>fraud</th>\n",
       "      <th>Year</th>\n",
       "      <th>Month</th>\n",
       "    </tr>\n",
       "  </thead>\n",
       "  <tbody>\n",
       "    <tr>\n",
       "      <th>0</th>\n",
       "      <td>2023-04-20</td>\n",
       "      <td>4:50:22 AM</td>\n",
       "      <td>Refund</td>\n",
       "      <td>SamplePay</td>\n",
       "      <td>Durgapur</td>\n",
       "      <td>Chhattisgarh</td>\n",
       "      <td>Completed</td>\n",
       "      <td>MacOS</td>\n",
       "      <td>1</td>\n",
       "      <td>Brand Vouchers and OTT</td>\n",
       "      <td>In-store</td>\n",
       "      <td>25.02</td>\n",
       "      <td>5</td>\n",
       "      <td>396.62</td>\n",
       "      <td>1</td>\n",
       "      <td>2023</td>\n",
       "      <td>4</td>\n",
       "    </tr>\n",
       "    <tr>\n",
       "      <th>1</th>\n",
       "      <td>2023-08-08</td>\n",
       "      <td>8:09:21 AM</td>\n",
       "      <td>Bank Transfer</td>\n",
       "      <td>SamplePay</td>\n",
       "      <td>Rajpur Sonarpur</td>\n",
       "      <td>Himachal Pradesh</td>\n",
       "      <td>Pending</td>\n",
       "      <td>Windows</td>\n",
       "      <td>30</td>\n",
       "      <td>Home delivery</td>\n",
       "      <td>Mobile</td>\n",
       "      <td>-36.64</td>\n",
       "      <td>20</td>\n",
       "      <td>121.94</td>\n",
       "      <td>1</td>\n",
       "      <td>2023</td>\n",
       "      <td>8</td>\n",
       "    </tr>\n",
       "    <tr>\n",
       "      <th>2</th>\n",
       "      <td>2023-06-25</td>\n",
       "      <td>7:49:01 AM</td>\n",
       "      <td>Bank Transfer</td>\n",
       "      <td>Other</td>\n",
       "      <td>New Delhi</td>\n",
       "      <td>Himachal Pradesh</td>\n",
       "      <td>Failed</td>\n",
       "      <td>Android</td>\n",
       "      <td>2</td>\n",
       "      <td>Utilities</td>\n",
       "      <td>Online</td>\n",
       "      <td>44.19</td>\n",
       "      <td>22</td>\n",
       "      <td>106.69</td>\n",
       "      <td>1</td>\n",
       "      <td>2023</td>\n",
       "      <td>6</td>\n",
       "    </tr>\n",
       "    <tr>\n",
       "      <th>3</th>\n",
       "      <td>2024-01-28</td>\n",
       "      <td>5:44:12 AM</td>\n",
       "      <td>Subscription</td>\n",
       "      <td>UPI Pay</td>\n",
       "      <td>Bharatpur</td>\n",
       "      <td>Chhattisgarh</td>\n",
       "      <td>Failed</td>\n",
       "      <td>Android</td>\n",
       "      <td>0</td>\n",
       "      <td>Purchases</td>\n",
       "      <td>Online</td>\n",
       "      <td>-54.34</td>\n",
       "      <td>28</td>\n",
       "      <td>3611.11</td>\n",
       "      <td>1</td>\n",
       "      <td>2024</td>\n",
       "      <td>1</td>\n",
       "    </tr>\n",
       "    <tr>\n",
       "      <th>4</th>\n",
       "      <td>2023-06-21</td>\n",
       "      <td>9:40:59 AM</td>\n",
       "      <td>Investment</td>\n",
       "      <td>Dummy Bank</td>\n",
       "      <td>Sagar</td>\n",
       "      <td>Mizoram</td>\n",
       "      <td>Completed</td>\n",
       "      <td>MacOS</td>\n",
       "      <td>1</td>\n",
       "      <td>Other</td>\n",
       "      <td>Online</td>\n",
       "      <td>12.38</td>\n",
       "      <td>25</td>\n",
       "      <td>374.89</td>\n",
       "      <td>1</td>\n",
       "      <td>2023</td>\n",
       "      <td>6</td>\n",
       "    </tr>\n",
       "  </tbody>\n",
       "</table>\n",
       "</div>"
      ],
      "text/plain": [
       "        Date        Time Transaction_Type Payment_Gateway Transaction_City  \\\n",
       "0 2023-04-20  4:50:22 AM           Refund       SamplePay         Durgapur   \n",
       "1 2023-08-08  8:09:21 AM    Bank Transfer       SamplePay  Rajpur Sonarpur   \n",
       "2 2023-06-25  7:49:01 AM    Bank Transfer           Other        New Delhi   \n",
       "3 2024-01-28  5:44:12 AM     Subscription         UPI Pay        Bharatpur   \n",
       "4 2023-06-21  9:40:59 AM       Investment      Dummy Bank            Sagar   \n",
       "\n",
       "  Transaction_State Transaction_Status Device_OS  Transaction_Frequency  \\\n",
       "0      Chhattisgarh          Completed     MacOS                      1   \n",
       "1  Himachal Pradesh            Pending   Windows                     30   \n",
       "2  Himachal Pradesh             Failed   Android                      2   \n",
       "3      Chhattisgarh             Failed   Android                      0   \n",
       "4           Mizoram          Completed     MacOS                      1   \n",
       "\n",
       "        Merchant_Category Transaction_Channel  Transaction_Amount_Deviation  \\\n",
       "0  Brand Vouchers and OTT            In-store                         25.02   \n",
       "1           Home delivery              Mobile                        -36.64   \n",
       "2               Utilities              Online                         44.19   \n",
       "3               Purchases              Online                        -54.34   \n",
       "4                   Other              Online                         12.38   \n",
       "\n",
       "   Days_Since_Last_Transaction   amount  fraud  Year  Month  \n",
       "0                            5   396.62      1  2023      4  \n",
       "1                           20   121.94      1  2023      8  \n",
       "2                           22   106.69      1  2023      6  \n",
       "3                           28  3611.11      1  2024      1  \n",
       "4                           25   374.89      1  2023      6  "
      ]
     },
     "execution_count": 35,
     "metadata": {},
     "output_type": "execute_result"
    }
   ],
   "source": [
    "df.head()"
   ]
  },
  {
   "cell_type": "code",
   "execution_count": 37,
   "id": "aab54767",
   "metadata": {},
   "outputs": [
    {
     "data": {
      "text/plain": [
       "513     1\n",
       "559     1\n",
       "426     1\n",
       "171     1\n",
       "255     1\n",
       "       ..\n",
       "60     12\n",
       "520    12\n",
       "296    12\n",
       "227    12\n",
       "150    12\n",
       "Name: Month, Length: 647, dtype: int32"
      ]
     },
     "execution_count": 37,
     "metadata": {},
     "output_type": "execute_result"
    }
   ],
   "source": [
    "# df['Month].unique()\n",
    "#Sort the series or array or list \n",
    "df['Month'].sort_values(ascending=True)"
   ]
  },
  {
   "cell_type": "code",
   "execution_count": 40,
   "id": "83570d8a",
   "metadata": {},
   "outputs": [
    {
     "data": {
      "text/plain": [
       "array([ 1,  2,  3,  4,  5,  6,  7,  8,  9, 10, 11, 12])"
      ]
     },
     "execution_count": 40,
     "metadata": {},
     "output_type": "execute_result"
    }
   ],
   "source": [
    "df['Month'].sort_values(ascending=True).unique()"
   ]
  },
  {
   "cell_type": "markdown",
   "id": "be89deff",
   "metadata": {},
   "source": [
    "# Months column to have format 'MMM' as compared to numbers 1-12"
   ]
  },
  {
   "cell_type": "markdown",
   "id": "04834fec",
   "metadata": {},
   "source": [
    "### Creating a dictionary with key:Value pairs for the number of months and their respective names "
   ]
  },
  {
   "cell_type": "code",
   "execution_count": 41,
   "id": "ef5760ee",
   "metadata": {},
   "outputs": [],
   "source": [
    "#Defining the values in my dictionary :\n",
    "months = {\n",
    "    1:'Jan',2:'feb',3:'Mar',4:'Apr',5:'May',6:'Jun',7:'Jul',8:'Aug',9:'Sep',10:'Oct',11:'Nov',12:'Dec'\n",
    "}"
   ]
  },
  {
   "cell_type": "code",
   "execution_count": 42,
   "id": "8ade5383",
   "metadata": {},
   "outputs": [],
   "source": [
    "# Map the dictionary to the month column \n",
    "# It has not modified my original dataset \n",
    "\n",
    "df['Month']= df['Month'].map(months)"
   ]
  },
  {
   "cell_type": "code",
   "execution_count": 43,
   "id": "dd7ba50c",
   "metadata": {},
   "outputs": [
    {
     "data": {
      "text/html": [
       "<div>\n",
       "<style scoped>\n",
       "    .dataframe tbody tr th:only-of-type {\n",
       "        vertical-align: middle;\n",
       "    }\n",
       "\n",
       "    .dataframe tbody tr th {\n",
       "        vertical-align: top;\n",
       "    }\n",
       "\n",
       "    .dataframe thead th {\n",
       "        text-align: right;\n",
       "    }\n",
       "</style>\n",
       "<table border=\"1\" class=\"dataframe\">\n",
       "  <thead>\n",
       "    <tr style=\"text-align: right;\">\n",
       "      <th></th>\n",
       "      <th>Date</th>\n",
       "      <th>Time</th>\n",
       "      <th>Transaction_Type</th>\n",
       "      <th>Payment_Gateway</th>\n",
       "      <th>Transaction_City</th>\n",
       "      <th>Transaction_State</th>\n",
       "      <th>Transaction_Status</th>\n",
       "      <th>Device_OS</th>\n",
       "      <th>Transaction_Frequency</th>\n",
       "      <th>Merchant_Category</th>\n",
       "      <th>Transaction_Channel</th>\n",
       "      <th>Transaction_Amount_Deviation</th>\n",
       "      <th>Days_Since_Last_Transaction</th>\n",
       "      <th>amount</th>\n",
       "      <th>fraud</th>\n",
       "      <th>Year</th>\n",
       "      <th>Month</th>\n",
       "    </tr>\n",
       "  </thead>\n",
       "  <tbody>\n",
       "    <tr>\n",
       "      <th>0</th>\n",
       "      <td>2023-04-20</td>\n",
       "      <td>4:50:22 AM</td>\n",
       "      <td>Refund</td>\n",
       "      <td>SamplePay</td>\n",
       "      <td>Durgapur</td>\n",
       "      <td>Chhattisgarh</td>\n",
       "      <td>Completed</td>\n",
       "      <td>MacOS</td>\n",
       "      <td>1</td>\n",
       "      <td>Brand Vouchers and OTT</td>\n",
       "      <td>In-store</td>\n",
       "      <td>25.02</td>\n",
       "      <td>5</td>\n",
       "      <td>396.62</td>\n",
       "      <td>1</td>\n",
       "      <td>2023</td>\n",
       "      <td>Apr</td>\n",
       "    </tr>\n",
       "    <tr>\n",
       "      <th>1</th>\n",
       "      <td>2023-08-08</td>\n",
       "      <td>8:09:21 AM</td>\n",
       "      <td>Bank Transfer</td>\n",
       "      <td>SamplePay</td>\n",
       "      <td>Rajpur Sonarpur</td>\n",
       "      <td>Himachal Pradesh</td>\n",
       "      <td>Pending</td>\n",
       "      <td>Windows</td>\n",
       "      <td>30</td>\n",
       "      <td>Home delivery</td>\n",
       "      <td>Mobile</td>\n",
       "      <td>-36.64</td>\n",
       "      <td>20</td>\n",
       "      <td>121.94</td>\n",
       "      <td>1</td>\n",
       "      <td>2023</td>\n",
       "      <td>Aug</td>\n",
       "    </tr>\n",
       "    <tr>\n",
       "      <th>2</th>\n",
       "      <td>2023-06-25</td>\n",
       "      <td>7:49:01 AM</td>\n",
       "      <td>Bank Transfer</td>\n",
       "      <td>Other</td>\n",
       "      <td>New Delhi</td>\n",
       "      <td>Himachal Pradesh</td>\n",
       "      <td>Failed</td>\n",
       "      <td>Android</td>\n",
       "      <td>2</td>\n",
       "      <td>Utilities</td>\n",
       "      <td>Online</td>\n",
       "      <td>44.19</td>\n",
       "      <td>22</td>\n",
       "      <td>106.69</td>\n",
       "      <td>1</td>\n",
       "      <td>2023</td>\n",
       "      <td>Jun</td>\n",
       "    </tr>\n",
       "    <tr>\n",
       "      <th>3</th>\n",
       "      <td>2024-01-28</td>\n",
       "      <td>5:44:12 AM</td>\n",
       "      <td>Subscription</td>\n",
       "      <td>UPI Pay</td>\n",
       "      <td>Bharatpur</td>\n",
       "      <td>Chhattisgarh</td>\n",
       "      <td>Failed</td>\n",
       "      <td>Android</td>\n",
       "      <td>0</td>\n",
       "      <td>Purchases</td>\n",
       "      <td>Online</td>\n",
       "      <td>-54.34</td>\n",
       "      <td>28</td>\n",
       "      <td>3611.11</td>\n",
       "      <td>1</td>\n",
       "      <td>2024</td>\n",
       "      <td>Jan</td>\n",
       "    </tr>\n",
       "    <tr>\n",
       "      <th>4</th>\n",
       "      <td>2023-06-21</td>\n",
       "      <td>9:40:59 AM</td>\n",
       "      <td>Investment</td>\n",
       "      <td>Dummy Bank</td>\n",
       "      <td>Sagar</td>\n",
       "      <td>Mizoram</td>\n",
       "      <td>Completed</td>\n",
       "      <td>MacOS</td>\n",
       "      <td>1</td>\n",
       "      <td>Other</td>\n",
       "      <td>Online</td>\n",
       "      <td>12.38</td>\n",
       "      <td>25</td>\n",
       "      <td>374.89</td>\n",
       "      <td>1</td>\n",
       "      <td>2023</td>\n",
       "      <td>Jun</td>\n",
       "    </tr>\n",
       "  </tbody>\n",
       "</table>\n",
       "</div>"
      ],
      "text/plain": [
       "        Date        Time Transaction_Type Payment_Gateway Transaction_City  \\\n",
       "0 2023-04-20  4:50:22 AM           Refund       SamplePay         Durgapur   \n",
       "1 2023-08-08  8:09:21 AM    Bank Transfer       SamplePay  Rajpur Sonarpur   \n",
       "2 2023-06-25  7:49:01 AM    Bank Transfer           Other        New Delhi   \n",
       "3 2024-01-28  5:44:12 AM     Subscription         UPI Pay        Bharatpur   \n",
       "4 2023-06-21  9:40:59 AM       Investment      Dummy Bank            Sagar   \n",
       "\n",
       "  Transaction_State Transaction_Status Device_OS  Transaction_Frequency  \\\n",
       "0      Chhattisgarh          Completed     MacOS                      1   \n",
       "1  Himachal Pradesh            Pending   Windows                     30   \n",
       "2  Himachal Pradesh             Failed   Android                      2   \n",
       "3      Chhattisgarh             Failed   Android                      0   \n",
       "4           Mizoram          Completed     MacOS                      1   \n",
       "\n",
       "        Merchant_Category Transaction_Channel  Transaction_Amount_Deviation  \\\n",
       "0  Brand Vouchers and OTT            In-store                         25.02   \n",
       "1           Home delivery              Mobile                        -36.64   \n",
       "2               Utilities              Online                         44.19   \n",
       "3               Purchases              Online                        -54.34   \n",
       "4                   Other              Online                         12.38   \n",
       "\n",
       "   Days_Since_Last_Transaction   amount  fraud  Year Month  \n",
       "0                            5   396.62      1  2023   Apr  \n",
       "1                           20   121.94      1  2023   Aug  \n",
       "2                           22   106.69      1  2023   Jun  \n",
       "3                           28  3611.11      1  2024   Jan  \n",
       "4                           25   374.89      1  2023   Jun  "
      ]
     },
     "execution_count": 43,
     "metadata": {},
     "output_type": "execute_result"
    }
   ],
   "source": [
    "df.head()"
   ]
  },
  {
   "cell_type": "code",
   "execution_count": 51,
   "id": "35f1f03d",
   "metadata": {},
   "outputs": [
    {
     "data": {
      "text/plain": [
       "Index(['Transaction_Type', 'Payment_Gateway', 'Transaction_City',\n",
       "       'Transaction_State', 'Transaction_Status', 'Device_OS',\n",
       "       'Transaction_Frequency', 'Merchant_Category', 'Transaction_Channel',\n",
       "       'Transaction_Amount_Deviation', 'Days_Since_Last_Transaction', 'amount',\n",
       "       'fraud', 'Year', 'Month'],\n",
       "      dtype='object')"
      ]
     },
     "execution_count": 51,
     "metadata": {},
     "output_type": "execute_result"
    }
   ],
   "source": [
    "df.columns"
   ]
  },
  {
   "cell_type": "code",
   "execution_count": 54,
   "id": "0be301f0",
   "metadata": {},
   "outputs": [],
   "source": [
    "# df.drop(['Time'], axis=1, inplace=True), removed date and time "
   ]
  },
  {
   "cell_type": "code",
   "execution_count": 55,
   "id": "2acbe5b0",
   "metadata": {},
   "outputs": [
    {
     "data": {
      "text/plain": [
       "fraud\n",
       "0    492\n",
       "1    155\n",
       "Name: count, dtype: int64"
      ]
     },
     "execution_count": 55,
     "metadata": {},
     "output_type": "execute_result"
    }
   ],
   "source": [
    "df['fraud'].value_counts()"
   ]
  },
  {
   "cell_type": "code",
   "execution_count": 57,
   "id": "c40927ec",
   "metadata": {},
   "outputs": [
    {
     "data": {
      "text/plain": [
       "fraud\n",
       "0    76.043277\n",
       "1    23.956723\n",
       "Name: proportion, dtype: float64"
      ]
     },
     "execution_count": 57,
     "metadata": {},
     "output_type": "execute_result"
    }
   ],
   "source": [
    "df['fraud'].value_counts(normalize=True)*100"
   ]
  },
  {
   "cell_type": "code",
   "execution_count": 59,
   "id": "43fafa58",
   "metadata": {},
   "outputs": [
    {
     "data": {
      "text/plain": [
       "<Axes: xlabel='fraud', ylabel='count'>"
      ]
     },
     "execution_count": 59,
     "metadata": {},
     "output_type": "execute_result"
    },
    {
     "data": {
      "image/png": "[encoded data removed]",
      "text/plain": [
       "<Figure size 640x480 with 1 Axes>"
      ]
     },
     "metadata": {},
     "output_type": "display_data"
    }
   ],
   "source": [
    "# Visual using seaborn library for data visualization\n",
    "\n",
    "sns.countplot(data=df,x='fraud', color='yellow') "
   ]
  },
  {
   "cell_type": "markdown",
   "id": "5a8dd680",
   "metadata": {},
   "source": [
    "Create separate datasets for normal and fraud transactions"
   ]
  },
  {
   "cell_type": "code",
   "execution_count": 60,
   "id": "1136cc8e",
   "metadata": {},
   "outputs": [
    {
     "data": {
      "text/plain": [
       "Index(['Transaction_Type', 'Payment_Gateway', 'Transaction_City',\n",
       "       'Transaction_State', 'Transaction_Status', 'Device_OS',\n",
       "       'Transaction_Frequency', 'Merchant_Category', 'Transaction_Channel',\n",
       "       'Transaction_Amount_Deviation', 'Days_Since_Last_Transaction', 'amount',\n",
       "       'fraud', 'Year', 'Month'],\n",
       "      dtype='object')"
      ]
     },
     "execution_count": 60,
     "metadata": {},
     "output_type": "execute_result"
    }
   ],
   "source": [
    "df.columns"
   ]
  },
  {
   "cell_type": "code",
   "execution_count": null,
   "id": "002af027",
   "metadata": {},
   "outputs": [],
   "source": [
    "#Extracting fraudulent transactions only \n",
    "fraud=df[df['fraud']==1] #fraud"
   ]
  },
  {
   "cell_type": "code",
   "execution_count": 62,
   "id": "3ed9622f",
   "metadata": {},
   "outputs": [
    {
     "data": {
      "text/html": [
       "<div>\n",
       "<style scoped>\n",
       "    .dataframe tbody tr th:only-of-type {\n",
       "        vertical-align: middle;\n",
       "    }\n",
       "\n",
       "    .dataframe tbody tr th {\n",
       "        vertical-align: top;\n",
       "    }\n",
       "\n",
       "    .dataframe thead th {\n",
       "        text-align: right;\n",
       "    }\n",
       "</style>\n",
       "<table border=\"1\" class=\"dataframe\">\n",
       "  <thead>\n",
       "    <tr style=\"text-align: right;\">\n",
       "      <th></th>\n",
       "      <th>Transaction_Type</th>\n",
       "      <th>Payment_Gateway</th>\n",
       "      <th>Transaction_City</th>\n",
       "      <th>Transaction_State</th>\n",
       "      <th>Transaction_Status</th>\n",
       "      <th>Device_OS</th>\n",
       "      <th>Transaction_Frequency</th>\n",
       "      <th>Merchant_Category</th>\n",
       "      <th>Transaction_Channel</th>\n",
       "      <th>Transaction_Amount_Deviation</th>\n",
       "      <th>Days_Since_Last_Transaction</th>\n",
       "      <th>amount</th>\n",
       "      <th>fraud</th>\n",
       "      <th>Year</th>\n",
       "      <th>Month</th>\n",
       "    </tr>\n",
       "  </thead>\n",
       "  <tbody>\n",
       "    <tr>\n",
       "      <th>0</th>\n",
       "      <td>Refund</td>\n",
       "      <td>SamplePay</td>\n",
       "      <td>Durgapur</td>\n",
       "      <td>Chhattisgarh</td>\n",
       "      <td>Completed</td>\n",
       "      <td>MacOS</td>\n",
       "      <td>1</td>\n",
       "      <td>Brand Vouchers and OTT</td>\n",
       "      <td>In-store</td>\n",
       "      <td>25.02</td>\n",
       "      <td>5</td>\n",
       "      <td>396.62</td>\n",
       "      <td>1</td>\n",
       "      <td>2023</td>\n",
       "      <td>Apr</td>\n",
       "    </tr>\n",
       "    <tr>\n",
       "      <th>1</th>\n",
       "      <td>Bank Transfer</td>\n",
       "      <td>SamplePay</td>\n",
       "      <td>Rajpur Sonarpur</td>\n",
       "      <td>Himachal Pradesh</td>\n",
       "      <td>Pending</td>\n",
       "      <td>Windows</td>\n",
       "      <td>30</td>\n",
       "      <td>Home delivery</td>\n",
       "      <td>Mobile</td>\n",
       "      <td>-36.64</td>\n",
       "      <td>20</td>\n",
       "      <td>121.94</td>\n",
       "      <td>1</td>\n",
       "      <td>2023</td>\n",
       "      <td>Aug</td>\n",
       "    </tr>\n",
       "    <tr>\n",
       "      <th>2</th>\n",
       "      <td>Bank Transfer</td>\n",
       "      <td>Other</td>\n",
       "      <td>New Delhi</td>\n",
       "      <td>Himachal Pradesh</td>\n",
       "      <td>Failed</td>\n",
       "      <td>Android</td>\n",
       "      <td>2</td>\n",
       "      <td>Utilities</td>\n",
       "      <td>Online</td>\n",
       "      <td>44.19</td>\n",
       "      <td>22</td>\n",
       "      <td>106.69</td>\n",
       "      <td>1</td>\n",
       "      <td>2023</td>\n",
       "      <td>Jun</td>\n",
       "    </tr>\n",
       "  </tbody>\n",
       "</table>\n",
       "</div>"
      ],
      "text/plain": [
       "  Transaction_Type Payment_Gateway Transaction_City Transaction_State  \\\n",
       "0           Refund       SamplePay         Durgapur      Chhattisgarh   \n",
       "1    Bank Transfer       SamplePay  Rajpur Sonarpur  Himachal Pradesh   \n",
       "2    Bank Transfer           Other        New Delhi  Himachal Pradesh   \n",
       "\n",
       "  Transaction_Status Device_OS  Transaction_Frequency       Merchant_Category  \\\n",
       "0          Completed     MacOS                      1  Brand Vouchers and OTT   \n",
       "1            Pending   Windows                     30           Home delivery   \n",
       "2             Failed   Android                      2               Utilities   \n",
       "\n",
       "  Transaction_Channel  Transaction_Amount_Deviation  \\\n",
       "0            In-store                         25.02   \n",
       "1              Mobile                        -36.64   \n",
       "2              Online                         44.19   \n",
       "\n",
       "   Days_Since_Last_Transaction  amount  fraud  Year Month  \n",
       "0                            5  396.62      1  2023   Apr  \n",
       "1                           20  121.94      1  2023   Aug  \n",
       "2                           22  106.69      1  2023   Jun  "
      ]
     },
     "execution_count": 62,
     "metadata": {},
     "output_type": "execute_result"
    }
   ],
   "source": [
    "fraud.head(3)"
   ]
  },
  {
   "cell_type": "code",
   "execution_count": 64,
   "id": "affd2d95",
   "metadata": {},
   "outputs": [
    {
     "data": {
      "text/plain": [
       "fraud\n",
       "0    492\n",
       "1    155\n",
       "Name: count, dtype: int64"
      ]
     },
     "execution_count": 64,
     "metadata": {},
     "output_type": "execute_result"
    }
   ],
   "source": [
    "df.fraud.value_counts()"
   ]
  },
  {
   "cell_type": "code",
   "execution_count": 63,
   "id": "09214c04",
   "metadata": {},
   "outputs": [
    {
     "data": {
      "text/plain": [
       "(155, 15)"
      ]
     },
     "execution_count": 63,
     "metadata": {},
     "output_type": "execute_result"
    }
   ],
   "source": [
    "fraud.shape"
   ]
  },
  {
   "cell_type": "code",
   "execution_count": 65,
   "id": "1098dd3c",
   "metadata": {},
   "outputs": [],
   "source": [
    "#Extracting normal transactions\n",
    "normal=df[df['fraud']==0]"
   ]
  },
  {
   "cell_type": "code",
   "execution_count": 66,
   "id": "32b212e8",
   "metadata": {},
   "outputs": [
    {
     "data": {
      "text/plain": [
       "(492, 15)"
      ]
     },
     "execution_count": 66,
     "metadata": {},
     "output_type": "execute_result"
    }
   ],
   "source": [
    "normal.shape"
   ]
  },
  {
   "cell_type": "markdown",
   "id": "3c7bc5cf",
   "metadata": {},
   "source": [
    "# Analyzing the fraud dataset "
   ]
  },
  {
   "cell_type": "code",
   "execution_count": 67,
   "id": "4a799716",
   "metadata": {},
   "outputs": [
    {
     "data": {
      "text/html": [
       "<div>\n",
       "<style scoped>\n",
       "    .dataframe tbody tr th:only-of-type {\n",
       "        vertical-align: middle;\n",
       "    }\n",
       "\n",
       "    .dataframe tbody tr th {\n",
       "        vertical-align: top;\n",
       "    }\n",
       "\n",
       "    .dataframe thead th {\n",
       "        text-align: right;\n",
       "    }\n",
       "</style>\n",
       "<table border=\"1\" class=\"dataframe\">\n",
       "  <thead>\n",
       "    <tr style=\"text-align: right;\">\n",
       "      <th></th>\n",
       "      <th>Transaction_Type</th>\n",
       "      <th>Payment_Gateway</th>\n",
       "      <th>Transaction_City</th>\n",
       "      <th>Transaction_State</th>\n",
       "      <th>Transaction_Status</th>\n",
       "      <th>Device_OS</th>\n",
       "      <th>Transaction_Frequency</th>\n",
       "      <th>Merchant_Category</th>\n",
       "      <th>Transaction_Channel</th>\n",
       "      <th>Transaction_Amount_Deviation</th>\n",
       "      <th>Days_Since_Last_Transaction</th>\n",
       "      <th>amount</th>\n",
       "      <th>fraud</th>\n",
       "      <th>Year</th>\n",
       "      <th>Month</th>\n",
       "    </tr>\n",
       "  </thead>\n",
       "  <tbody>\n",
       "    <tr>\n",
       "      <th>0</th>\n",
       "      <td>Refund</td>\n",
       "      <td>SamplePay</td>\n",
       "      <td>Durgapur</td>\n",
       "      <td>Chhattisgarh</td>\n",
       "      <td>Completed</td>\n",
       "      <td>MacOS</td>\n",
       "      <td>1</td>\n",
       "      <td>Brand Vouchers and OTT</td>\n",
       "      <td>In-store</td>\n",
       "      <td>25.02</td>\n",
       "      <td>5</td>\n",
       "      <td>396.62</td>\n",
       "      <td>1</td>\n",
       "      <td>2023</td>\n",
       "      <td>Apr</td>\n",
       "    </tr>\n",
       "    <tr>\n",
       "      <th>1</th>\n",
       "      <td>Bank Transfer</td>\n",
       "      <td>SamplePay</td>\n",
       "      <td>Rajpur Sonarpur</td>\n",
       "      <td>Himachal Pradesh</td>\n",
       "      <td>Pending</td>\n",
       "      <td>Windows</td>\n",
       "      <td>30</td>\n",
       "      <td>Home delivery</td>\n",
       "      <td>Mobile</td>\n",
       "      <td>-36.64</td>\n",
       "      <td>20</td>\n",
       "      <td>121.94</td>\n",
       "      <td>1</td>\n",
       "      <td>2023</td>\n",
       "      <td>Aug</td>\n",
       "    </tr>\n",
       "    <tr>\n",
       "      <th>2</th>\n",
       "      <td>Bank Transfer</td>\n",
       "      <td>Other</td>\n",
       "      <td>New Delhi</td>\n",
       "      <td>Himachal Pradesh</td>\n",
       "      <td>Failed</td>\n",
       "      <td>Android</td>\n",
       "      <td>2</td>\n",
       "      <td>Utilities</td>\n",
       "      <td>Online</td>\n",
       "      <td>44.19</td>\n",
       "      <td>22</td>\n",
       "      <td>106.69</td>\n",
       "      <td>1</td>\n",
       "      <td>2023</td>\n",
       "      <td>Jun</td>\n",
       "    </tr>\n",
       "    <tr>\n",
       "      <th>3</th>\n",
       "      <td>Subscription</td>\n",
       "      <td>UPI Pay</td>\n",
       "      <td>Bharatpur</td>\n",
       "      <td>Chhattisgarh</td>\n",
       "      <td>Failed</td>\n",
       "      <td>Android</td>\n",
       "      <td>0</td>\n",
       "      <td>Purchases</td>\n",
       "      <td>Online</td>\n",
       "      <td>-54.34</td>\n",
       "      <td>28</td>\n",
       "      <td>3611.11</td>\n",
       "      <td>1</td>\n",
       "      <td>2024</td>\n",
       "      <td>Jan</td>\n",
       "    </tr>\n",
       "    <tr>\n",
       "      <th>4</th>\n",
       "      <td>Investment</td>\n",
       "      <td>Dummy Bank</td>\n",
       "      <td>Sagar</td>\n",
       "      <td>Mizoram</td>\n",
       "      <td>Completed</td>\n",
       "      <td>MacOS</td>\n",
       "      <td>1</td>\n",
       "      <td>Other</td>\n",
       "      <td>Online</td>\n",
       "      <td>12.38</td>\n",
       "      <td>25</td>\n",
       "      <td>374.89</td>\n",
       "      <td>1</td>\n",
       "      <td>2023</td>\n",
       "      <td>Jun</td>\n",
       "    </tr>\n",
       "  </tbody>\n",
       "</table>\n",
       "</div>"
      ],
      "text/plain": [
       "  Transaction_Type Payment_Gateway Transaction_City Transaction_State  \\\n",
       "0           Refund       SamplePay         Durgapur      Chhattisgarh   \n",
       "1    Bank Transfer       SamplePay  Rajpur Sonarpur  Himachal Pradesh   \n",
       "2    Bank Transfer           Other        New Delhi  Himachal Pradesh   \n",
       "3     Subscription         UPI Pay        Bharatpur      Chhattisgarh   \n",
       "4       Investment      Dummy Bank            Sagar           Mizoram   \n",
       "\n",
       "  Transaction_Status Device_OS  Transaction_Frequency       Merchant_Category  \\\n",
       "0          Completed     MacOS                      1  Brand Vouchers and OTT   \n",
       "1            Pending   Windows                     30           Home delivery   \n",
       "2             Failed   Android                      2               Utilities   \n",
       "3             Failed   Android                      0               Purchases   \n",
       "4          Completed     MacOS                      1                   Other   \n",
       "\n",
       "  Transaction_Channel  Transaction_Amount_Deviation  \\\n",
       "0            In-store                         25.02   \n",
       "1              Mobile                        -36.64   \n",
       "2              Online                         44.19   \n",
       "3              Online                        -54.34   \n",
       "4              Online                         12.38   \n",
       "\n",
       "   Days_Since_Last_Transaction   amount  fraud  Year Month  \n",
       "0                            5   396.62      1  2023   Apr  \n",
       "1                           20   121.94      1  2023   Aug  \n",
       "2                           22   106.69      1  2023   Jun  \n",
       "3                           28  3611.11      1  2024   Jan  \n",
       "4                           25   374.89      1  2023   Jun  "
      ]
     },
     "execution_count": 67,
     "metadata": {},
     "output_type": "execute_result"
    }
   ],
   "source": [
    "fraud.head()"
   ]
  },
  {
   "cell_type": "code",
   "execution_count": 68,
   "id": "e2f50473",
   "metadata": {},
   "outputs": [
    {
     "data": {
      "text/plain": [
       "Transaction_Type                 object\n",
       "Payment_Gateway                  object\n",
       "Transaction_City                 object\n",
       "Transaction_State                object\n",
       "Transaction_Status               object\n",
       "Device_OS                        object\n",
       "Transaction_Frequency             int64\n",
       "Merchant_Category                object\n",
       "Transaction_Channel              object\n",
       "Transaction_Amount_Deviation    float64\n",
       "Days_Since_Last_Transaction       int64\n",
       "amount                          float64\n",
       "fraud                             int64\n",
       "Year                              int32\n",
       "Month                            object\n",
       "dtype: object"
      ]
     },
     "execution_count": 68,
     "metadata": {},
     "output_type": "execute_result"
    }
   ],
   "source": [
    "#check data types \n",
    "\n",
    "fraud.dtypes"
   ]
  },
  {
   "cell_type": "code",
   "execution_count": 69,
   "id": "f7d3e906",
   "metadata": {},
   "outputs": [],
   "source": [
    "numeric_columns = fraud.select_dtypes(include=['int64','int32','float'])"
   ]
  },
  {
   "cell_type": "code",
   "execution_count": 70,
   "id": "9e738c2e",
   "metadata": {},
   "outputs": [],
   "source": [
    "cat_columns = fraud.select_dtypes(include='object')"
   ]
  },
  {
   "cell_type": "code",
   "execution_count": 71,
   "id": "b99fae99",
   "metadata": {},
   "outputs": [
    {
     "data": {
      "text/html": [
       "<div>\n",
       "<style scoped>\n",
       "    .dataframe tbody tr th:only-of-type {\n",
       "        vertical-align: middle;\n",
       "    }\n",
       "\n",
       "    .dataframe tbody tr th {\n",
       "        vertical-align: top;\n",
       "    }\n",
       "\n",
       "    .dataframe thead th {\n",
       "        text-align: right;\n",
       "    }\n",
       "</style>\n",
       "<table border=\"1\" class=\"dataframe\">\n",
       "  <thead>\n",
       "    <tr style=\"text-align: right;\">\n",
       "      <th></th>\n",
       "      <th>Transaction_Frequency</th>\n",
       "      <th>Transaction_Amount_Deviation</th>\n",
       "      <th>Days_Since_Last_Transaction</th>\n",
       "      <th>amount</th>\n",
       "      <th>fraud</th>\n",
       "      <th>Year</th>\n",
       "    </tr>\n",
       "  </thead>\n",
       "  <tbody>\n",
       "    <tr>\n",
       "      <th>Transaction_Frequency</th>\n",
       "      <td>1.000000</td>\n",
       "      <td>0.112079</td>\n",
       "      <td>0.048399</td>\n",
       "      <td>-0.047628</td>\n",
       "      <td>NaN</td>\n",
       "      <td>-0.068477</td>\n",
       "    </tr>\n",
       "    <tr>\n",
       "      <th>Transaction_Amount_Deviation</th>\n",
       "      <td>0.112079</td>\n",
       "      <td>1.000000</td>\n",
       "      <td>-0.057579</td>\n",
       "      <td>-0.034097</td>\n",
       "      <td>NaN</td>\n",
       "      <td>-0.005956</td>\n",
       "    </tr>\n",
       "    <tr>\n",
       "      <th>Days_Since_Last_Transaction</th>\n",
       "      <td>0.048399</td>\n",
       "      <td>-0.057579</td>\n",
       "      <td>1.000000</td>\n",
       "      <td>0.078918</td>\n",
       "      <td>NaN</td>\n",
       "      <td>-0.003681</td>\n",
       "    </tr>\n",
       "    <tr>\n",
       "      <th>amount</th>\n",
       "      <td>-0.047628</td>\n",
       "      <td>-0.034097</td>\n",
       "      <td>0.078918</td>\n",
       "      <td>1.000000</td>\n",
       "      <td>NaN</td>\n",
       "      <td>0.022114</td>\n",
       "    </tr>\n",
       "    <tr>\n",
       "      <th>fraud</th>\n",
       "      <td>NaN</td>\n",
       "      <td>NaN</td>\n",
       "      <td>NaN</td>\n",
       "      <td>NaN</td>\n",
       "      <td>NaN</td>\n",
       "      <td>NaN</td>\n",
       "    </tr>\n",
       "    <tr>\n",
       "      <th>Year</th>\n",
       "      <td>-0.068477</td>\n",
       "      <td>-0.005956</td>\n",
       "      <td>-0.003681</td>\n",
       "      <td>0.022114</td>\n",
       "      <td>NaN</td>\n",
       "      <td>1.000000</td>\n",
       "    </tr>\n",
       "  </tbody>\n",
       "</table>\n",
       "</div>"
      ],
      "text/plain": [
       "                              Transaction_Frequency  \\\n",
       "Transaction_Frequency                      1.000000   \n",
       "Transaction_Amount_Deviation               0.112079   \n",
       "Days_Since_Last_Transaction                0.048399   \n",
       "amount                                    -0.047628   \n",
       "fraud                                           NaN   \n",
       "Year                                      -0.068477   \n",
       "\n",
       "                              Transaction_Amount_Deviation  \\\n",
       "Transaction_Frequency                             0.112079   \n",
       "Transaction_Amount_Deviation                      1.000000   \n",
       "Days_Since_Last_Transaction                      -0.057579   \n",
       "amount                                           -0.034097   \n",
       "fraud                                                  NaN   \n",
       "Year                                             -0.005956   \n",
       "\n",
       "                              Days_Since_Last_Transaction    amount  fraud  \\\n",
       "Transaction_Frequency                            0.048399 -0.047628    NaN   \n",
       "Transaction_Amount_Deviation                    -0.057579 -0.034097    NaN   \n",
       "Days_Since_Last_Transaction                      1.000000  0.078918    NaN   \n",
       "amount                                           0.078918  1.000000    NaN   \n",
       "fraud                                                 NaN       NaN    NaN   \n",
       "Year                                            -0.003681  0.022114    NaN   \n",
       "\n",
       "                                  Year  \n",
       "Transaction_Frequency        -0.068477  \n",
       "Transaction_Amount_Deviation -0.005956  \n",
       "Days_Since_Last_Transaction  -0.003681  \n",
       "amount                        0.022114  \n",
       "fraud                              NaN  \n",
       "Year                          1.000000  "
      ]
     },
     "execution_count": 71,
     "metadata": {},
     "output_type": "execute_result"
    }
   ],
   "source": [
    "numeric_columns.corr()"
   ]
  },
  {
   "cell_type": "markdown",
   "id": "39ecbe2d",
   "metadata": {},
   "source": [
    "Visualising entire dataset "
   ]
  },
  {
   "cell_type": "code",
   "execution_count": 72,
   "id": "6a8efcc8",
   "metadata": {},
   "outputs": [
    {
     "data": {
      "text/plain": [
       "<seaborn.axisgrid.PairGrid at 0x1b386b9d9d0>"
      ]
     },
     "execution_count": 72,
     "metadata": {},
     "output_type": "execute_result"
    },
    {
     "data": {
      "image/png": "[encoded data removed]",
      "text/plain": [
       "<Figure size 1308.88x1250 with 25 Axes>"
      ]
     },
     "metadata": {},
     "output_type": "display_data"
    }
   ],
   "source": [
    "# Visualising the different features basis the fraud occurences as a subplot\n",
    "\n",
    "sns.pairplot(data=df, hue='fraud', palette='pastel', diag_kind='dist')"
   ]
  },
  {
   "cell_type": "markdown",
   "id": "5d255f6d",
   "metadata": {},
   "source": [
    "- Visualising different features basis the fraud occurences as a subplot "
   ]
  },
  {
   "cell_type": "code",
   "execution_count": 73,
   "id": "106f61b6",
   "metadata": {},
   "outputs": [
    {
     "data": {
      "application/vnd.plotly.v1+json": {
       "config": {
        "plotlyServerURL": "https://plot.ly"
       },
       "data": [
        {
         "alignmentgroup": "True",
         "hovertemplate": "color=Bank Transfer<br>Transaction type=%{x}<br>Fraud markers=%{y}<extra></extra>",
         "legendgroup": "Bank Transfer",
         "marker": {
          "color": "rgb(102, 197, 204)",
          "pattern": {
           "shape": ""
          }
         },
         "name": "Bank Transfer",
         "offsetgroup": "Bank Transfer",
         "orientation": "v",
         "showlegend": true,
         "textposition": "auto",
         "type": "bar",
         "x": [
          "Bank Transfer"
         ],
         "xaxis": "x",
         "y": [
          27
         ],
         "yaxis": "y"
        },
        {
         "alignmentgroup": "True",
         "hovertemplate": "color=Subscription<br>Transaction type=%{x}<br>Fraud markers=%{y}<extra></extra>",
         "legendgroup": "Subscription",
         "marker": {
          "color": "rgb(246, 207, 113)",
          "pattern": {
           "shape": ""
          }
         },
         "name": "Subscription",
         "offsetgroup": "Subscription",
         "orientation": "v",
         "showlegend": true,
         "textposition": "auto",
         "type": "bar",
         "x": [
          "Subscription"
         ],
         "xaxis": "x",
         "y": [
          25
         ],
         "yaxis": "y"
        },
        {
         "alignmentgroup": "True",
         "hovertemplate": "color=Investment<br>Transaction type=%{x}<br>Fraud markers=%{y}<extra></extra>",
         "legendgroup": "Investment",
         "marker": {
          "color": "rgb(248, 156, 116)",
          "pattern": {
           "shape": ""
          }
         },
         "name": "Investment",
         "offsetgroup": "Investment",
         "orientation": "v",
         "showlegend": true,
         "textposition": "auto",
         "type": "bar",
         "x": [
          "Investment"
         ],
         "xaxis": "x",
         "y": [
          23
         ],
         "yaxis": "y"
        },
        {
         "alignmentgroup": "True",
         "hovertemplate": "color=Refund<br>Transaction type=%{x}<br>Fraud markers=%{y}<extra></extra>",
         "legendgroup": "Refund",
         "marker": {
          "color": "rgb(220, 176, 242)",
          "pattern": {
           "shape": ""
          }
         },
         "name": "Refund",
         "offsetgroup": "Refund",
         "orientation": "v",
         "showlegend": true,
         "textposition": "auto",
         "type": "bar",
         "x": [
          "Refund"
         ],
         "xaxis": "x",
         "y": [
          22
         ],
         "yaxis": "y"
        },
        {
         "alignmentgroup": "True",
         "hovertemplate": "color=Other<br>Transaction type=%{x}<br>Fraud markers=%{y}<extra></extra>",
         "legendgroup": "Other",
         "marker": {
          "color": "rgb(135, 197, 95)",
          "pattern": {
           "shape": ""
          }
         },
         "name": "Other",
         "offsetgroup": "Other",
         "orientation": "v",
         "showlegend": true,
         "textposition": "auto",
         "type": "bar",
         "x": [
          "Other"
         ],
         "xaxis": "x",
         "y": [
          21
         ],
         "yaxis": "y"
        },
        {
         "alignmentgroup": "True",
         "hovertemplate": "color=Bill Payment<br>Transaction type=%{x}<br>Fraud markers=%{y}<extra></extra>",
         "legendgroup": "Bill Payment",
         "marker": {
          "color": "rgb(158, 185, 243)",
          "pattern": {
           "shape": ""
          }
         },
         "name": "Bill Payment",
         "offsetgroup": "Bill Payment",
         "orientation": "v",
         "showlegend": true,
         "textposition": "auto",
         "type": "bar",
         "x": [
          "Bill Payment"
         ],
         "xaxis": "x",
         "y": [
          21
         ],
         "yaxis": "y"
        },
        {
         "alignmentgroup": "True",
         "hovertemplate": "color=Purchase<br>Transaction type=%{x}<br>Fraud markers=%{y}<extra></extra>",
         "legendgroup": "Purchase",
         "marker": {
          "color": "rgb(254, 136, 177)",
          "pattern": {
           "shape": ""
          }
         },
         "name": "Purchase",
         "offsetgroup": "Purchase",
         "orientation": "v",
         "showlegend": true,
         "textposition": "auto",
         "type": "bar",
         "x": [
          "Purchase"
         ],
         "xaxis": "x",
         "y": [
          16
         ],
         "yaxis": "y"
        }
       ],
       "layout": {
        "barmode": "relative",
        "legend": {
         "title": {
          "text": "color"
         },
         "tracegroupgap": 0
        },
        "template": {
         "data": {
          "bar": [
           {
            "error_x": {
             "color": "#2a3f5f"
            },
            "error_y": {
             "color": "#2a3f5f"
            },
            "marker": {
             "line": {
              "color": "#E5ECF6",
              "width": 0.5
             },
             "pattern": {
              "fillmode": "overlay",
              "size": 10,
              "solidity": 0.2
             }
            },
            "type": "bar"
           }
          ],
          "barpolar": [
           {
            "marker": {
             "line": {
              "color": "#E5ECF6",
              "width": 0.5
             },
             "pattern": {
              "fillmode": "overlay",
              "size": 10,
              "solidity": 0.2
             }
            },
            "type": "barpolar"
           }
          ],
          "carpet": [
           {
            "aaxis": {
             "endlinecolor": "#2a3f5f",
             "gridcolor": "white",
             "linecolor": "white",
             "minorgridcolor": "white",
             "startlinecolor": "#2a3f5f"
            },
            "baxis": {
             "endlinecolor": "#2a3f5f",
             "gridcolor": "white",
             "linecolor": "white",
             "minorgridcolor": "white",
             "startlinecolor": "#2a3f5f"
            },
            "type": "carpet"
           }
          ],
          "choropleth": [
           {
            "colorbar": {
             "outlinewidth": 0,
             "ticks": ""
            },
            "type": "choropleth"
           }
          ],
          "contour": [
           {
            "colorbar": {
             "outlinewidth": 0,
             "ticks": ""
            },
            "colorscale": [
             [
              0,
              "#0d0887"
             ],
             [
              0.1111111111111111,
              "#46039f"
             ],
             [
              0.2222222222222222,
              "#7201a8"
             ],
             [
              0.3333333333333333,
              "#9c179e"
             ],
             [
              0.4444444444444444,
              "#bd3786"
             ],
             [
              0.5555555555555556,
              "#d8576b"
             ],
             [
              0.6666666666666666,
              "#ed7953"
             ],
             [
              0.7777777777777778,
              "#fb9f3a"
             ],
             [
              0.8888888888888888,
              "#fdca26"
             ],
             [
              1,
              "#f0f921"
             ]
            ],
            "type": "contour"
           }
          ],
          "contourcarpet": [
           {
            "colorbar": {
             "outlinewidth": 0,
             "ticks": ""
            },
            "type": "contourcarpet"
           }
          ],
          "heatmap": [
           {
            "colorbar": {
             "outlinewidth": 0,
             "ticks": ""
            },
            "colorscale": [
             [
              0,
              "#0d0887"
             ],
             [
              0.1111111111111111,
              "#46039f"
             ],
             [
              0.2222222222222222,
              "#7201a8"
             ],
             [
              0.3333333333333333,
              "#9c179e"
             ],
             [
              0.4444444444444444,
              "#bd3786"
             ],
             [
              0.5555555555555556,
              "#d8576b"
             ],
             [
              0.6666666666666666,
              "#ed7953"
             ],
             [
              0.7777777777777778,
              "#fb9f3a"
             ],
             [
              0.8888888888888888,
              "#fdca26"
             ],
             [
              1,
              "#f0f921"
             ]
            ],
            "type": "heatmap"
           }
          ],
          "heatmapgl": [
           {
            "colorbar": {
             "outlinewidth": 0,
             "ticks": ""
            },
            "colorscale": [
             [
              0,
              "#0d0887"
             ],
             [
              0.1111111111111111,
              "#46039f"
             ],
             [
              0.2222222222222222,
              "#7201a8"
             ],
             [
              0.3333333333333333,
              "#9c179e"
             ],
             [
              0.4444444444444444,
              "#bd3786"
             ],
             [
              0.5555555555555556,
              "#d8576b"
             ],
             [
              0.6666666666666666,
              "#ed7953"
             ],
             [
              0.7777777777777778,
              "#fb9f3a"
             ],
             [
              0.8888888888888888,
              "#fdca26"
             ],
             [
              1,
              "#f0f921"
             ]
            ],
            "type": "heatmapgl"
           }
          ],
          "histogram": [
           {
            "marker": {
             "pattern": {
              "fillmode": "overlay",
              "size": 10,
              "solidity": 0.2
             }
            },
            "type": "histogram"
           }
          ],
          "histogram2d": [
           {
            "colorbar": {
             "outlinewidth": 0,
             "ticks": ""
            },
            "colorscale": [
             [
              0,
              "#0d0887"
             ],
             [
              0.1111111111111111,
              "#46039f"
             ],
             [
              0.2222222222222222,
              "#7201a8"
             ],
             [
              0.3333333333333333,
              "#9c179e"
             ],
             [
              0.4444444444444444,
              "#bd3786"
             ],
             [
              0.5555555555555556,
              "#d8576b"
             ],
             [
              0.6666666666666666,
              "#ed7953"
             ],
             [
              0.7777777777777778,
              "#fb9f3a"
             ],
             [
              0.8888888888888888,
              "#fdca26"
             ],
             [
              1,
              "#f0f921"
             ]
            ],
            "type": "histogram2d"
           }
          ],
          "histogram2dcontour": [
           {
            "colorbar": {
             "outlinewidth": 0,
             "ticks": ""
            },
            "colorscale": [
             [
              0,
              "#0d0887"
             ],
             [
              0.1111111111111111,
              "#46039f"
             ],
             [
              0.2222222222222222,
              "#7201a8"
             ],
             [
              0.3333333333333333,
              "#9c179e"
             ],
             [
              0.4444444444444444,
              "#bd3786"
             ],
             [
              0.5555555555555556,
              "#d8576b"
             ],
             [
              0.6666666666666666,
              "#ed7953"
             ],
             [
              0.7777777777777778,
              "#fb9f3a"
             ],
             [
              0.8888888888888888,
              "#fdca26"
             ],
             [
              1,
              "#f0f921"
             ]
            ],
            "type": "histogram2dcontour"
           }
          ],
          "mesh3d": [
           {
            "colorbar": {
             "outlinewidth": 0,
             "ticks": ""
            },
            "type": "mesh3d"
           }
          ],
          "parcoords": [
           {
            "line": {
             "colorbar": {
              "outlinewidth": 0,
              "ticks": ""
             }
            },
            "type": "parcoords"
           }
          ],
          "pie": [
           {
            "automargin": true,
            "type": "pie"
           }
          ],
          "scatter": [
           {
            "fillpattern": {
             "fillmode": "overlay",
             "size": 10,
             "solidity": 0.2
            },
            "type": "scatter"
           }
          ],
          "scatter3d": [
           {
            "line": {
             "colorbar": {
              "outlinewidth": 0,
              "ticks": ""
             }
            },
            "marker": {
             "colorbar": {
              "outlinewidth": 0,
              "ticks": ""
             }
            },
            "type": "scatter3d"
           }
          ],
          "scattercarpet": [
           {
            "marker": {
             "colorbar": {
              "outlinewidth": 0,
              "ticks": ""
             }
            },
            "type": "scattercarpet"
           }
          ],
          "scattergeo": [
           {
            "marker": {
             "colorbar": {
              "outlinewidth": 0,
              "ticks": ""
             }
            },
            "type": "scattergeo"
           }
          ],
          "scattergl": [
           {
            "marker": {
             "colorbar": {
              "outlinewidth": 0,
              "ticks": ""
             }
            },
            "type": "scattergl"
           }
          ],
          "scattermapbox": [
           {
            "marker": {
             "colorbar": {
              "outlinewidth": 0,
              "ticks": ""
             }
            },
            "type": "scattermapbox"
           }
          ],
          "scatterpolar": [
           {
            "marker": {
             "colorbar": {
              "outlinewidth": 0,
              "ticks": ""
             }
            },
            "type": "scatterpolar"
           }
          ],
          "scatterpolargl": [
           {
            "marker": {
             "colorbar": {
              "outlinewidth": 0,
              "ticks": ""
             }
            },
            "type": "scatterpolargl"
           }
          ],
          "scatterternary": [
           {
            "marker": {
             "colorbar": {
              "outlinewidth": 0,
              "ticks": ""
             }
            },
            "type": "scatterternary"
           }
          ],
          "surface": [
           {
            "colorbar": {
             "outlinewidth": 0,
             "ticks": ""
            },
            "colorscale": [
             [
              0,
              "#0d0887"
             ],
             [
              0.1111111111111111,
              "#46039f"
             ],
             [
              0.2222222222222222,
              "#7201a8"
             ],
             [
              0.3333333333333333,
              "#9c179e"
             ],
             [
              0.4444444444444444,
              "#bd3786"
             ],
             [
              0.5555555555555556,
              "#d8576b"
             ],
             [
              0.6666666666666666,
              "#ed7953"
             ],
             [
              0.7777777777777778,
              "#fb9f3a"
             ],
             [
              0.8888888888888888,
              "#fdca26"
             ],
             [
              1,
              "#f0f921"
             ]
            ],
            "type": "surface"
           }
          ],
          "table": [
           {
            "cells": {
             "fill": {
              "color": "#EBF0F8"
             },
             "line": {
              "color": "white"
             }
            },
            "header": {
             "fill": {
              "color": "#C8D4E3"
             },
             "line": {
              "color": "white"
             }
            },
            "type": "table"
           }
          ]
         },
         "layout": {
          "annotationdefaults": {
           "arrowcolor": "#2a3f5f",
           "arrowhead": 0,
           "arrowwidth": 1
          },
          "autotypenumbers": "strict",
          "coloraxis": {
           "colorbar": {
            "outlinewidth": 0,
            "ticks": ""
           }
          },
          "colorscale": {
           "diverging": [
            [
             0,
             "#8e0152"
            ],
            [
             0.1,
             "#c51b7d"
            ],
            [
             0.2,
             "#de77ae"
            ],
            [
             0.3,
             "#f1b6da"
            ],
            [
             0.4,
             "#fde0ef"
            ],
            [
             0.5,
             "#f7f7f7"
            ],
            [
             0.6,
             "#e6f5d0"
            ],
            [
             0.7,
             "#b8e186"
            ],
            [
             0.8,
             "#7fbc41"
            ],
            [
             0.9,
             "#4d9221"
            ],
            [
             1,
             "#276419"
            ]
           ],
           "sequential": [
            [
             0,
             "#0d0887"
            ],
            [
             0.1111111111111111,
             "#46039f"
            ],
            [
             0.2222222222222222,
             "#7201a8"
            ],
            [
             0.3333333333333333,
             "#9c179e"
            ],
            [
             0.4444444444444444,
             "#bd3786"
            ],
            [
             0.5555555555555556,
             "#d8576b"
            ],
            [
             0.6666666666666666,
             "#ed7953"
            ],
            [
             0.7777777777777778,
             "#fb9f3a"
            ],
            [
             0.8888888888888888,
             "#fdca26"
            ],
            [
             1,
             "#f0f921"
            ]
           ],
           "sequentialminus": [
            [
             0,
             "#0d0887"
            ],
            [
             0.1111111111111111,
             "#46039f"
            ],
            [
             0.2222222222222222,
             "#7201a8"
            ],
            [
             0.3333333333333333,
             "#9c179e"
            ],
            [
             0.4444444444444444,
             "#bd3786"
            ],
            [
             0.5555555555555556,
             "#d8576b"
            ],
            [
             0.6666666666666666,
             "#ed7953"
            ],
            [
             0.7777777777777778,
             "#fb9f3a"
            ],
            [
             0.8888888888888888,
             "#fdca26"
            ],
            [
             1,
             "#f0f921"
            ]
           ]
          },
          "colorway": [
           "#636efa",
           "#EF553B",
           "#00cc96",
           "#ab63fa",
           "#FFA15A",
           "#19d3f3",
           "#FF6692",
           "#B6E880",
           "#FF97FF",
           "#FECB52"
          ],
          "font": {
           "color": "#2a3f5f"
          },
          "geo": {
           "bgcolor": "white",
           "lakecolor": "white",
           "landcolor": "#E5ECF6",
           "showlakes": true,
           "showland": true,
           "subunitcolor": "white"
          },
          "hoverlabel": {
           "align": "left"
          },
          "hovermode": "closest",
          "mapbox": {
           "style": "light"
          },
          "paper_bgcolor": "white",
          "plot_bgcolor": "#E5ECF6",
          "polar": {
           "angularaxis": {
            "gridcolor": "white",
            "linecolor": "white",
            "ticks": ""
           },
           "bgcolor": "#E5ECF6",
           "radialaxis": {
            "gridcolor": "white",
            "linecolor": "white",
            "ticks": ""
           }
          },
          "scene": {
           "xaxis": {
            "backgroundcolor": "#E5ECF6",
            "gridcolor": "white",
            "gridwidth": 2,
            "linecolor": "white",
            "showbackground": true,
            "ticks": "",
            "zerolinecolor": "white"
           },
           "yaxis": {
            "backgroundcolor": "#E5ECF6",
            "gridcolor": "white",
            "gridwidth": 2,
            "linecolor": "white",
            "showbackground": true,
            "ticks": "",
            "zerolinecolor": "white"
           },
           "zaxis": {
            "backgroundcolor": "#E5ECF6",
            "gridcolor": "white",
            "gridwidth": 2,
            "linecolor": "white",
            "showbackground": true,
            "ticks": "",
            "zerolinecolor": "white"
           }
          },
          "shapedefaults": {
           "line": {
            "color": "#2a3f5f"
           }
          },
          "ternary": {
           "aaxis": {
            "gridcolor": "white",
            "linecolor": "white",
            "ticks": ""
           },
           "baxis": {
            "gridcolor": "white",
            "linecolor": "white",
            "ticks": ""
           },
           "bgcolor": "#E5ECF6",
           "caxis": {
            "gridcolor": "white",
            "linecolor": "white",
            "ticks": ""
           }
          },
          "title": {
           "x": 0.05
          },
          "xaxis": {
           "automargin": true,
           "gridcolor": "white",
           "linecolor": "white",
           "ticks": "",
           "title": {
            "standoff": 15
           },
           "zerolinecolor": "white",
           "zerolinewidth": 2
          },
          "yaxis": {
           "automargin": true,
           "gridcolor": "white",
           "linecolor": "white",
           "ticks": "",
           "title": {
            "standoff": 15
           },
           "zerolinecolor": "white",
           "zerolinewidth": 2
          }
         }
        },
        "title": {
         "text": "Fraud distribution by transaction type"
        },
        "xaxis": {
         "anchor": "y",
         "categoryorder": "total descending",
         "domain": [
          0,
          1
         ],
         "title": {
          "text": "Transaction type"
         }
        },
        "yaxis": {
         "anchor": "x",
         "domain": [
          0,
          1
         ],
         "title": {
          "text": "Fraud markers"
         }
        }
       }
      }
     },
     "metadata": {},
     "output_type": "display_data"
    }
   ],
   "source": [
    "import plotly.express as px\n",
    "\n",
    "#plot 1: Fraud distribution by transaction type\n",
    "fig = px.bar(x=fraud['Transaction_Type'].value_counts().index,\n",
    "             y= fraud['Transaction_Type'].value_counts().values,\n",
    "             color=fraud['Transaction_Type'].value_counts().index,\n",
    "             title = \"Fraud distribution by transaction type\",\n",
    "             labels = {'x': 'Transaction type', 'y': 'Fraud markers'},\n",
    "             color_discrete_sequence= px.colors.qualitative.Pastel)\n",
    "fig.update_layout(xaxis={'categoryorder': 'total descending'})\n",
    "fig.show()             "
   ]
  },
  {
   "cell_type": "code",
   "execution_count": 74,
   "id": "48dce21a",
   "metadata": {},
   "outputs": [
    {
     "data": {
      "application/vnd.plotly.v1+json": {
       "config": {
        "plotlyServerURL": "https://plot.ly"
       },
       "data": [
        {
         "alignmentgroup": "True",
         "hovertemplate": "color=UPI Pay<br>Payment Gateway=%{x}<br>Fraud markers=%{y}<extra></extra>",
         "legendgroup": "UPI Pay",
         "marker": {
          "color": "rgb(102, 197, 204)",
          "pattern": {
           "shape": ""
          }
         },
         "name": "UPI Pay",
         "offsetgroup": "UPI Pay",
         "orientation": "v",
         "showlegend": true,
         "textposition": "auto",
         "type": "bar",
         "x": [
          "UPI Pay"
         ],
         "xaxis": "x",
         "y": [
          20
         ],
         "yaxis": "y"
        },
        {
         "alignmentgroup": "True",
         "hovertemplate": "color=Sigma Bank<br>Payment Gateway=%{x}<br>Fraud markers=%{y}<extra></extra>",
         "legendgroup": "Sigma Bank",
         "marker": {
          "color": "rgb(246, 207, 113)",
          "pattern": {
           "shape": ""
          }
         },
         "name": "Sigma Bank",
         "offsetgroup": "Sigma Bank",
         "orientation": "v",
         "showlegend": true,
         "textposition": "auto",
         "type": "bar",
         "x": [
          "Sigma Bank"
         ],
         "xaxis": "x",
         "y": [
          19
         ],
         "yaxis": "y"
        },
        {
         "alignmentgroup": "True",
         "hovertemplate": "color=Other<br>Payment Gateway=%{x}<br>Fraud markers=%{y}<extra></extra>",
         "legendgroup": "Other",
         "marker": {
          "color": "rgb(248, 156, 116)",
          "pattern": {
           "shape": ""
          }
         },
         "name": "Other",
         "offsetgroup": "Other",
         "orientation": "v",
         "showlegend": true,
         "textposition": "auto",
         "type": "bar",
         "x": [
          "Other"
         ],
         "xaxis": "x",
         "y": [
          18
         ],
         "yaxis": "y"
        },
        {
         "alignmentgroup": "True",
         "hovertemplate": "color=Bank of Data<br>Payment Gateway=%{x}<br>Fraud markers=%{y}<extra></extra>",
         "legendgroup": "Bank of Data",
         "marker": {
          "color": "rgb(220, 176, 242)",
          "pattern": {
           "shape": ""
          }
         },
         "name": "Bank of Data",
         "offsetgroup": "Bank of Data",
         "orientation": "v",
         "showlegend": true,
         "textposition": "auto",
         "type": "bar",
         "x": [
          "Bank of Data"
         ],
         "xaxis": "x",
         "y": [
          18
         ],
         "yaxis": "y"
        },
        {
         "alignmentgroup": "True",
         "hovertemplate": "color=SamplePay<br>Payment Gateway=%{x}<br>Fraud markers=%{y}<extra></extra>",
         "legendgroup": "SamplePay",
         "marker": {
          "color": "rgb(135, 197, 95)",
          "pattern": {
           "shape": ""
          }
         },
         "name": "SamplePay",
         "offsetgroup": "SamplePay",
         "orientation": "v",
         "showlegend": true,
         "textposition": "auto",
         "type": "bar",
         "x": [
          "SamplePay"
         ],
         "xaxis": "x",
         "y": [
          17
         ],
         "yaxis": "y"
        },
        {
         "alignmentgroup": "True",
         "hovertemplate": "color=Dummy Bank<br>Payment Gateway=%{x}<br>Fraud markers=%{y}<extra></extra>",
         "legendgroup": "Dummy Bank",
         "marker": {
          "color": "rgb(158, 185, 243)",
          "pattern": {
           "shape": ""
          }
         },
         "name": "Dummy Bank",
         "offsetgroup": "Dummy Bank",
         "orientation": "v",
         "showlegend": true,
         "textposition": "auto",
         "type": "bar",
         "x": [
          "Dummy Bank"
         ],
         "xaxis": "x",
         "y": [
          16
         ],
         "yaxis": "y"
        },
        {
         "alignmentgroup": "True",
         "hovertemplate": "color=Alpha Bank<br>Payment Gateway=%{x}<br>Fraud markers=%{y}<extra></extra>",
         "legendgroup": "Alpha Bank",
         "marker": {
          "color": "rgb(254, 136, 177)",
          "pattern": {
           "shape": ""
          }
         },
         "name": "Alpha Bank",
         "offsetgroup": "Alpha Bank",
         "orientation": "v",
         "showlegend": true,
         "textposition": "auto",
         "type": "bar",
         "x": [
          "Alpha Bank"
         ],
         "xaxis": "x",
         "y": [
          16
         ],
         "yaxis": "y"
        },
        {
         "alignmentgroup": "True",
         "hovertemplate": "color=CReditPAY<br>Payment Gateway=%{x}<br>Fraud markers=%{y}<extra></extra>",
         "legendgroup": "CReditPAY",
         "marker": {
          "color": "rgb(201, 219, 116)",
          "pattern": {
           "shape": ""
          }
         },
         "name": "CReditPAY",
         "offsetgroup": "CReditPAY",
         "orientation": "v",
         "showlegend": true,
         "textposition": "auto",
         "type": "bar",
         "x": [
          "CReditPAY"
         ],
         "xaxis": "x",
         "y": [
          16
         ],
         "yaxis": "y"
        },
        {
         "alignmentgroup": "True",
         "hovertemplate": "color=Gamma Bank<br>Payment Gateway=%{x}<br>Fraud markers=%{y}<extra></extra>",
         "legendgroup": "Gamma Bank",
         "marker": {
          "color": "rgb(139, 224, 164)",
          "pattern": {
           "shape": ""
          }
         },
         "name": "Gamma Bank",
         "offsetgroup": "Gamma Bank",
         "orientation": "v",
         "showlegend": true,
         "textposition": "auto",
         "type": "bar",
         "x": [
          "Gamma Bank"
         ],
         "xaxis": "x",
         "y": [
          15
         ],
         "yaxis": "y"
        }
       ],
       "layout": {
        "barmode": "relative",
        "legend": {
         "title": {
          "text": "color"
         },
         "tracegroupgap": 0
        },
        "template": {
         "data": {
          "bar": [
           {
            "error_x": {
             "color": "#2a3f5f"
            },
            "error_y": {
             "color": "#2a3f5f"
            },
            "marker": {
             "line": {
              "color": "#E5ECF6",
              "width": 0.5
             },
             "pattern": {
              "fillmode": "overlay",
              "size": 10,
              "solidity": 0.2
             }
            },
            "type": "bar"
           }
          ],
          "barpolar": [
           {
            "marker": {
             "line": {
              "color": "#E5ECF6",
              "width": 0.5
             },
             "pattern": {
              "fillmode": "overlay",
              "size": 10,
              "solidity": 0.2
             }
            },
            "type": "barpolar"
           }
          ],
          "carpet": [
           {
            "aaxis": {
             "endlinecolor": "#2a3f5f",
             "gridcolor": "white",
             "linecolor": "white",
             "minorgridcolor": "white",
             "startlinecolor": "#2a3f5f"
            },
            "baxis": {
             "endlinecolor": "#2a3f5f",
             "gridcolor": "white",
             "linecolor": "white",
             "minorgridcolor": "white",
             "startlinecolor": "#2a3f5f"
            },
            "type": "carpet"
           }
          ],
          "choropleth": [
           {
            "colorbar": {
             "outlinewidth": 0,
             "ticks": ""
            },
            "type": "choropleth"
           }
          ],
          "contour": [
           {
            "colorbar": {
             "outlinewidth": 0,
             "ticks": ""
            },
            "colorscale": [
             [
              0,
              "#0d0887"
             ],
             [
              0.1111111111111111,
              "#46039f"
             ],
             [
              0.2222222222222222,
              "#7201a8"
             ],
             [
              0.3333333333333333,
              "#9c179e"
             ],
             [
              0.4444444444444444,
              "#bd3786"
             ],
             [
              0.5555555555555556,
              "#d8576b"
             ],
             [
              0.6666666666666666,
              "#ed7953"
             ],
             [
              0.7777777777777778,
              "#fb9f3a"
             ],
             [
              0.8888888888888888,
              "#fdca26"
             ],
             [
              1,
              "#f0f921"
             ]
            ],
            "type": "contour"
           }
          ],
          "contourcarpet": [
           {
            "colorbar": {
             "outlinewidth": 0,
             "ticks": ""
            },
            "type": "contourcarpet"
           }
          ],
          "heatmap": [
           {
            "colorbar": {
             "outlinewidth": 0,
             "ticks": ""
            },
            "colorscale": [
             [
              0,
              "#0d0887"
             ],
             [
              0.1111111111111111,
              "#46039f"
             ],
             [
              0.2222222222222222,
              "#7201a8"
             ],
             [
              0.3333333333333333,
              "#9c179e"
             ],
             [
              0.4444444444444444,
              "#bd3786"
             ],
             [
              0.5555555555555556,
              "#d8576b"
             ],
             [
              0.6666666666666666,
              "#ed7953"
             ],
             [
              0.7777777777777778,
              "#fb9f3a"
             ],
             [
              0.8888888888888888,
              "#fdca26"
             ],
             [
              1,
              "#f0f921"
             ]
            ],
            "type": "heatmap"
           }
          ],
          "heatmapgl": [
           {
            "colorbar": {
             "outlinewidth": 0,
             "ticks": ""
            },
            "colorscale": [
             [
              0,
              "#0d0887"
             ],
             [
              0.1111111111111111,
              "#46039f"
             ],
             [
              0.2222222222222222,
              "#7201a8"
             ],
             [
              0.3333333333333333,
              "#9c179e"
             ],
             [
              0.4444444444444444,
              "#bd3786"
             ],
             [
              0.5555555555555556,
              "#d8576b"
             ],
             [
              0.6666666666666666,
              "#ed7953"
             ],
             [
              0.7777777777777778,
              "#fb9f3a"
             ],
             [
              0.8888888888888888,
              "#fdca26"
             ],
             [
              1,
              "#f0f921"
             ]
            ],
            "type": "heatmapgl"
           }
          ],
          "histogram": [
           {
            "marker": {
             "pattern": {
              "fillmode": "overlay",
              "size": 10,
              "solidity": 0.2
             }
            },
            "type": "histogram"
           }
          ],
          "histogram2d": [
           {
            "colorbar": {
             "outlinewidth": 0,
             "ticks": ""
            },
            "colorscale": [
             [
              0,
              "#0d0887"
             ],
             [
              0.1111111111111111,
              "#46039f"
             ],
             [
              0.2222222222222222,
              "#7201a8"
             ],
             [
              0.3333333333333333,
              "#9c179e"
             ],
             [
              0.4444444444444444,
              "#bd3786"
             ],
             [
              0.5555555555555556,
              "#d8576b"
             ],
             [
              0.6666666666666666,
              "#ed7953"
             ],
             [
              0.7777777777777778,
              "#fb9f3a"
             ],
             [
              0.8888888888888888,
              "#fdca26"
             ],
             [
              1,
              "#f0f921"
             ]
            ],
            "type": "histogram2d"
           }
          ],
          "histogram2dcontour": [
           {
            "colorbar": {
             "outlinewidth": 0,
             "ticks": ""
            },
            "colorscale": [
             [
              0,
              "#0d0887"
             ],
             [
              0.1111111111111111,
              "#46039f"
             ],
             [
              0.2222222222222222,
              "#7201a8"
             ],
             [
              0.3333333333333333,
              "#9c179e"
             ],
             [
              0.4444444444444444,
              "#bd3786"
             ],
             [
              0.5555555555555556,
              "#d8576b"
             ],
             [
              0.6666666666666666,
              "#ed7953"
             ],
             [
              0.7777777777777778,
              "#fb9f3a"
             ],
             [
              0.8888888888888888,
              "#fdca26"
             ],
             [
              1,
              "#f0f921"
             ]
            ],
            "type": "histogram2dcontour"
           }
          ],
          "mesh3d": [
           {
            "colorbar": {
             "outlinewidth": 0,
             "ticks": ""
            },
            "type": "mesh3d"
           }
          ],
          "parcoords": [
           {
            "line": {
             "colorbar": {
              "outlinewidth": 0,
              "ticks": ""
             }
            },
            "type": "parcoords"
           }
          ],
          "pie": [
           {
            "automargin": true,
            "type": "pie"
           }
          ],
          "scatter": [
           {
            "fillpattern": {
             "fillmode": "overlay",
             "size": 10,
             "solidity": 0.2
            },
            "type": "scatter"
           }
          ],
          "scatter3d": [
           {
            "line": {
             "colorbar": {
              "outlinewidth": 0,
              "ticks": ""
             }
            },
            "marker": {
             "colorbar": {
              "outlinewidth": 0,
              "ticks": ""
             }
            },
            "type": "scatter3d"
           }
          ],
          "scattercarpet": [
           {
            "marker": {
             "colorbar": {
              "outlinewidth": 0,
              "ticks": ""
             }
            },
            "type": "scattercarpet"
           }
          ],
          "scattergeo": [
           {
            "marker": {
             "colorbar": {
              "outlinewidth": 0,
              "ticks": ""
             }
            },
            "type": "scattergeo"
           }
          ],
          "scattergl": [
           {
            "marker": {
             "colorbar": {
              "outlinewidth": 0,
              "ticks": ""
             }
            },
            "type": "scattergl"
           }
          ],
          "scattermapbox": [
           {
            "marker": {
             "colorbar": {
              "outlinewidth": 0,
              "ticks": ""
             }
            },
            "type": "scattermapbox"
           }
          ],
          "scatterpolar": [
           {
            "marker": {
             "colorbar": {
              "outlinewidth": 0,
              "ticks": ""
             }
            },
            "type": "scatterpolar"
           }
          ],
          "scatterpolargl": [
           {
            "marker": {
             "colorbar": {
              "outlinewidth": 0,
              "ticks": ""
             }
            },
            "type": "scatterpolargl"
           }
          ],
          "scatterternary": [
           {
            "marker": {
             "colorbar": {
              "outlinewidth": 0,
              "ticks": ""
             }
            },
            "type": "scatterternary"
           }
          ],
          "surface": [
           {
            "colorbar": {
             "outlinewidth": 0,
             "ticks": ""
            },
            "colorscale": [
             [
              0,
              "#0d0887"
             ],
             [
              0.1111111111111111,
              "#46039f"
             ],
             [
              0.2222222222222222,
              "#7201a8"
             ],
             [
              0.3333333333333333,
              "#9c179e"
             ],
             [
              0.4444444444444444,
              "#bd3786"
             ],
             [
              0.5555555555555556,
              "#d8576b"
             ],
             [
              0.6666666666666666,
              "#ed7953"
             ],
             [
              0.7777777777777778,
              "#fb9f3a"
             ],
             [
              0.8888888888888888,
              "#fdca26"
             ],
             [
              1,
              "#f0f921"
             ]
            ],
            "type": "surface"
           }
          ],
          "table": [
           {
            "cells": {
             "fill": {
              "color": "#EBF0F8"
             },
             "line": {
              "color": "white"
             }
            },
            "header": {
             "fill": {
              "color": "#C8D4E3"
             },
             "line": {
              "color": "white"
             }
            },
            "type": "table"
           }
          ]
         },
         "layout": {
          "annotationdefaults": {
           "arrowcolor": "#2a3f5f",
           "arrowhead": 0,
           "arrowwidth": 1
          },
          "autotypenumbers": "strict",
          "coloraxis": {
           "colorbar": {
            "outlinewidth": 0,
            "ticks": ""
           }
          },
          "colorscale": {
           "diverging": [
            [
             0,
             "#8e0152"
            ],
            [
             0.1,
             "#c51b7d"
            ],
            [
             0.2,
             "#de77ae"
            ],
            [
             0.3,
             "#f1b6da"
            ],
            [
             0.4,
             "#fde0ef"
            ],
            [
             0.5,
             "#f7f7f7"
            ],
            [
             0.6,
             "#e6f5d0"
            ],
            [
             0.7,
             "#b8e186"
            ],
            [
             0.8,
             "#7fbc41"
            ],
            [
             0.9,
             "#4d9221"
            ],
            [
             1,
             "#276419"
            ]
           ],
           "sequential": [
            [
             0,
             "#0d0887"
            ],
            [
             0.1111111111111111,
             "#46039f"
            ],
            [
             0.2222222222222222,
             "#7201a8"
            ],
            [
             0.3333333333333333,
             "#9c179e"
            ],
            [
             0.4444444444444444,
             "#bd3786"
            ],
            [
             0.5555555555555556,
             "#d8576b"
            ],
            [
             0.6666666666666666,
             "#ed7953"
            ],
            [
             0.7777777777777778,
             "#fb9f3a"
            ],
            [
             0.8888888888888888,
             "#fdca26"
            ],
            [
             1,
             "#f0f921"
            ]
           ],
           "sequentialminus": [
            [
             0,
             "#0d0887"
            ],
            [
             0.1111111111111111,
             "#46039f"
            ],
            [
             0.2222222222222222,
             "#7201a8"
            ],
            [
             0.3333333333333333,
             "#9c179e"
            ],
            [
             0.4444444444444444,
             "#bd3786"
            ],
            [
             0.5555555555555556,
             "#d8576b"
            ],
            [
             0.6666666666666666,
             "#ed7953"
            ],
            [
             0.7777777777777778,
             "#fb9f3a"
            ],
            [
             0.8888888888888888,
             "#fdca26"
            ],
            [
             1,
             "#f0f921"
            ]
           ]
          },
          "colorway": [
           "#636efa",
           "#EF553B",
           "#00cc96",
           "#ab63fa",
           "#FFA15A",
           "#19d3f3",
           "#FF6692",
           "#B6E880",
           "#FF97FF",
           "#FECB52"
          ],
          "font": {
           "color": "#2a3f5f"
          },
          "geo": {
           "bgcolor": "white",
           "lakecolor": "white",
           "landcolor": "#E5ECF6",
           "showlakes": true,
           "showland": true,
           "subunitcolor": "white"
          },
          "hoverlabel": {
           "align": "left"
          },
          "hovermode": "closest",
          "mapbox": {
           "style": "light"
          },
          "paper_bgcolor": "white",
          "plot_bgcolor": "#E5ECF6",
          "polar": {
           "angularaxis": {
            "gridcolor": "white",
            "linecolor": "white",
            "ticks": ""
           },
           "bgcolor": "#E5ECF6",
           "radialaxis": {
            "gridcolor": "white",
            "linecolor": "white",
            "ticks": ""
           }
          },
          "scene": {
           "xaxis": {
            "backgroundcolor": "#E5ECF6",
            "gridcolor": "white",
            "gridwidth": 2,
            "linecolor": "white",
            "showbackground": true,
            "ticks": "",
            "zerolinecolor": "white"
           },
           "yaxis": {
            "backgroundcolor": "#E5ECF6",
            "gridcolor": "white",
            "gridwidth": 2,
            "linecolor": "white",
            "showbackground": true,
            "ticks": "",
            "zerolinecolor": "white"
           },
           "zaxis": {
            "backgroundcolor": "#E5ECF6",
            "gridcolor": "white",
            "gridwidth": 2,
            "linecolor": "white",
            "showbackground": true,
            "ticks": "",
            "zerolinecolor": "white"
           }
          },
          "shapedefaults": {
           "line": {
            "color": "#2a3f5f"
           }
          },
          "ternary": {
           "aaxis": {
            "gridcolor": "white",
            "linecolor": "white",
            "ticks": ""
           },
           "baxis": {
            "gridcolor": "white",
            "linecolor": "white",
            "ticks": ""
           },
           "bgcolor": "#E5ECF6",
           "caxis": {
            "gridcolor": "white",
            "linecolor": "white",
            "ticks": ""
           }
          },
          "title": {
           "x": 0.05
          },
          "xaxis": {
           "automargin": true,
           "gridcolor": "white",
           "linecolor": "white",
           "ticks": "",
           "title": {
            "standoff": 15
           },
           "zerolinecolor": "white",
           "zerolinewidth": 2
          },
          "yaxis": {
           "automargin": true,
           "gridcolor": "white",
           "linecolor": "white",
           "ticks": "",
           "title": {
            "standoff": 15
           },
           "zerolinecolor": "white",
           "zerolinewidth": 2
          }
         }
        },
        "title": {
         "text": "Fraud distribution by Payment Gateway"
        },
        "xaxis": {
         "anchor": "y",
         "categoryorder": "total descending",
         "domain": [
          0,
          1
         ],
         "title": {
          "text": "Payment Gateway"
         }
        },
        "yaxis": {
         "anchor": "x",
         "domain": [
          0,
          1
         ],
         "title": {
          "text": "Fraud markers"
         }
        }
       }
      }
     },
     "metadata": {},
     "output_type": "display_data"
    }
   ],
   "source": [
    "#plot 2: Fraud distribution by payment gateway\n",
    "fig = px.bar(x=fraud['Payment_Gateway'].value_counts().index,\n",
    "             y= fraud['Payment_Gateway'].value_counts().values,\n",
    "             color=fraud['Payment_Gateway'].value_counts().index,\n",
    "             title = \"Fraud distribution by Payment Gateway\",\n",
    "             labels = {'x': 'Payment Gateway', 'y': 'Fraud markers'},\n",
    "             color_discrete_sequence= px.colors.qualitative.Pastel)\n",
    "fig.update_layout(xaxis={'categoryorder': 'total descending'})\n",
    "fig.show() "
   ]
  },
  {
   "cell_type": "code",
   "execution_count": 75,
   "id": "ed352bc8",
   "metadata": {},
   "outputs": [
    {
     "data": {
      "application/vnd.plotly.v1+json": {
       "config": {
        "plotlyServerURL": "https://plot.ly"
       },
       "data": [
        {
         "alignmentgroup": "True",
         "hovertemplate": "color=Investment<br> Merchant Category=%{x}<br>Fraud markers=%{y}<extra></extra>",
         "legendgroup": "Investment",
         "marker": {
          "color": "rgb(102, 197, 204)",
          "pattern": {
           "shape": ""
          }
         },
         "name": "Investment",
         "offsetgroup": "Investment",
         "orientation": "v",
         "showlegend": true,
         "textposition": "auto",
         "type": "bar",
         "x": [
          "Investment"
         ],
         "xaxis": "x",
         "y": [
          20
         ],
         "yaxis": "y"
        },
        {
         "alignmentgroup": "True",
         "hovertemplate": "color=Utilities<br> Merchant Category=%{x}<br>Fraud markers=%{y}<extra></extra>",
         "legendgroup": "Utilities",
         "marker": {
          "color": "rgb(246, 207, 113)",
          "pattern": {
           "shape": ""
          }
         },
         "name": "Utilities",
         "offsetgroup": "Utilities",
         "orientation": "v",
         "showlegend": true,
         "textposition": "auto",
         "type": "bar",
         "x": [
          "Utilities"
         ],
         "xaxis": "x",
         "y": [
          19
         ],
         "yaxis": "y"
        },
        {
         "alignmentgroup": "True",
         "hovertemplate": "color=More Services<br> Merchant Category=%{x}<br>Fraud markers=%{y}<extra></extra>",
         "legendgroup": "More Services",
         "marker": {
          "color": "rgb(248, 156, 116)",
          "pattern": {
           "shape": ""
          }
         },
         "name": "More Services",
         "offsetgroup": "More Services",
         "orientation": "v",
         "showlegend": true,
         "textposition": "auto",
         "type": "bar",
         "x": [
          "More Services"
         ],
         "xaxis": "x",
         "y": [
          18
         ],
         "yaxis": "y"
        },
        {
         "alignmentgroup": "True",
         "hovertemplate": "color=Financial services and Taxes<br> Merchant Category=%{x}<br>Fraud markers=%{y}<extra></extra>",
         "legendgroup": "Financial services and Taxes",
         "marker": {
          "color": "rgb(220, 176, 242)",
          "pattern": {
           "shape": ""
          }
         },
         "name": "Financial services and Taxes",
         "offsetgroup": "Financial services and Taxes",
         "orientation": "v",
         "showlegend": true,
         "textposition": "auto",
         "type": "bar",
         "x": [
          "Financial services and Taxes"
         ],
         "xaxis": "x",
         "y": [
          18
         ],
         "yaxis": "y"
        },
        {
         "alignmentgroup": "True",
         "hovertemplate": "color=Brand Vouchers and OTT<br> Merchant Category=%{x}<br>Fraud markers=%{y}<extra></extra>",
         "legendgroup": "Brand Vouchers and OTT",
         "marker": {
          "color": "rgb(135, 197, 95)",
          "pattern": {
           "shape": ""
          }
         },
         "name": "Brand Vouchers and OTT",
         "offsetgroup": "Brand Vouchers and OTT",
         "orientation": "v",
         "showlegend": true,
         "textposition": "auto",
         "type": "bar",
         "x": [
          "Brand Vouchers and OTT"
         ],
         "xaxis": "x",
         "y": [
          17
         ],
         "yaxis": "y"
        },
        {
         "alignmentgroup": "True",
         "hovertemplate": "color=Other<br> Merchant Category=%{x}<br>Fraud markers=%{y}<extra></extra>",
         "legendgroup": "Other",
         "marker": {
          "color": "rgb(158, 185, 243)",
          "pattern": {
           "shape": ""
          }
         },
         "name": "Other",
         "offsetgroup": "Other",
         "orientation": "v",
         "showlegend": true,
         "textposition": "auto",
         "type": "bar",
         "x": [
          "Other"
         ],
         "xaxis": "x",
         "y": [
          15
         ],
         "yaxis": "y"
        },
        {
         "alignmentgroup": "True",
         "hovertemplate": "color=Travel bookings<br> Merchant Category=%{x}<br>Fraud markers=%{y}<extra></extra>",
         "legendgroup": "Travel bookings",
         "marker": {
          "color": "rgb(254, 136, 177)",
          "pattern": {
           "shape": ""
          }
         },
         "name": "Travel bookings",
         "offsetgroup": "Travel bookings",
         "orientation": "v",
         "showlegend": true,
         "textposition": "auto",
         "type": "bar",
         "x": [
          "Travel bookings"
         ],
         "xaxis": "x",
         "y": [
          15
         ],
         "yaxis": "y"
        },
        {
         "alignmentgroup": "True",
         "hovertemplate": "color=Home delivery<br> Merchant Category=%{x}<br>Fraud markers=%{y}<extra></extra>",
         "legendgroup": "Home delivery",
         "marker": {
          "color": "rgb(201, 219, 116)",
          "pattern": {
           "shape": ""
          }
         },
         "name": "Home delivery",
         "offsetgroup": "Home delivery",
         "orientation": "v",
         "showlegend": true,
         "textposition": "auto",
         "type": "bar",
         "x": [
          "Home delivery"
         ],
         "xaxis": "x",
         "y": [
          13
         ],
         "yaxis": "y"
        },
        {
         "alignmentgroup": "True",
         "hovertemplate": "color=Donations and Devotion<br> Merchant Category=%{x}<br>Fraud markers=%{y}<extra></extra>",
         "legendgroup": "Donations and Devotion",
         "marker": {
          "color": "rgb(139, 224, 164)",
          "pattern": {
           "shape": ""
          }
         },
         "name": "Donations and Devotion",
         "offsetgroup": "Donations and Devotion",
         "orientation": "v",
         "showlegend": true,
         "textposition": "auto",
         "type": "bar",
         "x": [
          "Donations and Devotion"
         ],
         "xaxis": "x",
         "y": [
          13
         ],
         "yaxis": "y"
        },
        {
         "alignmentgroup": "True",
         "hovertemplate": "color=Purchases<br> Merchant Category=%{x}<br>Fraud markers=%{y}<extra></extra>",
         "legendgroup": "Purchases",
         "marker": {
          "color": "rgb(180, 151, 231)",
          "pattern": {
           "shape": ""
          }
         },
         "name": "Purchases",
         "offsetgroup": "Purchases",
         "orientation": "v",
         "showlegend": true,
         "textposition": "auto",
         "type": "bar",
         "x": [
          "Purchases"
         ],
         "xaxis": "x",
         "y": [
          7
         ],
         "yaxis": "y"
        }
       ],
       "layout": {
        "barmode": "relative",
        "legend": {
         "title": {
          "text": "color"
         },
         "tracegroupgap": 0
        },
        "template": {
         "data": {
          "bar": [
           {
            "error_x": {
             "color": "#2a3f5f"
            },
            "error_y": {
             "color": "#2a3f5f"
            },
            "marker": {
             "line": {
              "color": "#E5ECF6",
              "width": 0.5
             },
             "pattern": {
              "fillmode": "overlay",
              "size": 10,
              "solidity": 0.2
             }
            },
            "type": "bar"
           }
          ],
          "barpolar": [
           {
            "marker": {
             "line": {
              "color": "#E5ECF6",
              "width": 0.5
             },
             "pattern": {
              "fillmode": "overlay",
              "size": 10,
              "solidity": 0.2
             }
            },
            "type": "barpolar"
           }
          ],
          "carpet": [
           {
            "aaxis": {
             "endlinecolor": "#2a3f5f",
             "gridcolor": "white",
             "linecolor": "white",
             "minorgridcolor": "white",
             "startlinecolor": "#2a3f5f"
            },
            "baxis": {
             "endlinecolor": "#2a3f5f",
             "gridcolor": "white",
             "linecolor": "white",
             "minorgridcolor": "white",
             "startlinecolor": "#2a3f5f"
            },
            "type": "carpet"
           }
          ],
          "choropleth": [
           {
            "colorbar": {
             "outlinewidth": 0,
             "ticks": ""
            },
            "type": "choropleth"
           }
          ],
          "contour": [
           {
            "colorbar": {
             "outlinewidth": 0,
             "ticks": ""
            },
            "colorscale": [
             [
              0,
              "#0d0887"
             ],
             [
              0.1111111111111111,
              "#46039f"
             ],
             [
              0.2222222222222222,
              "#7201a8"
             ],
             [
              0.3333333333333333,
              "#9c179e"
             ],
             [
              0.4444444444444444,
              "#bd3786"
             ],
             [
              0.5555555555555556,
              "#d8576b"
             ],
             [
              0.6666666666666666,
              "#ed7953"
             ],
             [
              0.7777777777777778,
              "#fb9f3a"
             ],
             [
              0.8888888888888888,
              "#fdca26"
             ],
             [
              1,
              "#f0f921"
             ]
            ],
            "type": "contour"
           }
          ],
          "contourcarpet": [
           {
            "colorbar": {
             "outlinewidth": 0,
             "ticks": ""
            },
            "type": "contourcarpet"
           }
          ],
          "heatmap": [
           {
            "colorbar": {
             "outlinewidth": 0,
             "ticks": ""
            },
            "colorscale": [
             [
              0,
              "#0d0887"
             ],
             [
              0.1111111111111111,
              "#46039f"
             ],
             [
              0.2222222222222222,
              "#7201a8"
             ],
             [
              0.3333333333333333,
              "#9c179e"
             ],
             [
              0.4444444444444444,
              "#bd3786"
             ],
             [
              0.5555555555555556,
              "#d8576b"
             ],
             [
              0.6666666666666666,
              "#ed7953"
             ],
             [
              0.7777777777777778,
              "#fb9f3a"
             ],
             [
              0.8888888888888888,
              "#fdca26"
             ],
             [
              1,
              "#f0f921"
             ]
            ],
            "type": "heatmap"
           }
          ],
          "heatmapgl": [
           {
            "colorbar": {
             "outlinewidth": 0,
             "ticks": ""
            },
            "colorscale": [
             [
              0,
              "#0d0887"
             ],
             [
              0.1111111111111111,
              "#46039f"
             ],
             [
              0.2222222222222222,
              "#7201a8"
             ],
             [
              0.3333333333333333,
              "#9c179e"
             ],
             [
              0.4444444444444444,
              "#bd3786"
             ],
             [
              0.5555555555555556,
              "#d8576b"
             ],
             [
              0.6666666666666666,
              "#ed7953"
             ],
             [
              0.7777777777777778,
              "#fb9f3a"
             ],
             [
              0.8888888888888888,
              "#fdca26"
             ],
             [
              1,
              "#f0f921"
             ]
            ],
            "type": "heatmapgl"
           }
          ],
          "histogram": [
           {
            "marker": {
             "pattern": {
              "fillmode": "overlay",
              "size": 10,
              "solidity": 0.2
             }
            },
            "type": "histogram"
           }
          ],
          "histogram2d": [
           {
            "colorbar": {
             "outlinewidth": 0,
             "ticks": ""
            },
            "colorscale": [
             [
              0,
              "#0d0887"
             ],
             [
              0.1111111111111111,
              "#46039f"
             ],
             [
              0.2222222222222222,
              "#7201a8"
             ],
             [
              0.3333333333333333,
              "#9c179e"
             ],
             [
              0.4444444444444444,
              "#bd3786"
             ],
             [
              0.5555555555555556,
              "#d8576b"
             ],
             [
              0.6666666666666666,
              "#ed7953"
             ],
             [
              0.7777777777777778,
              "#fb9f3a"
             ],
             [
              0.8888888888888888,
              "#fdca26"
             ],
             [
              1,
              "#f0f921"
             ]
            ],
            "type": "histogram2d"
           }
          ],
          "histogram2dcontour": [
           {
            "colorbar": {
             "outlinewidth": 0,
             "ticks": ""
            },
            "colorscale": [
             [
              0,
              "#0d0887"
             ],
             [
              0.1111111111111111,
              "#46039f"
             ],
             [
              0.2222222222222222,
              "#7201a8"
             ],
             [
              0.3333333333333333,
              "#9c179e"
             ],
             [
              0.4444444444444444,
              "#bd3786"
             ],
             [
              0.5555555555555556,
              "#d8576b"
             ],
             [
              0.6666666666666666,
              "#ed7953"
             ],
             [
              0.7777777777777778,
              "#fb9f3a"
             ],
             [
              0.8888888888888888,
              "#fdca26"
             ],
             [
              1,
              "#f0f921"
             ]
            ],
            "type": "histogram2dcontour"
           }
          ],
          "mesh3d": [
           {
            "colorbar": {
             "outlinewidth": 0,
             "ticks": ""
            },
            "type": "mesh3d"
           }
          ],
          "parcoords": [
           {
            "line": {
             "colorbar": {
              "outlinewidth": 0,
              "ticks": ""
             }
            },
            "type": "parcoords"
           }
          ],
          "pie": [
           {
            "automargin": true,
            "type": "pie"
           }
          ],
          "scatter": [
           {
            "fillpattern": {
             "fillmode": "overlay",
             "size": 10,
             "solidity": 0.2
            },
            "type": "scatter"
           }
          ],
          "scatter3d": [
           {
            "line": {
             "colorbar": {
              "outlinewidth": 0,
              "ticks": ""
             }
            },
            "marker": {
             "colorbar": {
              "outlinewidth": 0,
              "ticks": ""
             }
            },
            "type": "scatter3d"
           }
          ],
          "scattercarpet": [
           {
            "marker": {
             "colorbar": {
              "outlinewidth": 0,
              "ticks": ""
             }
            },
            "type": "scattercarpet"
           }
          ],
          "scattergeo": [
           {
            "marker": {
             "colorbar": {
              "outlinewidth": 0,
              "ticks": ""
             }
            },
            "type": "scattergeo"
           }
          ],
          "scattergl": [
           {
            "marker": {
             "colorbar": {
              "outlinewidth": 0,
              "ticks": ""
             }
            },
            "type": "scattergl"
           }
          ],
          "scattermapbox": [
           {
            "marker": {
             "colorbar": {
              "outlinewidth": 0,
              "ticks": ""
             }
            },
            "type": "scattermapbox"
           }
          ],
          "scatterpolar": [
           {
            "marker": {
             "colorbar": {
              "outlinewidth": 0,
              "ticks": ""
             }
            },
            "type": "scatterpolar"
           }
          ],
          "scatterpolargl": [
           {
            "marker": {
             "colorbar": {
              "outlinewidth": 0,
              "ticks": ""
             }
            },
            "type": "scatterpolargl"
           }
          ],
          "scatterternary": [
           {
            "marker": {
             "colorbar": {
              "outlinewidth": 0,
              "ticks": ""
             }
            },
            "type": "scatterternary"
           }
          ],
          "surface": [
           {
            "colorbar": {
             "outlinewidth": 0,
             "ticks": ""
            },
            "colorscale": [
             [
              0,
              "#0d0887"
             ],
             [
              0.1111111111111111,
              "#46039f"
             ],
             [
              0.2222222222222222,
              "#7201a8"
             ],
             [
              0.3333333333333333,
              "#9c179e"
             ],
             [
              0.4444444444444444,
              "#bd3786"
             ],
             [
              0.5555555555555556,
              "#d8576b"
             ],
             [
              0.6666666666666666,
              "#ed7953"
             ],
             [
              0.7777777777777778,
              "#fb9f3a"
             ],
             [
              0.8888888888888888,
              "#fdca26"
             ],
             [
              1,
              "#f0f921"
             ]
            ],
            "type": "surface"
           }
          ],
          "table": [
           {
            "cells": {
             "fill": {
              "color": "#EBF0F8"
             },
             "line": {
              "color": "white"
             }
            },
            "header": {
             "fill": {
              "color": "#C8D4E3"
             },
             "line": {
              "color": "white"
             }
            },
            "type": "table"
           }
          ]
         },
         "layout": {
          "annotationdefaults": {
           "arrowcolor": "#2a3f5f",
           "arrowhead": 0,
           "arrowwidth": 1
          },
          "autotypenumbers": "strict",
          "coloraxis": {
           "colorbar": {
            "outlinewidth": 0,
            "ticks": ""
           }
          },
          "colorscale": {
           "diverging": [
            [
             0,
             "#8e0152"
            ],
            [
             0.1,
             "#c51b7d"
            ],
            [
             0.2,
             "#de77ae"
            ],
            [
             0.3,
             "#f1b6da"
            ],
            [
             0.4,
             "#fde0ef"
            ],
            [
             0.5,
             "#f7f7f7"
            ],
            [
             0.6,
             "#e6f5d0"
            ],
            [
             0.7,
             "#b8e186"
            ],
            [
             0.8,
             "#7fbc41"
            ],
            [
             0.9,
             "#4d9221"
            ],
            [
             1,
             "#276419"
            ]
           ],
           "sequential": [
            [
             0,
             "#0d0887"
            ],
            [
             0.1111111111111111,
             "#46039f"
            ],
            [
             0.2222222222222222,
             "#7201a8"
            ],
            [
             0.3333333333333333,
             "#9c179e"
            ],
            [
             0.4444444444444444,
             "#bd3786"
            ],
            [
             0.5555555555555556,
             "#d8576b"
            ],
            [
             0.6666666666666666,
             "#ed7953"
            ],
            [
             0.7777777777777778,
             "#fb9f3a"
            ],
            [
             0.8888888888888888,
             "#fdca26"
            ],
            [
             1,
             "#f0f921"
            ]
           ],
           "sequentialminus": [
            [
             0,
             "#0d0887"
            ],
            [
             0.1111111111111111,
             "#46039f"
            ],
            [
             0.2222222222222222,
             "#7201a8"
            ],
            [
             0.3333333333333333,
             "#9c179e"
            ],
            [
             0.4444444444444444,
             "#bd3786"
            ],
            [
             0.5555555555555556,
             "#d8576b"
            ],
            [
             0.6666666666666666,
             "#ed7953"
            ],
            [
             0.7777777777777778,
             "#fb9f3a"
            ],
            [
             0.8888888888888888,
             "#fdca26"
            ],
            [
             1,
             "#f0f921"
            ]
           ]
          },
          "colorway": [
           "#636efa",
           "#EF553B",
           "#00cc96",
           "#ab63fa",
           "#FFA15A",
           "#19d3f3",
           "#FF6692",
           "#B6E880",
           "#FF97FF",
           "#FECB52"
          ],
          "font": {
           "color": "#2a3f5f"
          },
          "geo": {
           "bgcolor": "white",
           "lakecolor": "white",
           "landcolor": "#E5ECF6",
           "showlakes": true,
           "showland": true,
           "subunitcolor": "white"
          },
          "hoverlabel": {
           "align": "left"
          },
          "hovermode": "closest",
          "mapbox": {
           "style": "light"
          },
          "paper_bgcolor": "white",
          "plot_bgcolor": "#E5ECF6",
          "polar": {
           "angularaxis": {
            "gridcolor": "white",
            "linecolor": "white",
            "ticks": ""
           },
           "bgcolor": "#E5ECF6",
           "radialaxis": {
            "gridcolor": "white",
            "linecolor": "white",
            "ticks": ""
           }
          },
          "scene": {
           "xaxis": {
            "backgroundcolor": "#E5ECF6",
            "gridcolor": "white",
            "gridwidth": 2,
            "linecolor": "white",
            "showbackground": true,
            "ticks": "",
            "zerolinecolor": "white"
           },
           "yaxis": {
            "backgroundcolor": "#E5ECF6",
            "gridcolor": "white",
            "gridwidth": 2,
            "linecolor": "white",
            "showbackground": true,
            "ticks": "",
            "zerolinecolor": "white"
           },
           "zaxis": {
            "backgroundcolor": "#E5ECF6",
            "gridcolor": "white",
            "gridwidth": 2,
            "linecolor": "white",
            "showbackground": true,
            "ticks": "",
            "zerolinecolor": "white"
           }
          },
          "shapedefaults": {
           "line": {
            "color": "#2a3f5f"
           }
          },
          "ternary": {
           "aaxis": {
            "gridcolor": "white",
            "linecolor": "white",
            "ticks": ""
           },
           "baxis": {
            "gridcolor": "white",
            "linecolor": "white",
            "ticks": ""
           },
           "bgcolor": "#E5ECF6",
           "caxis": {
            "gridcolor": "white",
            "linecolor": "white",
            "ticks": ""
           }
          },
          "title": {
           "x": 0.05
          },
          "xaxis": {
           "automargin": true,
           "gridcolor": "white",
           "linecolor": "white",
           "ticks": "",
           "title": {
            "standoff": 15
           },
           "zerolinecolor": "white",
           "zerolinewidth": 2
          },
          "yaxis": {
           "automargin": true,
           "gridcolor": "white",
           "linecolor": "white",
           "ticks": "",
           "title": {
            "standoff": 15
           },
           "zerolinecolor": "white",
           "zerolinewidth": 2
          }
         }
        },
        "title": {
         "text": "Fraud distribution by  Merchant Category"
        },
        "xaxis": {
         "anchor": "y",
         "categoryorder": "total descending",
         "domain": [
          0,
          1
         ],
         "title": {
          "text": " Merchant Category"
         }
        },
        "yaxis": {
         "anchor": "x",
         "domain": [
          0,
          1
         ],
         "title": {
          "text": "Fraud markers"
         }
        }
       }
      }
     },
     "metadata": {},
     "output_type": "display_data"
    }
   ],
   "source": [
    "#plot 3: Fraud distribution by merchant category\n",
    "fig = px.bar(x=fraud['Merchant_Category'].value_counts().index,\n",
    "             y= fraud['Merchant_Category'].value_counts().values,\n",
    "             color=fraud['Merchant_Category'].value_counts().index,\n",
    "             title = \"Fraud distribution by  Merchant Category\",\n",
    "             labels = {'x': ' Merchant Category', 'y': 'Fraud markers'},\n",
    "             color_discrete_sequence= px.colors.qualitative.Pastel)\n",
    "fig.update_layout(xaxis={'categoryorder': 'total descending'})\n",
    "fig.show() "
   ]
  },
  {
   "cell_type": "code",
   "execution_count": 76,
   "id": "66c83697",
   "metadata": {},
   "outputs": [
    {
     "data": {
      "application/vnd.plotly.v1+json": {
       "config": {
        "plotlyServerURL": "https://plot.ly"
       },
       "data": [
        {
         "alignmentgroup": "True",
         "bingroup": "x",
         "hovertemplate": "Transaction Amount=%{x}<br>count=%{y}<extra></extra>",
         "legendgroup": "",
         "marker": {
          "color": "#636efa",
          "pattern": {
           "shape": ""
          }
         },
         "name": "",
         "nbinsx": 20,
         "offsetgroup": "",
         "orientation": "v",
         "showlegend": false,
         "type": "histogram",
         "x": [
          396.62,
          121.94,
          106.69,
          3611.11,
          374.89,
          186.83,
          78.51,
          472.17,
          84.65,
          238.36,
          340.67,
          22.43,
          266,
          272.16,
          255.63,
          620.64,
          904.45,
          265.33,
          186.8,
          167.27,
          663.53,
          262.63,
          490.84,
          703.95,
          83.07,
          644.15,
          388.51,
          217.52,
          259.75,
          278.32,
          177.99,
          728.96,
          830.57,
          399.81,
          278.2,
          458.52,
          134.91,
          112.06,
          109.52,
          242.5,
          231.33,
          50.17,
          321.61,
          291.98,
          42.08,
          196.12,
          503.68,
          127.28,
          378.11,
          672.44,
          386.87,
          10.99,
          466.47,
          314.96,
          241.47,
          396.92,
          265.75,
          299.42,
          66.6,
          907.57,
          398.57,
          189.22,
          142.86,
          329.89,
          442.9,
          239.62,
          284.46,
          430.29,
          769.16,
          157.03,
          102.64,
          614.25,
          261.99,
          555.92,
          324.95,
          226.78,
          334.25,
          204.31,
          67.21,
          222.26,
          592.91,
          301.7,
          61.61,
          563.2,
          124.41,
          2668.66,
          3.77,
          274.14,
          194.89,
          22.58,
          30.04,
          667.09,
          514.2,
          871.01,
          238.14,
          283.87,
          697.85,
          256.37,
          325.01,
          232.85,
          149.11,
          215.28,
          156.11,
          135.72,
          1167.18,
          128.09,
          171.67,
          29.68,
          260.51,
          79.82,
          66.56,
          141.83,
          294.98,
          116.03,
          646.92,
          38.55,
          712.12,
          368.53,
          661.53,
          97.49,
          578,
          801.73,
          384.11,
          201.7,
          591.83,
          124.37,
          36.51,
          498.38,
          223.42,
          331.56,
          247.56,
          69.53,
          311.94,
          415.19,
          50.83,
          533.84,
          303.99,
          176.32,
          572.36,
          694.15,
          361.28,
          698.77,
          105.73,
          413.44,
          305.38,
          2909.61,
          103.99,
          535.42,
          41.98,
          4883.62,
          95.03,
          339.76,
          112.55,
          3999.35,
          5.69
         ],
         "xaxis": "x",
         "yaxis": "y"
        }
       ],
       "layout": {
        "barmode": "relative",
        "legend": {
         "tracegroupgap": 0
        },
        "template": {
         "data": {
          "bar": [
           {
            "error_x": {
             "color": "#2a3f5f"
            },
            "error_y": {
             "color": "#2a3f5f"
            },
            "marker": {
             "line": {
              "color": "#E5ECF6",
              "width": 0.5
             },
             "pattern": {
              "fillmode": "overlay",
              "size": 10,
              "solidity": 0.2
             }
            },
            "type": "bar"
           }
          ],
          "barpolar": [
           {
            "marker": {
             "line": {
              "color": "#E5ECF6",
              "width": 0.5
             },
             "pattern": {
              "fillmode": "overlay",
              "size": 10,
              "solidity": 0.2
             }
            },
            "type": "barpolar"
           }
          ],
          "carpet": [
           {
            "aaxis": {
             "endlinecolor": "#2a3f5f",
             "gridcolor": "white",
             "linecolor": "white",
             "minorgridcolor": "white",
             "startlinecolor": "#2a3f5f"
            },
            "baxis": {
             "endlinecolor": "#2a3f5f",
             "gridcolor": "white",
             "linecolor": "white",
             "minorgridcolor": "white",
             "startlinecolor": "#2a3f5f"
            },
            "type": "carpet"
           }
          ],
          "choropleth": [
           {
            "colorbar": {
             "outlinewidth": 0,
             "ticks": ""
            },
            "type": "choropleth"
           }
          ],
          "contour": [
           {
            "colorbar": {
             "outlinewidth": 0,
             "ticks": ""
            },
            "colorscale": [
             [
              0,
              "#0d0887"
             ],
             [
              0.1111111111111111,
              "#46039f"
             ],
             [
              0.2222222222222222,
              "#7201a8"
             ],
             [
              0.3333333333333333,
              "#9c179e"
             ],
             [
              0.4444444444444444,
              "#bd3786"
             ],
             [
              0.5555555555555556,
              "#d8576b"
             ],
             [
              0.6666666666666666,
              "#ed7953"
             ],
             [
              0.7777777777777778,
              "#fb9f3a"
             ],
             [
              0.8888888888888888,
              "#fdca26"
             ],
             [
              1,
              "#f0f921"
             ]
            ],
            "type": "contour"
           }
          ],
          "contourcarpet": [
           {
            "colorbar": {
             "outlinewidth": 0,
             "ticks": ""
            },
            "type": "contourcarpet"
           }
          ],
          "heatmap": [
           {
            "colorbar": {
             "outlinewidth": 0,
             "ticks": ""
            },
            "colorscale": [
             [
              0,
              "#0d0887"
             ],
             [
              0.1111111111111111,
              "#46039f"
             ],
             [
              0.2222222222222222,
              "#7201a8"
             ],
             [
              0.3333333333333333,
              "#9c179e"
             ],
             [
              0.4444444444444444,
              "#bd3786"
             ],
             [
              0.5555555555555556,
              "#d8576b"
             ],
             [
              0.6666666666666666,
              "#ed7953"
             ],
             [
              0.7777777777777778,
              "#fb9f3a"
             ],
             [
              0.8888888888888888,
              "#fdca26"
             ],
             [
              1,
              "#f0f921"
             ]
            ],
            "type": "heatmap"
           }
          ],
          "heatmapgl": [
           {
            "colorbar": {
             "outlinewidth": 0,
             "ticks": ""
            },
            "colorscale": [
             [
              0,
              "#0d0887"
             ],
             [
              0.1111111111111111,
              "#46039f"
             ],
             [
              0.2222222222222222,
              "#7201a8"
             ],
             [
              0.3333333333333333,
              "#9c179e"
             ],
             [
              0.4444444444444444,
              "#bd3786"
             ],
             [
              0.5555555555555556,
              "#d8576b"
             ],
             [
              0.6666666666666666,
              "#ed7953"
             ],
             [
              0.7777777777777778,
              "#fb9f3a"
             ],
             [
              0.8888888888888888,
              "#fdca26"
             ],
             [
              1,
              "#f0f921"
             ]
            ],
            "type": "heatmapgl"
           }
          ],
          "histogram": [
           {
            "marker": {
             "pattern": {
              "fillmode": "overlay",
              "size": 10,
              "solidity": 0.2
             }
            },
            "type": "histogram"
           }
          ],
          "histogram2d": [
           {
            "colorbar": {
             "outlinewidth": 0,
             "ticks": ""
            },
            "colorscale": [
             [
              0,
              "#0d0887"
             ],
             [
              0.1111111111111111,
              "#46039f"
             ],
             [
              0.2222222222222222,
              "#7201a8"
             ],
             [
              0.3333333333333333,
              "#9c179e"
             ],
             [
              0.4444444444444444,
              "#bd3786"
             ],
             [
              0.5555555555555556,
              "#d8576b"
             ],
             [
              0.6666666666666666,
              "#ed7953"
             ],
             [
              0.7777777777777778,
              "#fb9f3a"
             ],
             [
              0.8888888888888888,
              "#fdca26"
             ],
             [
              1,
              "#f0f921"
             ]
            ],
            "type": "histogram2d"
           }
          ],
          "histogram2dcontour": [
           {
            "colorbar": {
             "outlinewidth": 0,
             "ticks": ""
            },
            "colorscale": [
             [
              0,
              "#0d0887"
             ],
             [
              0.1111111111111111,
              "#46039f"
             ],
             [
              0.2222222222222222,
              "#7201a8"
             ],
             [
              0.3333333333333333,
              "#9c179e"
             ],
             [
              0.4444444444444444,
              "#bd3786"
             ],
             [
              0.5555555555555556,
              "#d8576b"
             ],
             [
              0.6666666666666666,
              "#ed7953"
             ],
             [
              0.7777777777777778,
              "#fb9f3a"
             ],
             [
              0.8888888888888888,
              "#fdca26"
             ],
             [
              1,
              "#f0f921"
             ]
            ],
            "type": "histogram2dcontour"
           }
          ],
          "mesh3d": [
           {
            "colorbar": {
             "outlinewidth": 0,
             "ticks": ""
            },
            "type": "mesh3d"
           }
          ],
          "parcoords": [
           {
            "line": {
             "colorbar": {
              "outlinewidth": 0,
              "ticks": ""
             }
            },
            "type": "parcoords"
           }
          ],
          "pie": [
           {
            "automargin": true,
            "type": "pie"
           }
          ],
          "scatter": [
           {
            "fillpattern": {
             "fillmode": "overlay",
             "size": 10,
             "solidity": 0.2
            },
            "type": "scatter"
           }
          ],
          "scatter3d": [
           {
            "line": {
             "colorbar": {
              "outlinewidth": 0,
              "ticks": ""
             }
            },
            "marker": {
             "colorbar": {
              "outlinewidth": 0,
              "ticks": ""
             }
            },
            "type": "scatter3d"
           }
          ],
          "scattercarpet": [
           {
            "marker": {
             "colorbar": {
              "outlinewidth": 0,
              "ticks": ""
             }
            },
            "type": "scattercarpet"
           }
          ],
          "scattergeo": [
           {
            "marker": {
             "colorbar": {
              "outlinewidth": 0,
              "ticks": ""
             }
            },
            "type": "scattergeo"
           }
          ],
          "scattergl": [
           {
            "marker": {
             "colorbar": {
              "outlinewidth": 0,
              "ticks": ""
             }
            },
            "type": "scattergl"
           }
          ],
          "scattermapbox": [
           {
            "marker": {
             "colorbar": {
              "outlinewidth": 0,
              "ticks": ""
             }
            },
            "type": "scattermapbox"
           }
          ],
          "scatterpolar": [
           {
            "marker": {
             "colorbar": {
              "outlinewidth": 0,
              "ticks": ""
             }
            },
            "type": "scatterpolar"
           }
          ],
          "scatterpolargl": [
           {
            "marker": {
             "colorbar": {
              "outlinewidth": 0,
              "ticks": ""
             }
            },
            "type": "scatterpolargl"
           }
          ],
          "scatterternary": [
           {
            "marker": {
             "colorbar": {
              "outlinewidth": 0,
              "ticks": ""
             }
            },
            "type": "scatterternary"
           }
          ],
          "surface": [
           {
            "colorbar": {
             "outlinewidth": 0,
             "ticks": ""
            },
            "colorscale": [
             [
              0,
              "#0d0887"
             ],
             [
              0.1111111111111111,
              "#46039f"
             ],
             [
              0.2222222222222222,
              "#7201a8"
             ],
             [
              0.3333333333333333,
              "#9c179e"
             ],
             [
              0.4444444444444444,
              "#bd3786"
             ],
             [
              0.5555555555555556,
              "#d8576b"
             ],
             [
              0.6666666666666666,
              "#ed7953"
             ],
             [
              0.7777777777777778,
              "#fb9f3a"
             ],
             [
              0.8888888888888888,
              "#fdca26"
             ],
             [
              1,
              "#f0f921"
             ]
            ],
            "type": "surface"
           }
          ],
          "table": [
           {
            "cells": {
             "fill": {
              "color": "#EBF0F8"
             },
             "line": {
              "color": "white"
             }
            },
            "header": {
             "fill": {
              "color": "#C8D4E3"
             },
             "line": {
              "color": "white"
             }
            },
            "type": "table"
           }
          ]
         },
         "layout": {
          "annotationdefaults": {
           "arrowcolor": "#2a3f5f",
           "arrowhead": 0,
           "arrowwidth": 1
          },
          "autotypenumbers": "strict",
          "coloraxis": {
           "colorbar": {
            "outlinewidth": 0,
            "ticks": ""
           }
          },
          "colorscale": {
           "diverging": [
            [
             0,
             "#8e0152"
            ],
            [
             0.1,
             "#c51b7d"
            ],
            [
             0.2,
             "#de77ae"
            ],
            [
             0.3,
             "#f1b6da"
            ],
            [
             0.4,
             "#fde0ef"
            ],
            [
             0.5,
             "#f7f7f7"
            ],
            [
             0.6,
             "#e6f5d0"
            ],
            [
             0.7,
             "#b8e186"
            ],
            [
             0.8,
             "#7fbc41"
            ],
            [
             0.9,
             "#4d9221"
            ],
            [
             1,
             "#276419"
            ]
           ],
           "sequential": [
            [
             0,
             "#0d0887"
            ],
            [
             0.1111111111111111,
             "#46039f"
            ],
            [
             0.2222222222222222,
             "#7201a8"
            ],
            [
             0.3333333333333333,
             "#9c179e"
            ],
            [
             0.4444444444444444,
             "#bd3786"
            ],
            [
             0.5555555555555556,
             "#d8576b"
            ],
            [
             0.6666666666666666,
             "#ed7953"
            ],
            [
             0.7777777777777778,
             "#fb9f3a"
            ],
            [
             0.8888888888888888,
             "#fdca26"
            ],
            [
             1,
             "#f0f921"
            ]
           ],
           "sequentialminus": [
            [
             0,
             "#0d0887"
            ],
            [
             0.1111111111111111,
             "#46039f"
            ],
            [
             0.2222222222222222,
             "#7201a8"
            ],
            [
             0.3333333333333333,
             "#9c179e"
            ],
            [
             0.4444444444444444,
             "#bd3786"
            ],
            [
             0.5555555555555556,
             "#d8576b"
            ],
            [
             0.6666666666666666,
             "#ed7953"
            ],
            [
             0.7777777777777778,
             "#fb9f3a"
            ],
            [
             0.8888888888888888,
             "#fdca26"
            ],
            [
             1,
             "#f0f921"
            ]
           ]
          },
          "colorway": [
           "#636efa",
           "#EF553B",
           "#00cc96",
           "#ab63fa",
           "#FFA15A",
           "#19d3f3",
           "#FF6692",
           "#B6E880",
           "#FF97FF",
           "#FECB52"
          ],
          "font": {
           "color": "#2a3f5f"
          },
          "geo": {
           "bgcolor": "white",
           "lakecolor": "white",
           "landcolor": "#E5ECF6",
           "showlakes": true,
           "showland": true,
           "subunitcolor": "white"
          },
          "hoverlabel": {
           "align": "left"
          },
          "hovermode": "closest",
          "mapbox": {
           "style": "light"
          },
          "paper_bgcolor": "white",
          "plot_bgcolor": "#E5ECF6",
          "polar": {
           "angularaxis": {
            "gridcolor": "white",
            "linecolor": "white",
            "ticks": ""
           },
           "bgcolor": "#E5ECF6",
           "radialaxis": {
            "gridcolor": "white",
            "linecolor": "white",
            "ticks": ""
           }
          },
          "scene": {
           "xaxis": {
            "backgroundcolor": "#E5ECF6",
            "gridcolor": "white",
            "gridwidth": 2,
            "linecolor": "white",
            "showbackground": true,
            "ticks": "",
            "zerolinecolor": "white"
           },
           "yaxis": {
            "backgroundcolor": "#E5ECF6",
            "gridcolor": "white",
            "gridwidth": 2,
            "linecolor": "white",
            "showbackground": true,
            "ticks": "",
            "zerolinecolor": "white"
           },
           "zaxis": {
            "backgroundcolor": "#E5ECF6",
            "gridcolor": "white",
            "gridwidth": 2,
            "linecolor": "white",
            "showbackground": true,
            "ticks": "",
            "zerolinecolor": "white"
           }
          },
          "shapedefaults": {
           "line": {
            "color": "#2a3f5f"
           }
          },
          "ternary": {
           "aaxis": {
            "gridcolor": "white",
            "linecolor": "white",
            "ticks": ""
           },
           "baxis": {
            "gridcolor": "white",
            "linecolor": "white",
            "ticks": ""
           },
           "bgcolor": "#E5ECF6",
           "caxis": {
            "gridcolor": "white",
            "linecolor": "white",
            "ticks": ""
           }
          },
          "title": {
           "x": 0.05
          },
          "xaxis": {
           "automargin": true,
           "gridcolor": "white",
           "linecolor": "white",
           "ticks": "",
           "title": {
            "standoff": 15
           },
           "zerolinecolor": "white",
           "zerolinewidth": 2
          },
          "yaxis": {
           "automargin": true,
           "gridcolor": "white",
           "linecolor": "white",
           "ticks": "",
           "title": {
            "standoff": 15
           },
           "zerolinecolor": "white",
           "zerolinewidth": 2
          }
         }
        },
        "title": {
         "text": "Distribution of Transaction Amount"
        },
        "xaxis": {
         "anchor": "y",
         "domain": [
          0,
          1
         ],
         "title": {
          "text": "Transaction Amount"
         }
        },
        "yaxis": {
         "anchor": "x",
         "domain": [
          0,
          1
         ],
         "title": {
          "text": "count"
         }
        }
       }
      }
     },
     "metadata": {},
     "output_type": "display_data"
    }
   ],
   "source": [
    "#plot 4: Distribution of Transaction Amount \n",
    "fig = px.histogram(fraud, x='amount', nbins=20,\n",
    "                   title='Distribution of Transaction Amount',\n",
    "                   labels={'amount': 'Transaction Amount'} )\n",
    "fig.show()                   "
   ]
  },
  {
   "cell_type": "code",
   "execution_count": 78,
   "id": "1da1cbbd",
   "metadata": {},
   "outputs": [
    {
     "data": {
      "application/vnd.plotly.v1+json": {
       "config": {
        "plotlyServerURL": "https://plot.ly"
       },
       "data": [
        {
         "hovertemplate": "Transaction Frequency=%{x}<br>Fraud Markers=%{marker.color}<extra></extra>",
         "legendgroup": "",
         "marker": {
          "color": [
           1,
           1,
           1,
           1,
           1,
           1,
           1,
           1,
           1,
           1,
           1,
           1,
           1,
           1,
           1,
           1,
           1,
           1,
           1,
           1,
           1,
           1,
           1,
           1,
           1,
           1,
           1,
           1,
           1,
           1,
           1,
           1,
           1,
           1,
           1,
           1,
           1,
           1,
           1,
           1,
           1,
           1,
           1,
           1,
           1,
           1,
           1,
           1,
           1,
           1,
           1,
           1,
           1,
           1,
           1,
           1,
           1,
           1,
           1,
           1,
           1,
           1,
           1,
           1,
           1,
           1,
           1,
           1,
           1,
           1,
           1,
           1,
           1,
           1,
           1,
           1,
           1,
           1,
           1,
           1,
           1,
           1,
           1,
           1,
           1,
           1,
           1,
           1,
           1,
           1,
           1,
           1,
           1,
           1,
           1,
           1,
           1,
           1,
           1,
           1,
           1,
           1,
           1,
           1,
           1,
           1,
           1,
           1,
           1,
           1,
           1,
           1,
           1,
           1,
           1,
           1,
           1,
           1,
           1,
           1,
           1,
           1,
           1,
           1,
           1,
           1,
           1,
           1,
           1,
           1,
           1,
           1,
           1,
           1,
           1,
           1,
           1,
           1,
           1,
           1,
           1,
           1,
           1,
           1,
           1,
           1,
           1,
           1,
           1,
           1,
           1,
           1,
           1,
           1,
           1
          ],
          "coloraxis": "coloraxis",
          "symbol": "circle"
         },
         "mode": "markers",
         "name": "",
         "orientation": "v",
         "showlegend": false,
         "type": "scatter",
         "x": [
          1,
          30,
          2,
          0,
          1,
          20,
          0,
          3,
          2,
          1,
          3,
          0,
          0,
          1,
          1,
          0,
          4,
          1,
          0,
          2,
          2,
          20,
          20,
          10,
          3,
          2,
          0,
          2,
          4,
          30,
          0,
          3,
          0,
          2,
          0,
          1,
          3,
          2,
          0,
          40,
          30,
          3,
          4,
          4,
          3,
          2,
          8,
          3,
          10,
          4,
          0,
          2,
          1,
          10,
          1,
          0,
          1,
          2,
          2,
          3,
          1,
          1,
          1,
          4,
          0,
          5,
          0,
          3,
          1,
          1,
          2,
          2,
          2,
          1,
          1,
          10,
          1,
          1,
          3,
          2,
          0,
          40,
          0,
          1,
          1,
          0,
          2,
          1,
          4,
          0,
          4,
          5,
          2,
          2,
          2,
          2,
          1,
          2,
          1,
          1,
          1,
          2,
          2,
          0,
          0,
          5,
          1,
          4,
          2,
          2,
          1,
          3,
          1,
          2,
          1,
          2,
          1,
          2,
          2,
          2,
          0,
          4,
          50,
          2,
          5,
          3,
          20,
          1,
          0,
          1,
          0,
          2,
          1,
          2,
          0,
          2,
          2,
          3,
          2,
          2,
          40,
          0,
          4,
          5,
          2,
          1,
          2,
          2,
          5,
          0,
          1,
          1,
          3,
          10,
          2
         ],
         "xaxis": "x",
         "y": [
          1,
          1,
          1,
          1,
          1,
          1,
          1,
          1,
          1,
          1,
          1,
          1,
          1,
          1,
          1,
          1,
          1,
          1,
          1,
          1,
          1,
          1,
          1,
          1,
          1,
          1,
          1,
          1,
          1,
          1,
          1,
          1,
          1,
          1,
          1,
          1,
          1,
          1,
          1,
          1,
          1,
          1,
          1,
          1,
          1,
          1,
          1,
          1,
          1,
          1,
          1,
          1,
          1,
          1,
          1,
          1,
          1,
          1,
          1,
          1,
          1,
          1,
          1,
          1,
          1,
          1,
          1,
          1,
          1,
          1,
          1,
          1,
          1,
          1,
          1,
          1,
          1,
          1,
          1,
          1,
          1,
          1,
          1,
          1,
          1,
          1,
          1,
          1,
          1,
          1,
          1,
          1,
          1,
          1,
          1,
          1,
          1,
          1,
          1,
          1,
          1,
          1,
          1,
          1,
          1,
          1,
          1,
          1,
          1,
          1,
          1,
          1,
          1,
          1,
          1,
          1,
          1,
          1,
          1,
          1,
          1,
          1,
          1,
          1,
          1,
          1,
          1,
          1,
          1,
          1,
          1,
          1,
          1,
          1,
          1,
          1,
          1,
          1,
          1,
          1,
          1,
          1,
          1,
          1,
          1,
          1,
          1,
          1,
          1,
          1,
          1,
          1,
          1,
          1,
          1
         ],
         "yaxis": "y"
        }
       ],
       "layout": {
        "coloraxis": {
         "colorbar": {
          "title": {
           "text": "Fraud Markers"
          }
         },
         "colorscale": [
          [
           0,
           "#0d0887"
          ],
          [
           0.1111111111111111,
           "#46039f"
          ],
          [
           0.2222222222222222,
           "#7201a8"
          ],
          [
           0.3333333333333333,
           "#9c179e"
          ],
          [
           0.4444444444444444,
           "#bd3786"
          ],
          [
           0.5555555555555556,
           "#d8576b"
          ],
          [
           0.6666666666666666,
           "#ed7953"
          ],
          [
           0.7777777777777778,
           "#fb9f3a"
          ],
          [
           0.8888888888888888,
           "#fdca26"
          ],
          [
           1,
           "#f0f921"
          ]
         ]
        },
        "legend": {
         "tracegroupgap": 0
        },
        "template": {
         "data": {
          "bar": [
           {
            "error_x": {
             "color": "#2a3f5f"
            },
            "error_y": {
             "color": "#2a3f5f"
            },
            "marker": {
             "line": {
              "color": "#E5ECF6",
              "width": 0.5
             },
             "pattern": {
              "fillmode": "overlay",
              "size": 10,
              "solidity": 0.2
             }
            },
            "type": "bar"
           }
          ],
          "barpolar": [
           {
            "marker": {
             "line": {
              "color": "#E5ECF6",
              "width": 0.5
             },
             "pattern": {
              "fillmode": "overlay",
              "size": 10,
              "solidity": 0.2
             }
            },
            "type": "barpolar"
           }
          ],
          "carpet": [
           {
            "aaxis": {
             "endlinecolor": "#2a3f5f",
             "gridcolor": "white",
             "linecolor": "white",
             "minorgridcolor": "white",
             "startlinecolor": "#2a3f5f"
            },
            "baxis": {
             "endlinecolor": "#2a3f5f",
             "gridcolor": "white",
             "linecolor": "white",
             "minorgridcolor": "white",
             "startlinecolor": "#2a3f5f"
            },
            "type": "carpet"
           }
          ],
          "choropleth": [
           {
            "colorbar": {
             "outlinewidth": 0,
             "ticks": ""
            },
            "type": "choropleth"
           }
          ],
          "contour": [
           {
            "colorbar": {
             "outlinewidth": 0,
             "ticks": ""
            },
            "colorscale": [
             [
              0,
              "#0d0887"
             ],
             [
              0.1111111111111111,
              "#46039f"
             ],
             [
              0.2222222222222222,
              "#7201a8"
             ],
             [
              0.3333333333333333,
              "#9c179e"
             ],
             [
              0.4444444444444444,
              "#bd3786"
             ],
             [
              0.5555555555555556,
              "#d8576b"
             ],
             [
              0.6666666666666666,
              "#ed7953"
             ],
             [
              0.7777777777777778,
              "#fb9f3a"
             ],
             [
              0.8888888888888888,
              "#fdca26"
             ],
             [
              1,
              "#f0f921"
             ]
            ],
            "type": "contour"
           }
          ],
          "contourcarpet": [
           {
            "colorbar": {
             "outlinewidth": 0,
             "ticks": ""
            },
            "type": "contourcarpet"
           }
          ],
          "heatmap": [
           {
            "colorbar": {
             "outlinewidth": 0,
             "ticks": ""
            },
            "colorscale": [
             [
              0,
              "#0d0887"
             ],
             [
              0.1111111111111111,
              "#46039f"
             ],
             [
              0.2222222222222222,
              "#7201a8"
             ],
             [
              0.3333333333333333,
              "#9c179e"
             ],
             [
              0.4444444444444444,
              "#bd3786"
             ],
             [
              0.5555555555555556,
              "#d8576b"
             ],
             [
              0.6666666666666666,
              "#ed7953"
             ],
             [
              0.7777777777777778,
              "#fb9f3a"
             ],
             [
              0.8888888888888888,
              "#fdca26"
             ],
             [
              1,
              "#f0f921"
             ]
            ],
            "type": "heatmap"
           }
          ],
          "heatmapgl": [
           {
            "colorbar": {
             "outlinewidth": 0,
             "ticks": ""
            },
            "colorscale": [
             [
              0,
              "#0d0887"
             ],
             [
              0.1111111111111111,
              "#46039f"
             ],
             [
              0.2222222222222222,
              "#7201a8"
             ],
             [
              0.3333333333333333,
              "#9c179e"
             ],
             [
              0.4444444444444444,
              "#bd3786"
             ],
             [
              0.5555555555555556,
              "#d8576b"
             ],
             [
              0.6666666666666666,
              "#ed7953"
             ],
             [
              0.7777777777777778,
              "#fb9f3a"
             ],
             [
              0.8888888888888888,
              "#fdca26"
             ],
             [
              1,
              "#f0f921"
             ]
            ],
            "type": "heatmapgl"
           }
          ],
          "histogram": [
           {
            "marker": {
             "pattern": {
              "fillmode": "overlay",
              "size": 10,
              "solidity": 0.2
             }
            },
            "type": "histogram"
           }
          ],
          "histogram2d": [
           {
            "colorbar": {
             "outlinewidth": 0,
             "ticks": ""
            },
            "colorscale": [
             [
              0,
              "#0d0887"
             ],
             [
              0.1111111111111111,
              "#46039f"
             ],
             [
              0.2222222222222222,
              "#7201a8"
             ],
             [
              0.3333333333333333,
              "#9c179e"
             ],
             [
              0.4444444444444444,
              "#bd3786"
             ],
             [
              0.5555555555555556,
              "#d8576b"
             ],
             [
              0.6666666666666666,
              "#ed7953"
             ],
             [
              0.7777777777777778,
              "#fb9f3a"
             ],
             [
              0.8888888888888888,
              "#fdca26"
             ],
             [
              1,
              "#f0f921"
             ]
            ],
            "type": "histogram2d"
           }
          ],
          "histogram2dcontour": [
           {
            "colorbar": {
             "outlinewidth": 0,
             "ticks": ""
            },
            "colorscale": [
             [
              0,
              "#0d0887"
             ],
             [
              0.1111111111111111,
              "#46039f"
             ],
             [
              0.2222222222222222,
              "#7201a8"
             ],
             [
              0.3333333333333333,
              "#9c179e"
             ],
             [
              0.4444444444444444,
              "#bd3786"
             ],
             [
              0.5555555555555556,
              "#d8576b"
             ],
             [
              0.6666666666666666,
              "#ed7953"
             ],
             [
              0.7777777777777778,
              "#fb9f3a"
             ],
             [
              0.8888888888888888,
              "#fdca26"
             ],
             [
              1,
              "#f0f921"
             ]
            ],
            "type": "histogram2dcontour"
           }
          ],
          "mesh3d": [
           {
            "colorbar": {
             "outlinewidth": 0,
             "ticks": ""
            },
            "type": "mesh3d"
           }
          ],
          "parcoords": [
           {
            "line": {
             "colorbar": {
              "outlinewidth": 0,
              "ticks": ""
             }
            },
            "type": "parcoords"
           }
          ],
          "pie": [
           {
            "automargin": true,
            "type": "pie"
           }
          ],
          "scatter": [
           {
            "fillpattern": {
             "fillmode": "overlay",
             "size": 10,
             "solidity": 0.2
            },
            "type": "scatter"
           }
          ],
          "scatter3d": [
           {
            "line": {
             "colorbar": {
              "outlinewidth": 0,
              "ticks": ""
             }
            },
            "marker": {
             "colorbar": {
              "outlinewidth": 0,
              "ticks": ""
             }
            },
            "type": "scatter3d"
           }
          ],
          "scattercarpet": [
           {
            "marker": {
             "colorbar": {
              "outlinewidth": 0,
              "ticks": ""
             }
            },
            "type": "scattercarpet"
           }
          ],
          "scattergeo": [
           {
            "marker": {
             "colorbar": {
              "outlinewidth": 0,
              "ticks": ""
             }
            },
            "type": "scattergeo"
           }
          ],
          "scattergl": [
           {
            "marker": {
             "colorbar": {
              "outlinewidth": 0,
              "ticks": ""
             }
            },
            "type": "scattergl"
           }
          ],
          "scattermapbox": [
           {
            "marker": {
             "colorbar": {
              "outlinewidth": 0,
              "ticks": ""
             }
            },
            "type": "scattermapbox"
           }
          ],
          "scatterpolar": [
           {
            "marker": {
             "colorbar": {
              "outlinewidth": 0,
              "ticks": ""
             }
            },
            "type": "scatterpolar"
           }
          ],
          "scatterpolargl": [
           {
            "marker": {
             "colorbar": {
              "outlinewidth": 0,
              "ticks": ""
             }
            },
            "type": "scatterpolargl"
           }
          ],
          "scatterternary": [
           {
            "marker": {
             "colorbar": {
              "outlinewidth": 0,
              "ticks": ""
             }
            },
            "type": "scatterternary"
           }
          ],
          "surface": [
           {
            "colorbar": {
             "outlinewidth": 0,
             "ticks": ""
            },
            "colorscale": [
             [
              0,
              "#0d0887"
             ],
             [
              0.1111111111111111,
              "#46039f"
             ],
             [
              0.2222222222222222,
              "#7201a8"
             ],
             [
              0.3333333333333333,
              "#9c179e"
             ],
             [
              0.4444444444444444,
              "#bd3786"
             ],
             [
              0.5555555555555556,
              "#d8576b"
             ],
             [
              0.6666666666666666,
              "#ed7953"
             ],
             [
              0.7777777777777778,
              "#fb9f3a"
             ],
             [
              0.8888888888888888,
              "#fdca26"
             ],
             [
              1,
              "#f0f921"
             ]
            ],
            "type": "surface"
           }
          ],
          "table": [
           {
            "cells": {
             "fill": {
              "color": "#EBF0F8"
             },
             "line": {
              "color": "white"
             }
            },
            "header": {
             "fill": {
              "color": "#C8D4E3"
             },
             "line": {
              "color": "white"
             }
            },
            "type": "table"
           }
          ]
         },
         "layout": {
          "annotationdefaults": {
           "arrowcolor": "#2a3f5f",
           "arrowhead": 0,
           "arrowwidth": 1
          },
          "autotypenumbers": "strict",
          "coloraxis": {
           "colorbar": {
            "outlinewidth": 0,
            "ticks": ""
           }
          },
          "colorscale": {
           "diverging": [
            [
             0,
             "#8e0152"
            ],
            [
             0.1,
             "#c51b7d"
            ],
            [
             0.2,
             "#de77ae"
            ],
            [
             0.3,
             "#f1b6da"
            ],
            [
             0.4,
             "#fde0ef"
            ],
            [
             0.5,
             "#f7f7f7"
            ],
            [
             0.6,
             "#e6f5d0"
            ],
            [
             0.7,
             "#b8e186"
            ],
            [
             0.8,
             "#7fbc41"
            ],
            [
             0.9,
             "#4d9221"
            ],
            [
             1,
             "#276419"
            ]
           ],
           "sequential": [
            [
             0,
             "#0d0887"
            ],
            [
             0.1111111111111111,
             "#46039f"
            ],
            [
             0.2222222222222222,
             "#7201a8"
            ],
            [
             0.3333333333333333,
             "#9c179e"
            ],
            [
             0.4444444444444444,
             "#bd3786"
            ],
            [
             0.5555555555555556,
             "#d8576b"
            ],
            [
             0.6666666666666666,
             "#ed7953"
            ],
            [
             0.7777777777777778,
             "#fb9f3a"
            ],
            [
             0.8888888888888888,
             "#fdca26"
            ],
            [
             1,
             "#f0f921"
            ]
           ],
           "sequentialminus": [
            [
             0,
             "#0d0887"
            ],
            [
             0.1111111111111111,
             "#46039f"
            ],
            [
             0.2222222222222222,
             "#7201a8"
            ],
            [
             0.3333333333333333,
             "#9c179e"
            ],
            [
             0.4444444444444444,
             "#bd3786"
            ],
            [
             0.5555555555555556,
             "#d8576b"
            ],
            [
             0.6666666666666666,
             "#ed7953"
            ],
            [
             0.7777777777777778,
             "#fb9f3a"
            ],
            [
             0.8888888888888888,
             "#fdca26"
            ],
            [
             1,
             "#f0f921"
            ]
           ]
          },
          "colorway": [
           "#636efa",
           "#EF553B",
           "#00cc96",
           "#ab63fa",
           "#FFA15A",
           "#19d3f3",
           "#FF6692",
           "#B6E880",
           "#FF97FF",
           "#FECB52"
          ],
          "font": {
           "color": "#2a3f5f"
          },
          "geo": {
           "bgcolor": "white",
           "lakecolor": "white",
           "landcolor": "#E5ECF6",
           "showlakes": true,
           "showland": true,
           "subunitcolor": "white"
          },
          "hoverlabel": {
           "align": "left"
          },
          "hovermode": "closest",
          "mapbox": {
           "style": "light"
          },
          "paper_bgcolor": "white",
          "plot_bgcolor": "#E5ECF6",
          "polar": {
           "angularaxis": {
            "gridcolor": "white",
            "linecolor": "white",
            "ticks": ""
           },
           "bgcolor": "#E5ECF6",
           "radialaxis": {
            "gridcolor": "white",
            "linecolor": "white",
            "ticks": ""
           }
          },
          "scene": {
           "xaxis": {
            "backgroundcolor": "#E5ECF6",
            "gridcolor": "white",
            "gridwidth": 2,
            "linecolor": "white",
            "showbackground": true,
            "ticks": "",
            "zerolinecolor": "white"
           },
           "yaxis": {
            "backgroundcolor": "#E5ECF6",
            "gridcolor": "white",
            "gridwidth": 2,
            "linecolor": "white",
            "showbackground": true,
            "ticks": "",
            "zerolinecolor": "white"
           },
           "zaxis": {
            "backgroundcolor": "#E5ECF6",
            "gridcolor": "white",
            "gridwidth": 2,
            "linecolor": "white",
            "showbackground": true,
            "ticks": "",
            "zerolinecolor": "white"
           }
          },
          "shapedefaults": {
           "line": {
            "color": "#2a3f5f"
           }
          },
          "ternary": {
           "aaxis": {
            "gridcolor": "white",
            "linecolor": "white",
            "ticks": ""
           },
           "baxis": {
            "gridcolor": "white",
            "linecolor": "white",
            "ticks": ""
           },
           "bgcolor": "#E5ECF6",
           "caxis": {
            "gridcolor": "white",
            "linecolor": "white",
            "ticks": ""
           }
          },
          "title": {
           "x": 0.05
          },
          "xaxis": {
           "automargin": true,
           "gridcolor": "white",
           "linecolor": "white",
           "ticks": "",
           "title": {
            "standoff": 15
           },
           "zerolinecolor": "white",
           "zerolinewidth": 2
          },
          "yaxis": {
           "automargin": true,
           "gridcolor": "white",
           "linecolor": "white",
           "ticks": "",
           "title": {
            "standoff": 15
           },
           "zerolinecolor": "white",
           "zerolinewidth": 2
          }
         }
        },
        "title": {
         "text": "Relationship between Transaction Frequency and Fraud"
        },
        "xaxis": {
         "anchor": "y",
         "domain": [
          0,
          1
         ],
         "title": {
          "text": "Transaction Frequency"
         }
        },
        "yaxis": {
         "anchor": "x",
         "domain": [
          0,
          1
         ],
         "title": {
          "text": "Fraud Markers"
         }
        }
       }
      }
     },
     "metadata": {},
     "output_type": "display_data"
    }
   ],
   "source": [
    "#plot 5:Relationship between Transaction frequency and Fraud using scatter plot\n",
    "fig = px.scatter(fraud, x='Transaction_Frequency', y='fraud',\n",
    "                   title='Relationship between Transaction Frequency and Fraud',\n",
    "                   labels={'Transaction_Frequency': 'Transaction Frequency', 'fraud': 'Fraud Markers'},\n",
    "                   color='fraud',color_discrete_map={0: 'lightblue', 1: 'orange'} )\n",
    "\n",
    "fig.show()"
   ]
  },
  {
   "cell_type": "code",
   "execution_count": 79,
   "id": "390b8585",
   "metadata": {},
   "outputs": [
    {
     "data": {
      "application/vnd.plotly.v1+json": {
       "config": {
        "plotlyServerURL": "https://plot.ly"
       },
       "data": [
        {
         "hovertemplate": "Days Since Last Transaction=%{x}<br>Fraud Markers=%{marker.color}<extra></extra>",
         "legendgroup": "",
         "marker": {
          "color": [
           1,
           1,
           1,
           1,
           1,
           1,
           1,
           1,
           1,
           1,
           1,
           1,
           1,
           1,
           1,
           1,
           1,
           1,
           1,
           1,
           1,
           1,
           1,
           1,
           1,
           1,
           1,
           1,
           1,
           1,
           1,
           1,
           1,
           1,
           1,
           1,
           1,
           1,
           1,
           1,
           1,
           1,
           1,
           1,
           1,
           1,
           1,
           1,
           1,
           1,
           1,
           1,
           1,
           1,
           1,
           1,
           1,
           1,
           1,
           1,
           1,
           1,
           1,
           1,
           1,
           1,
           1,
           1,
           1,
           1,
           1,
           1,
           1,
           1,
           1,
           1,
           1,
           1,
           1,
           1,
           1,
           1,
           1,
           1,
           1,
           1,
           1,
           1,
           1,
           1,
           1,
           1,
           1,
           1,
           1,
           1,
           1,
           1,
           1,
           1,
           1,
           1,
           1,
           1,
           1,
           1,
           1,
           1,
           1,
           1,
           1,
           1,
           1,
           1,
           1,
           1,
           1,
           1,
           1,
           1,
           1,
           1,
           1,
           1,
           1,
           1,
           1,
           1,
           1,
           1,
           1,
           1,
           1,
           1,
           1,
           1,
           1,
           1,
           1,
           1,
           1,
           1,
           1,
           1,
           1,
           1,
           1,
           1,
           1,
           1,
           1,
           1,
           1,
           1,
           1
          ],
          "coloraxis": "coloraxis",
          "symbol": "circle"
         },
         "mode": "markers",
         "name": "",
         "orientation": "v",
         "showlegend": false,
         "type": "scatter",
         "x": [
          5,
          20,
          22,
          28,
          25,
          7,
          14,
          11,
          5,
          18,
          6,
          6,
          5,
          11,
          15,
          24,
          13,
          14,
          7,
          23,
          2,
          17,
          23,
          3,
          29,
          7,
          28,
          16,
          7,
          7,
          27,
          9,
          18,
          26,
          7,
          14,
          8,
          17,
          6,
          11,
          11,
          4,
          6,
          27,
          27,
          9,
          26,
          14,
          2,
          21,
          11,
          4,
          28,
          20,
          14,
          8,
          13,
          9,
          29,
          9,
          16,
          26,
          9,
          5,
          24,
          24,
          21,
          5,
          24,
          25,
          14,
          24,
          2,
          21,
          17,
          11,
          26,
          20,
          29,
          24,
          17,
          27,
          22,
          7,
          18,
          9,
          19,
          3,
          7,
          19,
          21,
          19,
          20,
          29,
          19,
          13,
          26,
          19,
          10,
          17,
          25,
          7,
          29,
          19,
          19,
          17,
          10,
          4,
          26,
          8,
          23,
          20,
          18,
          15,
          28,
          22,
          6,
          14,
          20,
          18,
          18,
          28,
          29,
          9,
          24,
          29,
          19,
          23,
          7,
          1,
          7,
          25,
          22,
          25,
          6,
          11,
          21,
          22,
          21,
          8,
          18,
          5,
          3,
          22,
          17,
          27,
          21,
          14,
          10,
          18,
          10,
          17,
          6,
          13,
          22
         ],
         "xaxis": "x",
         "y": [
          1,
          1,
          1,
          1,
          1,
          1,
          1,
          1,
          1,
          1,
          1,
          1,
          1,
          1,
          1,
          1,
          1,
          1,
          1,
          1,
          1,
          1,
          1,
          1,
          1,
          1,
          1,
          1,
          1,
          1,
          1,
          1,
          1,
          1,
          1,
          1,
          1,
          1,
          1,
          1,
          1,
          1,
          1,
          1,
          1,
          1,
          1,
          1,
          1,
          1,
          1,
          1,
          1,
          1,
          1,
          1,
          1,
          1,
          1,
          1,
          1,
          1,
          1,
          1,
          1,
          1,
          1,
          1,
          1,
          1,
          1,
          1,
          1,
          1,
          1,
          1,
          1,
          1,
          1,
          1,
          1,
          1,
          1,
          1,
          1,
          1,
          1,
          1,
          1,
          1,
          1,
          1,
          1,
          1,
          1,
          1,
          1,
          1,
          1,
          1,
          1,
          1,
          1,
          1,
          1,
          1,
          1,
          1,
          1,
          1,
          1,
          1,
          1,
          1,
          1,
          1,
          1,
          1,
          1,
          1,
          1,
          1,
          1,
          1,
          1,
          1,
          1,
          1,
          1,
          1,
          1,
          1,
          1,
          1,
          1,
          1,
          1,
          1,
          1,
          1,
          1,
          1,
          1,
          1,
          1,
          1,
          1,
          1,
          1,
          1,
          1,
          1,
          1,
          1,
          1
         ],
         "yaxis": "y"
        }
       ],
       "layout": {
        "coloraxis": {
         "colorbar": {
          "title": {
           "text": "Fraud Markers"
          }
         },
         "colorscale": [
          [
           0,
           "#0d0887"
          ],
          [
           0.1111111111111111,
           "#46039f"
          ],
          [
           0.2222222222222222,
           "#7201a8"
          ],
          [
           0.3333333333333333,
           "#9c179e"
          ],
          [
           0.4444444444444444,
           "#bd3786"
          ],
          [
           0.5555555555555556,
           "#d8576b"
          ],
          [
           0.6666666666666666,
           "#ed7953"
          ],
          [
           0.7777777777777778,
           "#fb9f3a"
          ],
          [
           0.8888888888888888,
           "#fdca26"
          ],
          [
           1,
           "#f0f921"
          ]
         ]
        },
        "legend": {
         "tracegroupgap": 0
        },
        "template": {
         "data": {
          "bar": [
           {
            "error_x": {
             "color": "#2a3f5f"
            },
            "error_y": {
             "color": "#2a3f5f"
            },
            "marker": {
             "line": {
              "color": "#E5ECF6",
              "width": 0.5
             },
             "pattern": {
              "fillmode": "overlay",
              "size": 10,
              "solidity": 0.2
             }
            },
            "type": "bar"
           }
          ],
          "barpolar": [
           {
            "marker": {
             "line": {
              "color": "#E5ECF6",
              "width": 0.5
             },
             "pattern": {
              "fillmode": "overlay",
              "size": 10,
              "solidity": 0.2
             }
            },
            "type": "barpolar"
           }
          ],
          "carpet": [
           {
            "aaxis": {
             "endlinecolor": "#2a3f5f",
             "gridcolor": "white",
             "linecolor": "white",
             "minorgridcolor": "white",
             "startlinecolor": "#2a3f5f"
            },
            "baxis": {
             "endlinecolor": "#2a3f5f",
             "gridcolor": "white",
             "linecolor": "white",
             "minorgridcolor": "white",
             "startlinecolor": "#2a3f5f"
            },
            "type": "carpet"
           }
          ],
          "choropleth": [
           {
            "colorbar": {
             "outlinewidth": 0,
             "ticks": ""
            },
            "type": "choropleth"
           }
          ],
          "contour": [
           {
            "colorbar": {
             "outlinewidth": 0,
             "ticks": ""
            },
            "colorscale": [
             [
              0,
              "#0d0887"
             ],
             [
              0.1111111111111111,
              "#46039f"
             ],
             [
              0.2222222222222222,
              "#7201a8"
             ],
             [
              0.3333333333333333,
              "#9c179e"
             ],
             [
              0.4444444444444444,
              "#bd3786"
             ],
             [
              0.5555555555555556,
              "#d8576b"
             ],
             [
              0.6666666666666666,
              "#ed7953"
             ],
             [
              0.7777777777777778,
              "#fb9f3a"
             ],
             [
              0.8888888888888888,
              "#fdca26"
             ],
             [
              1,
              "#f0f921"
             ]
            ],
            "type": "contour"
           }
          ],
          "contourcarpet": [
           {
            "colorbar": {
             "outlinewidth": 0,
             "ticks": ""
            },
            "type": "contourcarpet"
           }
          ],
          "heatmap": [
           {
            "colorbar": {
             "outlinewidth": 0,
             "ticks": ""
            },
            "colorscale": [
             [
              0,
              "#0d0887"
             ],
             [
              0.1111111111111111,
              "#46039f"
             ],
             [
              0.2222222222222222,
              "#7201a8"
             ],
             [
              0.3333333333333333,
              "#9c179e"
             ],
             [
              0.4444444444444444,
              "#bd3786"
             ],
             [
              0.5555555555555556,
              "#d8576b"
             ],
             [
              0.6666666666666666,
              "#ed7953"
             ],
             [
              0.7777777777777778,
              "#fb9f3a"
             ],
             [
              0.8888888888888888,
              "#fdca26"
             ],
             [
              1,
              "#f0f921"
             ]
            ],
            "type": "heatmap"
           }
          ],
          "heatmapgl": [
           {
            "colorbar": {
             "outlinewidth": 0,
             "ticks": ""
            },
            "colorscale": [
             [
              0,
              "#0d0887"
             ],
             [
              0.1111111111111111,
              "#46039f"
             ],
             [
              0.2222222222222222,
              "#7201a8"
             ],
             [
              0.3333333333333333,
              "#9c179e"
             ],
             [
              0.4444444444444444,
              "#bd3786"
             ],
             [
              0.5555555555555556,
              "#d8576b"
             ],
             [
              0.6666666666666666,
              "#ed7953"
             ],
             [
              0.7777777777777778,
              "#fb9f3a"
             ],
             [
              0.8888888888888888,
              "#fdca26"
             ],
             [
              1,
              "#f0f921"
             ]
            ],
            "type": "heatmapgl"
           }
          ],
          "histogram": [
           {
            "marker": {
             "pattern": {
              "fillmode": "overlay",
              "size": 10,
              "solidity": 0.2
             }
            },
            "type": "histogram"
           }
          ],
          "histogram2d": [
           {
            "colorbar": {
             "outlinewidth": 0,
             "ticks": ""
            },
            "colorscale": [
             [
              0,
              "#0d0887"
             ],
             [
              0.1111111111111111,
              "#46039f"
             ],
             [
              0.2222222222222222,
              "#7201a8"
             ],
             [
              0.3333333333333333,
              "#9c179e"
             ],
             [
              0.4444444444444444,
              "#bd3786"
             ],
             [
              0.5555555555555556,
              "#d8576b"
             ],
             [
              0.6666666666666666,
              "#ed7953"
             ],
             [
              0.7777777777777778,
              "#fb9f3a"
             ],
             [
              0.8888888888888888,
              "#fdca26"
             ],
             [
              1,
              "#f0f921"
             ]
            ],
            "type": "histogram2d"
           }
          ],
          "histogram2dcontour": [
           {
            "colorbar": {
             "outlinewidth": 0,
             "ticks": ""
            },
            "colorscale": [
             [
              0,
              "#0d0887"
             ],
             [
              0.1111111111111111,
              "#46039f"
             ],
             [
              0.2222222222222222,
              "#7201a8"
             ],
             [
              0.3333333333333333,
              "#9c179e"
             ],
             [
              0.4444444444444444,
              "#bd3786"
             ],
             [
              0.5555555555555556,
              "#d8576b"
             ],
             [
              0.6666666666666666,
              "#ed7953"
             ],
             [
              0.7777777777777778,
              "#fb9f3a"
             ],
             [
              0.8888888888888888,
              "#fdca26"
             ],
             [
              1,
              "#f0f921"
             ]
            ],
            "type": "histogram2dcontour"
           }
          ],
          "mesh3d": [
           {
            "colorbar": {
             "outlinewidth": 0,
             "ticks": ""
            },
            "type": "mesh3d"
           }
          ],
          "parcoords": [
           {
            "line": {
             "colorbar": {
              "outlinewidth": 0,
              "ticks": ""
             }
            },
            "type": "parcoords"
           }
          ],
          "pie": [
           {
            "automargin": true,
            "type": "pie"
           }
          ],
          "scatter": [
           {
            "fillpattern": {
             "fillmode": "overlay",
             "size": 10,
             "solidity": 0.2
            },
            "type": "scatter"
           }
          ],
          "scatter3d": [
           {
            "line": {
             "colorbar": {
              "outlinewidth": 0,
              "ticks": ""
             }
            },
            "marker": {
             "colorbar": {
              "outlinewidth": 0,
              "ticks": ""
             }
            },
            "type": "scatter3d"
           }
          ],
          "scattercarpet": [
           {
            "marker": {
             "colorbar": {
              "outlinewidth": 0,
              "ticks": ""
             }
            },
            "type": "scattercarpet"
           }
          ],
          "scattergeo": [
           {
            "marker": {
             "colorbar": {
              "outlinewidth": 0,
              "ticks": ""
             }
            },
            "type": "scattergeo"
           }
          ],
          "scattergl": [
           {
            "marker": {
             "colorbar": {
              "outlinewidth": 0,
              "ticks": ""
             }
            },
            "type": "scattergl"
           }
          ],
          "scattermapbox": [
           {
            "marker": {
             "colorbar": {
              "outlinewidth": 0,
              "ticks": ""
             }
            },
            "type": "scattermapbox"
           }
          ],
          "scatterpolar": [
           {
            "marker": {
             "colorbar": {
              "outlinewidth": 0,
              "ticks": ""
             }
            },
            "type": "scatterpolar"
           }
          ],
          "scatterpolargl": [
           {
            "marker": {
             "colorbar": {
              "outlinewidth": 0,
              "ticks": ""
             }
            },
            "type": "scatterpolargl"
           }
          ],
          "scatterternary": [
           {
            "marker": {
             "colorbar": {
              "outlinewidth": 0,
              "ticks": ""
             }
            },
            "type": "scatterternary"
           }
          ],
          "surface": [
           {
            "colorbar": {
             "outlinewidth": 0,
             "ticks": ""
            },
            "colorscale": [
             [
              0,
              "#0d0887"
             ],
             [
              0.1111111111111111,
              "#46039f"
             ],
             [
              0.2222222222222222,
              "#7201a8"
             ],
             [
              0.3333333333333333,
              "#9c179e"
             ],
             [
              0.4444444444444444,
              "#bd3786"
             ],
             [
              0.5555555555555556,
              "#d8576b"
             ],
             [
              0.6666666666666666,
              "#ed7953"
             ],
             [
              0.7777777777777778,
              "#fb9f3a"
             ],
             [
              0.8888888888888888,
              "#fdca26"
             ],
             [
              1,
              "#f0f921"
             ]
            ],
            "type": "surface"
           }
          ],
          "table": [
           {
            "cells": {
             "fill": {
              "color": "#EBF0F8"
             },
             "line": {
              "color": "white"
             }
            },
            "header": {
             "fill": {
              "color": "#C8D4E3"
             },
             "line": {
              "color": "white"
             }
            },
            "type": "table"
           }
          ]
         },
         "layout": {
          "annotationdefaults": {
           "arrowcolor": "#2a3f5f",
           "arrowhead": 0,
           "arrowwidth": 1
          },
          "autotypenumbers": "strict",
          "coloraxis": {
           "colorbar": {
            "outlinewidth": 0,
            "ticks": ""
           }
          },
          "colorscale": {
           "diverging": [
            [
             0,
             "#8e0152"
            ],
            [
             0.1,
             "#c51b7d"
            ],
            [
             0.2,
             "#de77ae"
            ],
            [
             0.3,
             "#f1b6da"
            ],
            [
             0.4,
             "#fde0ef"
            ],
            [
             0.5,
             "#f7f7f7"
            ],
            [
             0.6,
             "#e6f5d0"
            ],
            [
             0.7,
             "#b8e186"
            ],
            [
             0.8,
             "#7fbc41"
            ],
            [
             0.9,
             "#4d9221"
            ],
            [
             1,
             "#276419"
            ]
           ],
           "sequential": [
            [
             0,
             "#0d0887"
            ],
            [
             0.1111111111111111,
             "#46039f"
            ],
            [
             0.2222222222222222,
             "#7201a8"
            ],
            [
             0.3333333333333333,
             "#9c179e"
            ],
            [
             0.4444444444444444,
             "#bd3786"
            ],
            [
             0.5555555555555556,
             "#d8576b"
            ],
            [
             0.6666666666666666,
             "#ed7953"
            ],
            [
             0.7777777777777778,
             "#fb9f3a"
            ],
            [
             0.8888888888888888,
             "#fdca26"
            ],
            [
             1,
             "#f0f921"
            ]
           ],
           "sequentialminus": [
            [
             0,
             "#0d0887"
            ],
            [
             0.1111111111111111,
             "#46039f"
            ],
            [
             0.2222222222222222,
             "#7201a8"
            ],
            [
             0.3333333333333333,
             "#9c179e"
            ],
            [
             0.4444444444444444,
             "#bd3786"
            ],
            [
             0.5555555555555556,
             "#d8576b"
            ],
            [
             0.6666666666666666,
             "#ed7953"
            ],
            [
             0.7777777777777778,
             "#fb9f3a"
            ],
            [
             0.8888888888888888,
             "#fdca26"
            ],
            [
             1,
             "#f0f921"
            ]
           ]
          },
          "colorway": [
           "#636efa",
           "#EF553B",
           "#00cc96",
           "#ab63fa",
           "#FFA15A",
           "#19d3f3",
           "#FF6692",
           "#B6E880",
           "#FF97FF",
           "#FECB52"
          ],
          "font": {
           "color": "#2a3f5f"
          },
          "geo": {
           "bgcolor": "white",
           "lakecolor": "white",
           "landcolor": "#E5ECF6",
           "showlakes": true,
           "showland": true,
           "subunitcolor": "white"
          },
          "hoverlabel": {
           "align": "left"
          },
          "hovermode": "closest",
          "mapbox": {
           "style": "light"
          },
          "paper_bgcolor": "white",
          "plot_bgcolor": "#E5ECF6",
          "polar": {
           "angularaxis": {
            "gridcolor": "white",
            "linecolor": "white",
            "ticks": ""
           },
           "bgcolor": "#E5ECF6",
           "radialaxis": {
            "gridcolor": "white",
            "linecolor": "white",
            "ticks": ""
           }
          },
          "scene": {
           "xaxis": {
            "backgroundcolor": "#E5ECF6",
            "gridcolor": "white",
            "gridwidth": 2,
            "linecolor": "white",
            "showbackground": true,
            "ticks": "",
            "zerolinecolor": "white"
           },
           "yaxis": {
            "backgroundcolor": "#E5ECF6",
            "gridcolor": "white",
            "gridwidth": 2,
            "linecolor": "white",
            "showbackground": true,
            "ticks": "",
            "zerolinecolor": "white"
           },
           "zaxis": {
            "backgroundcolor": "#E5ECF6",
            "gridcolor": "white",
            "gridwidth": 2,
            "linecolor": "white",
            "showbackground": true,
            "ticks": "",
            "zerolinecolor": "white"
           }
          },
          "shapedefaults": {
           "line": {
            "color": "#2a3f5f"
           }
          },
          "ternary": {
           "aaxis": {
            "gridcolor": "white",
            "linecolor": "white",
            "ticks": ""
           },
           "baxis": {
            "gridcolor": "white",
            "linecolor": "white",
            "ticks": ""
           },
           "bgcolor": "#E5ECF6",
           "caxis": {
            "gridcolor": "white",
            "linecolor": "white",
            "ticks": ""
           }
          },
          "title": {
           "x": 0.05
          },
          "xaxis": {
           "automargin": true,
           "gridcolor": "white",
           "linecolor": "white",
           "ticks": "",
           "title": {
            "standoff": 15
           },
           "zerolinecolor": "white",
           "zerolinewidth": 2
          },
          "yaxis": {
           "automargin": true,
           "gridcolor": "white",
           "linecolor": "white",
           "ticks": "",
           "title": {
            "standoff": 15
           },
           "zerolinecolor": "white",
           "zerolinewidth": 2
          }
         }
        },
        "title": {
         "text": "Relationship between Transaction Frequency and Fraud"
        },
        "xaxis": {
         "anchor": "y",
         "domain": [
          0,
          1
         ],
         "title": {
          "text": "Days Since Last Transaction"
         }
        },
        "yaxis": {
         "anchor": "x",
         "domain": [
          0,
          1
         ],
         "title": {
          "text": "Fraud Markers"
         }
        }
       }
      }
     },
     "metadata": {},
     "output_type": "display_data"
    }
   ],
   "source": [
    "#plot 6:Relationship between Days Since Last Transaction and Fraud using scatter plot\n",
    "fig = px.scatter(fraud, x='Days_Since_Last_Transaction', y='fraud',\n",
    "                   title='Relationship between Transaction Frequency and Fraud',\n",
    "                   labels={'Days_Since_Last_Transaction': 'Days Since Last Transaction', 'fraud': 'Fraud Markers'},\n",
    "                   color='fraud',color_discrete_map={0: 'lightblue', 1: 'orange'} )\n",
    "\n",
    "fig.show()"
   ]
  },
  {
   "cell_type": "code",
   "execution_count": 80,
   "id": "7ed211bf",
   "metadata": {},
   "outputs": [
    {
     "data": {
      "application/vnd.plotly.v1+json": {
       "config": {
        "plotlyServerURL": "https://plot.ly"
       },
       "data": [
        {
         "alignmentgroup": "True",
         "hovertemplate": "color=Chhattisgarh<br>Transaction_State=%{x}<br>Fraud markers=%{y}<extra></extra>",
         "legendgroup": "Chhattisgarh",
         "marker": {
          "color": "rgb(102, 197, 204)",
          "pattern": {
           "shape": ""
          }
         },
         "name": "Chhattisgarh",
         "offsetgroup": "Chhattisgarh",
         "orientation": "v",
         "showlegend": true,
         "textposition": "auto",
         "type": "bar",
         "x": [
          "Chhattisgarh"
         ],
         "xaxis": "x",
         "y": [
          10
         ],
         "yaxis": "y"
        },
        {
         "alignmentgroup": "True",
         "hovertemplate": "color=Kerala<br>Transaction_State=%{x}<br>Fraud markers=%{y}<extra></extra>",
         "legendgroup": "Kerala",
         "marker": {
          "color": "rgb(246, 207, 113)",
          "pattern": {
           "shape": ""
          }
         },
         "name": "Kerala",
         "offsetgroup": "Kerala",
         "orientation": "v",
         "showlegend": true,
         "textposition": "auto",
         "type": "bar",
         "x": [
          "Kerala"
         ],
         "xaxis": "x",
         "y": [
          10
         ],
         "yaxis": "y"
        },
        {
         "alignmentgroup": "True",
         "hovertemplate": "color=Manipur<br>Transaction_State=%{x}<br>Fraud markers=%{y}<extra></extra>",
         "legendgroup": "Manipur",
         "marker": {
          "color": "rgb(248, 156, 116)",
          "pattern": {
           "shape": ""
          }
         },
         "name": "Manipur",
         "offsetgroup": "Manipur",
         "orientation": "v",
         "showlegend": true,
         "textposition": "auto",
         "type": "bar",
         "x": [
          "Manipur"
         ],
         "xaxis": "x",
         "y": [
          9
         ],
         "yaxis": "y"
        },
        {
         "alignmentgroup": "True",
         "hovertemplate": "color=Mizoram<br>Transaction_State=%{x}<br>Fraud markers=%{y}<extra></extra>",
         "legendgroup": "Mizoram",
         "marker": {
          "color": "rgb(220, 176, 242)",
          "pattern": {
           "shape": ""
          }
         },
         "name": "Mizoram",
         "offsetgroup": "Mizoram",
         "orientation": "v",
         "showlegend": true,
         "textposition": "auto",
         "type": "bar",
         "x": [
          "Mizoram"
         ],
         "xaxis": "x",
         "y": [
          8
         ],
         "yaxis": "y"
        },
        {
         "alignmentgroup": "True",
         "hovertemplate": "color=Bihar<br>Transaction_State=%{x}<br>Fraud markers=%{y}<extra></extra>",
         "legendgroup": "Bihar",
         "marker": {
          "color": "rgb(135, 197, 95)",
          "pattern": {
           "shape": ""
          }
         },
         "name": "Bihar",
         "offsetgroup": "Bihar",
         "orientation": "v",
         "showlegend": true,
         "textposition": "auto",
         "type": "bar",
         "x": [
          "Bihar"
         ],
         "xaxis": "x",
         "y": [
          8
         ],
         "yaxis": "y"
        },
        {
         "alignmentgroup": "True",
         "hovertemplate": "color=Andhra Pradesh<br>Transaction_State=%{x}<br>Fraud markers=%{y}<extra></extra>",
         "legendgroup": "Andhra Pradesh",
         "marker": {
          "color": "rgb(158, 185, 243)",
          "pattern": {
           "shape": ""
          }
         },
         "name": "Andhra Pradesh",
         "offsetgroup": "Andhra Pradesh",
         "orientation": "v",
         "showlegend": true,
         "textposition": "auto",
         "type": "bar",
         "x": [
          "Andhra Pradesh"
         ],
         "xaxis": "x",
         "y": [
          7
         ],
         "yaxis": "y"
        },
        {
         "alignmentgroup": "True",
         "hovertemplate": "color=Assam<br>Transaction_State=%{x}<br>Fraud markers=%{y}<extra></extra>",
         "legendgroup": "Assam",
         "marker": {
          "color": "rgb(254, 136, 177)",
          "pattern": {
           "shape": ""
          }
         },
         "name": "Assam",
         "offsetgroup": "Assam",
         "orientation": "v",
         "showlegend": true,
         "textposition": "auto",
         "type": "bar",
         "x": [
          "Assam"
         ],
         "xaxis": "x",
         "y": [
          6
         ],
         "yaxis": "y"
        },
        {
         "alignmentgroup": "True",
         "hovertemplate": "color=Tripura<br>Transaction_State=%{x}<br>Fraud markers=%{y}<extra></extra>",
         "legendgroup": "Tripura",
         "marker": {
          "color": "rgb(201, 219, 116)",
          "pattern": {
           "shape": ""
          }
         },
         "name": "Tripura",
         "offsetgroup": "Tripura",
         "orientation": "v",
         "showlegend": true,
         "textposition": "auto",
         "type": "bar",
         "x": [
          "Tripura"
         ],
         "xaxis": "x",
         "y": [
          6
         ],
         "yaxis": "y"
        },
        {
         "alignmentgroup": "True",
         "hovertemplate": "color=Arunachal Pradesh<br>Transaction_State=%{x}<br>Fraud markers=%{y}<extra></extra>",
         "legendgroup": "Arunachal Pradesh",
         "marker": {
          "color": "rgb(139, 224, 164)",
          "pattern": {
           "shape": ""
          }
         },
         "name": "Arunachal Pradesh",
         "offsetgroup": "Arunachal Pradesh",
         "orientation": "v",
         "showlegend": true,
         "textposition": "auto",
         "type": "bar",
         "x": [
          "Arunachal Pradesh"
         ],
         "xaxis": "x",
         "y": [
          6
         ],
         "yaxis": "y"
        },
        {
         "alignmentgroup": "True",
         "hovertemplate": "color=Odisha<br>Transaction_State=%{x}<br>Fraud markers=%{y}<extra></extra>",
         "legendgroup": "Odisha",
         "marker": {
          "color": "rgb(180, 151, 231)",
          "pattern": {
           "shape": ""
          }
         },
         "name": "Odisha",
         "offsetgroup": "Odisha",
         "orientation": "v",
         "showlegend": true,
         "textposition": "auto",
         "type": "bar",
         "x": [
          "Odisha"
         ],
         "xaxis": "x",
         "y": [
          6
         ],
         "yaxis": "y"
        },
        {
         "alignmentgroup": "True",
         "hovertemplate": "color=Tamil Nadu<br>Transaction_State=%{x}<br>Fraud markers=%{y}<extra></extra>",
         "legendgroup": "Tamil Nadu",
         "marker": {
          "color": "rgb(179, 179, 179)",
          "pattern": {
           "shape": ""
          }
         },
         "name": "Tamil Nadu",
         "offsetgroup": "Tamil Nadu",
         "orientation": "v",
         "showlegend": true,
         "textposition": "auto",
         "type": "bar",
         "x": [
          "Tamil Nadu"
         ],
         "xaxis": "x",
         "y": [
          6
         ],
         "yaxis": "y"
        },
        {
         "alignmentgroup": "True",
         "hovertemplate": "color=Maharashtra<br>Transaction_State=%{x}<br>Fraud markers=%{y}<extra></extra>",
         "legendgroup": "Maharashtra",
         "marker": {
          "color": "rgb(102, 197, 204)",
          "pattern": {
           "shape": ""
          }
         },
         "name": "Maharashtra",
         "offsetgroup": "Maharashtra",
         "orientation": "v",
         "showlegend": true,
         "textposition": "auto",
         "type": "bar",
         "x": [
          "Maharashtra"
         ],
         "xaxis": "x",
         "y": [
          6
         ],
         "yaxis": "y"
        },
        {
         "alignmentgroup": "True",
         "hovertemplate": "color=Himachal Pradesh<br>Transaction_State=%{x}<br>Fraud markers=%{y}<extra></extra>",
         "legendgroup": "Himachal Pradesh",
         "marker": {
          "color": "rgb(246, 207, 113)",
          "pattern": {
           "shape": ""
          }
         },
         "name": "Himachal Pradesh",
         "offsetgroup": "Himachal Pradesh",
         "orientation": "v",
         "showlegend": true,
         "textposition": "auto",
         "type": "bar",
         "x": [
          "Himachal Pradesh"
         ],
         "xaxis": "x",
         "y": [
          6
         ],
         "yaxis": "y"
        },
        {
         "alignmentgroup": "True",
         "hovertemplate": "color=Meghalaya<br>Transaction_State=%{x}<br>Fraud markers=%{y}<extra></extra>",
         "legendgroup": "Meghalaya",
         "marker": {
          "color": "rgb(248, 156, 116)",
          "pattern": {
           "shape": ""
          }
         },
         "name": "Meghalaya",
         "offsetgroup": "Meghalaya",
         "orientation": "v",
         "showlegend": true,
         "textposition": "auto",
         "type": "bar",
         "x": [
          "Meghalaya"
         ],
         "xaxis": "x",
         "y": [
          5
         ],
         "yaxis": "y"
        },
        {
         "alignmentgroup": "True",
         "hovertemplate": "color=Punjab<br>Transaction_State=%{x}<br>Fraud markers=%{y}<extra></extra>",
         "legendgroup": "Punjab",
         "marker": {
          "color": "rgb(220, 176, 242)",
          "pattern": {
           "shape": ""
          }
         },
         "name": "Punjab",
         "offsetgroup": "Punjab",
         "orientation": "v",
         "showlegend": true,
         "textposition": "auto",
         "type": "bar",
         "x": [
          "Punjab"
         ],
         "xaxis": "x",
         "y": [
          5
         ],
         "yaxis": "y"
        },
        {
         "alignmentgroup": "True",
         "hovertemplate": "color=Uttar Pradesh<br>Transaction_State=%{x}<br>Fraud markers=%{y}<extra></extra>",
         "legendgroup": "Uttar Pradesh",
         "marker": {
          "color": "rgb(135, 197, 95)",
          "pattern": {
           "shape": ""
          }
         },
         "name": "Uttar Pradesh",
         "offsetgroup": "Uttar Pradesh",
         "orientation": "v",
         "showlegend": true,
         "textposition": "auto",
         "type": "bar",
         "x": [
          "Uttar Pradesh"
         ],
         "xaxis": "x",
         "y": [
          5
         ],
         "yaxis": "y"
        },
        {
         "alignmentgroup": "True",
         "hovertemplate": "color=Sikkim<br>Transaction_State=%{x}<br>Fraud markers=%{y}<extra></extra>",
         "legendgroup": "Sikkim",
         "marker": {
          "color": "rgb(158, 185, 243)",
          "pattern": {
           "shape": ""
          }
         },
         "name": "Sikkim",
         "offsetgroup": "Sikkim",
         "orientation": "v",
         "showlegend": true,
         "textposition": "auto",
         "type": "bar",
         "x": [
          "Sikkim"
         ],
         "xaxis": "x",
         "y": [
          5
         ],
         "yaxis": "y"
        },
        {
         "alignmentgroup": "True",
         "hovertemplate": "color=Karnataka<br>Transaction_State=%{x}<br>Fraud markers=%{y}<extra></extra>",
         "legendgroup": "Karnataka",
         "marker": {
          "color": "rgb(254, 136, 177)",
          "pattern": {
           "shape": ""
          }
         },
         "name": "Karnataka",
         "offsetgroup": "Karnataka",
         "orientation": "v",
         "showlegend": true,
         "textposition": "auto",
         "type": "bar",
         "x": [
          "Karnataka"
         ],
         "xaxis": "x",
         "y": [
          5
         ],
         "yaxis": "y"
        },
        {
         "alignmentgroup": "True",
         "hovertemplate": "color=Gujarat<br>Transaction_State=%{x}<br>Fraud markers=%{y}<extra></extra>",
         "legendgroup": "Gujarat",
         "marker": {
          "color": "rgb(201, 219, 116)",
          "pattern": {
           "shape": ""
          }
         },
         "name": "Gujarat",
         "offsetgroup": "Gujarat",
         "orientation": "v",
         "showlegend": true,
         "textposition": "auto",
         "type": "bar",
         "x": [
          "Gujarat"
         ],
         "xaxis": "x",
         "y": [
          5
         ],
         "yaxis": "y"
        },
        {
         "alignmentgroup": "True",
         "hovertemplate": "color=Rajasthan<br>Transaction_State=%{x}<br>Fraud markers=%{y}<extra></extra>",
         "legendgroup": "Rajasthan",
         "marker": {
          "color": "rgb(139, 224, 164)",
          "pattern": {
           "shape": ""
          }
         },
         "name": "Rajasthan",
         "offsetgroup": "Rajasthan",
         "orientation": "v",
         "showlegend": true,
         "textposition": "auto",
         "type": "bar",
         "x": [
          "Rajasthan"
         ],
         "xaxis": "x",
         "y": [
          5
         ],
         "yaxis": "y"
        },
        {
         "alignmentgroup": "True",
         "hovertemplate": "color=Goa<br>Transaction_State=%{x}<br>Fraud markers=%{y}<extra></extra>",
         "legendgroup": "Goa",
         "marker": {
          "color": "rgb(180, 151, 231)",
          "pattern": {
           "shape": ""
          }
         },
         "name": "Goa",
         "offsetgroup": "Goa",
         "orientation": "v",
         "showlegend": true,
         "textposition": "auto",
         "type": "bar",
         "x": [
          "Goa"
         ],
         "xaxis": "x",
         "y": [
          5
         ],
         "yaxis": "y"
        },
        {
         "alignmentgroup": "True",
         "hovertemplate": "color=Uttarakhand<br>Transaction_State=%{x}<br>Fraud markers=%{y}<extra></extra>",
         "legendgroup": "Uttarakhand",
         "marker": {
          "color": "rgb(179, 179, 179)",
          "pattern": {
           "shape": ""
          }
         },
         "name": "Uttarakhand",
         "offsetgroup": "Uttarakhand",
         "orientation": "v",
         "showlegend": true,
         "textposition": "auto",
         "type": "bar",
         "x": [
          "Uttarakhand"
         ],
         "xaxis": "x",
         "y": [
          4
         ],
         "yaxis": "y"
        },
        {
         "alignmentgroup": "True",
         "hovertemplate": "color=Jharkhand<br>Transaction_State=%{x}<br>Fraud markers=%{y}<extra></extra>",
         "legendgroup": "Jharkhand",
         "marker": {
          "color": "rgb(102, 197, 204)",
          "pattern": {
           "shape": ""
          }
         },
         "name": "Jharkhand",
         "offsetgroup": "Jharkhand",
         "orientation": "v",
         "showlegend": true,
         "textposition": "auto",
         "type": "bar",
         "x": [
          "Jharkhand"
         ],
         "xaxis": "x",
         "y": [
          4
         ],
         "yaxis": "y"
        },
        {
         "alignmentgroup": "True",
         "hovertemplate": "color=West Bengal<br>Transaction_State=%{x}<br>Fraud markers=%{y}<extra></extra>",
         "legendgroup": "West Bengal",
         "marker": {
          "color": "rgb(246, 207, 113)",
          "pattern": {
           "shape": ""
          }
         },
         "name": "West Bengal",
         "offsetgroup": "West Bengal",
         "orientation": "v",
         "showlegend": true,
         "textposition": "auto",
         "type": "bar",
         "x": [
          "West Bengal"
         ],
         "xaxis": "x",
         "y": [
          4
         ],
         "yaxis": "y"
        },
        {
         "alignmentgroup": "True",
         "hovertemplate": "color=Telangana<br>Transaction_State=%{x}<br>Fraud markers=%{y}<extra></extra>",
         "legendgroup": "Telangana",
         "marker": {
          "color": "rgb(248, 156, 116)",
          "pattern": {
           "shape": ""
          }
         },
         "name": "Telangana",
         "offsetgroup": "Telangana",
         "orientation": "v",
         "showlegend": true,
         "textposition": "auto",
         "type": "bar",
         "x": [
          "Telangana"
         ],
         "xaxis": "x",
         "y": [
          3
         ],
         "yaxis": "y"
        },
        {
         "alignmentgroup": "True",
         "hovertemplate": "color=Haryana<br>Transaction_State=%{x}<br>Fraud markers=%{y}<extra></extra>",
         "legendgroup": "Haryana",
         "marker": {
          "color": "rgb(220, 176, 242)",
          "pattern": {
           "shape": ""
          }
         },
         "name": "Haryana",
         "offsetgroup": "Haryana",
         "orientation": "v",
         "showlegend": true,
         "textposition": "auto",
         "type": "bar",
         "x": [
          "Haryana"
         ],
         "xaxis": "x",
         "y": [
          2
         ],
         "yaxis": "y"
        },
        {
         "alignmentgroup": "True",
         "hovertemplate": "color=Nagaland<br>Transaction_State=%{x}<br>Fraud markers=%{y}<extra></extra>",
         "legendgroup": "Nagaland",
         "marker": {
          "color": "rgb(135, 197, 95)",
          "pattern": {
           "shape": ""
          }
         },
         "name": "Nagaland",
         "offsetgroup": "Nagaland",
         "orientation": "v",
         "showlegend": true,
         "textposition": "auto",
         "type": "bar",
         "x": [
          "Nagaland"
         ],
         "xaxis": "x",
         "y": [
          2
         ],
         "yaxis": "y"
        },
        {
         "alignmentgroup": "True",
         "hovertemplate": "color=Madhya Pradesh<br>Transaction_State=%{x}<br>Fraud markers=%{y}<extra></extra>",
         "legendgroup": "Madhya Pradesh",
         "marker": {
          "color": "rgb(158, 185, 243)",
          "pattern": {
           "shape": ""
          }
         },
         "name": "Madhya Pradesh",
         "offsetgroup": "Madhya Pradesh",
         "orientation": "v",
         "showlegend": true,
         "textposition": "auto",
         "type": "bar",
         "x": [
          "Madhya Pradesh"
         ],
         "xaxis": "x",
         "y": [
          2
         ],
         "yaxis": "y"
        }
       ],
       "layout": {
        "barmode": "relative",
        "legend": {
         "title": {
          "text": "color"
         },
         "tracegroupgap": 0
        },
        "template": {
         "data": {
          "bar": [
           {
            "error_x": {
             "color": "#2a3f5f"
            },
            "error_y": {
             "color": "#2a3f5f"
            },
            "marker": {
             "line": {
              "color": "#E5ECF6",
              "width": 0.5
             },
             "pattern": {
              "fillmode": "overlay",
              "size": 10,
              "solidity": 0.2
             }
            },
            "type": "bar"
           }
          ],
          "barpolar": [
           {
            "marker": {
             "line": {
              "color": "#E5ECF6",
              "width": 0.5
             },
             "pattern": {
              "fillmode": "overlay",
              "size": 10,
              "solidity": 0.2
             }
            },
            "type": "barpolar"
           }
          ],
          "carpet": [
           {
            "aaxis": {
             "endlinecolor": "#2a3f5f",
             "gridcolor": "white",
             "linecolor": "white",
             "minorgridcolor": "white",
             "startlinecolor": "#2a3f5f"
            },
            "baxis": {
             "endlinecolor": "#2a3f5f",
             "gridcolor": "white",
             "linecolor": "white",
             "minorgridcolor": "white",
             "startlinecolor": "#2a3f5f"
            },
            "type": "carpet"
           }
          ],
          "choropleth": [
           {
            "colorbar": {
             "outlinewidth": 0,
             "ticks": ""
            },
            "type": "choropleth"
           }
          ],
          "contour": [
           {
            "colorbar": {
             "outlinewidth": 0,
             "ticks": ""
            },
            "colorscale": [
             [
              0,
              "#0d0887"
             ],
             [
              0.1111111111111111,
              "#46039f"
             ],
             [
              0.2222222222222222,
              "#7201a8"
             ],
             [
              0.3333333333333333,
              "#9c179e"
             ],
             [
              0.4444444444444444,
              "#bd3786"
             ],
             [
              0.5555555555555556,
              "#d8576b"
             ],
             [
              0.6666666666666666,
              "#ed7953"
             ],
             [
              0.7777777777777778,
              "#fb9f3a"
             ],
             [
              0.8888888888888888,
              "#fdca26"
             ],
             [
              1,
              "#f0f921"
             ]
            ],
            "type": "contour"
           }
          ],
          "contourcarpet": [
           {
            "colorbar": {
             "outlinewidth": 0,
             "ticks": ""
            },
            "type": "contourcarpet"
           }
          ],
          "heatmap": [
           {
            "colorbar": {
             "outlinewidth": 0,
             "ticks": ""
            },
            "colorscale": [
             [
              0,
              "#0d0887"
             ],
             [
              0.1111111111111111,
              "#46039f"
             ],
             [
              0.2222222222222222,
              "#7201a8"
             ],
             [
              0.3333333333333333,
              "#9c179e"
             ],
             [
              0.4444444444444444,
              "#bd3786"
             ],
             [
              0.5555555555555556,
              "#d8576b"
             ],
             [
              0.6666666666666666,
              "#ed7953"
             ],
             [
              0.7777777777777778,
              "#fb9f3a"
             ],
             [
              0.8888888888888888,
              "#fdca26"
             ],
             [
              1,
              "#f0f921"
             ]
            ],
            "type": "heatmap"
           }
          ],
          "heatmapgl": [
           {
            "colorbar": {
             "outlinewidth": 0,
             "ticks": ""
            },
            "colorscale": [
             [
              0,
              "#0d0887"
             ],
             [
              0.1111111111111111,
              "#46039f"
             ],
             [
              0.2222222222222222,
              "#7201a8"
             ],
             [
              0.3333333333333333,
              "#9c179e"
             ],
             [
              0.4444444444444444,
              "#bd3786"
             ],
             [
              0.5555555555555556,
              "#d8576b"
             ],
             [
              0.6666666666666666,
              "#ed7953"
             ],
             [
              0.7777777777777778,
              "#fb9f3a"
             ],
             [
              0.8888888888888888,
              "#fdca26"
             ],
             [
              1,
              "#f0f921"
             ]
            ],
            "type": "heatmapgl"
           }
          ],
          "histogram": [
           {
            "marker": {
             "pattern": {
              "fillmode": "overlay",
              "size": 10,
              "solidity": 0.2
             }
            },
            "type": "histogram"
           }
          ],
          "histogram2d": [
           {
            "colorbar": {
             "outlinewidth": 0,
             "ticks": ""
            },
            "colorscale": [
             [
              0,
              "#0d0887"
             ],
             [
              0.1111111111111111,
              "#46039f"
             ],
             [
              0.2222222222222222,
              "#7201a8"
             ],
             [
              0.3333333333333333,
              "#9c179e"
             ],
             [
              0.4444444444444444,
              "#bd3786"
             ],
             [
              0.5555555555555556,
              "#d8576b"
             ],
             [
              0.6666666666666666,
              "#ed7953"
             ],
             [
              0.7777777777777778,
              "#fb9f3a"
             ],
             [
              0.8888888888888888,
              "#fdca26"
             ],
             [
              1,
              "#f0f921"
             ]
            ],
            "type": "histogram2d"
           }
          ],
          "histogram2dcontour": [
           {
            "colorbar": {
             "outlinewidth": 0,
             "ticks": ""
            },
            "colorscale": [
             [
              0,
              "#0d0887"
             ],
             [
              0.1111111111111111,
              "#46039f"
             ],
             [
              0.2222222222222222,
              "#7201a8"
             ],
             [
              0.3333333333333333,
              "#9c179e"
             ],
             [
              0.4444444444444444,
              "#bd3786"
             ],
             [
              0.5555555555555556,
              "#d8576b"
             ],
             [
              0.6666666666666666,
              "#ed7953"
             ],
             [
              0.7777777777777778,
              "#fb9f3a"
             ],
             [
              0.8888888888888888,
              "#fdca26"
             ],
             [
              1,
              "#f0f921"
             ]
            ],
            "type": "histogram2dcontour"
           }
          ],
          "mesh3d": [
           {
            "colorbar": {
             "outlinewidth": 0,
             "ticks": ""
            },
            "type": "mesh3d"
           }
          ],
          "parcoords": [
           {
            "line": {
             "colorbar": {
              "outlinewidth": 0,
              "ticks": ""
             }
            },
            "type": "parcoords"
           }
          ],
          "pie": [
           {
            "automargin": true,
            "type": "pie"
           }
          ],
          "scatter": [
           {
            "fillpattern": {
             "fillmode": "overlay",
             "size": 10,
             "solidity": 0.2
            },
            "type": "scatter"
           }
          ],
          "scatter3d": [
           {
            "line": {
             "colorbar": {
              "outlinewidth": 0,
              "ticks": ""
             }
            },
            "marker": {
             "colorbar": {
              "outlinewidth": 0,
              "ticks": ""
             }
            },
            "type": "scatter3d"
           }
          ],
          "scattercarpet": [
           {
            "marker": {
             "colorbar": {
              "outlinewidth": 0,
              "ticks": ""
             }
            },
            "type": "scattercarpet"
           }
          ],
          "scattergeo": [
           {
            "marker": {
             "colorbar": {
              "outlinewidth": 0,
              "ticks": ""
             }
            },
            "type": "scattergeo"
           }
          ],
          "scattergl": [
           {
            "marker": {
             "colorbar": {
              "outlinewidth": 0,
              "ticks": ""
             }
            },
            "type": "scattergl"
           }
          ],
          "scattermapbox": [
           {
            "marker": {
             "colorbar": {
              "outlinewidth": 0,
              "ticks": ""
             }
            },
            "type": "scattermapbox"
           }
          ],
          "scatterpolar": [
           {
            "marker": {
             "colorbar": {
              "outlinewidth": 0,
              "ticks": ""
             }
            },
            "type": "scatterpolar"
           }
          ],
          "scatterpolargl": [
           {
            "marker": {
             "colorbar": {
              "outlinewidth": 0,
              "ticks": ""
             }
            },
            "type": "scatterpolargl"
           }
          ],
          "scatterternary": [
           {
            "marker": {
             "colorbar": {
              "outlinewidth": 0,
              "ticks": ""
             }
            },
            "type": "scatterternary"
           }
          ],
          "surface": [
           {
            "colorbar": {
             "outlinewidth": 0,
             "ticks": ""
            },
            "colorscale": [
             [
              0,
              "#0d0887"
             ],
             [
              0.1111111111111111,
              "#46039f"
             ],
             [
              0.2222222222222222,
              "#7201a8"
             ],
             [
              0.3333333333333333,
              "#9c179e"
             ],
             [
              0.4444444444444444,
              "#bd3786"
             ],
             [
              0.5555555555555556,
              "#d8576b"
             ],
             [
              0.6666666666666666,
              "#ed7953"
             ],
             [
              0.7777777777777778,
              "#fb9f3a"
             ],
             [
              0.8888888888888888,
              "#fdca26"
             ],
             [
              1,
              "#f0f921"
             ]
            ],
            "type": "surface"
           }
          ],
          "table": [
           {
            "cells": {
             "fill": {
              "color": "#EBF0F8"
             },
             "line": {
              "color": "white"
             }
            },
            "header": {
             "fill": {
              "color": "#C8D4E3"
             },
             "line": {
              "color": "white"
             }
            },
            "type": "table"
           }
          ]
         },
         "layout": {
          "annotationdefaults": {
           "arrowcolor": "#2a3f5f",
           "arrowhead": 0,
           "arrowwidth": 1
          },
          "autotypenumbers": "strict",
          "coloraxis": {
           "colorbar": {
            "outlinewidth": 0,
            "ticks": ""
           }
          },
          "colorscale": {
           "diverging": [
            [
             0,
             "#8e0152"
            ],
            [
             0.1,
             "#c51b7d"
            ],
            [
             0.2,
             "#de77ae"
            ],
            [
             0.3,
             "#f1b6da"
            ],
            [
             0.4,
             "#fde0ef"
            ],
            [
             0.5,
             "#f7f7f7"
            ],
            [
             0.6,
             "#e6f5d0"
            ],
            [
             0.7,
             "#b8e186"
            ],
            [
             0.8,
             "#7fbc41"
            ],
            [
             0.9,
             "#4d9221"
            ],
            [
             1,
             "#276419"
            ]
           ],
           "sequential": [
            [
             0,
             "#0d0887"
            ],
            [
             0.1111111111111111,
             "#46039f"
            ],
            [
             0.2222222222222222,
             "#7201a8"
            ],
            [
             0.3333333333333333,
             "#9c179e"
            ],
            [
             0.4444444444444444,
             "#bd3786"
            ],
            [
             0.5555555555555556,
             "#d8576b"
            ],
            [
             0.6666666666666666,
             "#ed7953"
            ],
            [
             0.7777777777777778,
             "#fb9f3a"
            ],
            [
             0.8888888888888888,
             "#fdca26"
            ],
            [
             1,
             "#f0f921"
            ]
           ],
           "sequentialminus": [
            [
             0,
             "#0d0887"
            ],
            [
             0.1111111111111111,
             "#46039f"
            ],
            [
             0.2222222222222222,
             "#7201a8"
            ],
            [
             0.3333333333333333,
             "#9c179e"
            ],
            [
             0.4444444444444444,
             "#bd3786"
            ],
            [
             0.5555555555555556,
             "#d8576b"
            ],
            [
             0.6666666666666666,
             "#ed7953"
            ],
            [
             0.7777777777777778,
             "#fb9f3a"
            ],
            [
             0.8888888888888888,
             "#fdca26"
            ],
            [
             1,
             "#f0f921"
            ]
           ]
          },
          "colorway": [
           "#636efa",
           "#EF553B",
           "#00cc96",
           "#ab63fa",
           "#FFA15A",
           "#19d3f3",
           "#FF6692",
           "#B6E880",
           "#FF97FF",
           "#FECB52"
          ],
          "font": {
           "color": "#2a3f5f"
          },
          "geo": {
           "bgcolor": "white",
           "lakecolor": "white",
           "landcolor": "#E5ECF6",
           "showlakes": true,
           "showland": true,
           "subunitcolor": "white"
          },
          "hoverlabel": {
           "align": "left"
          },
          "hovermode": "closest",
          "mapbox": {
           "style": "light"
          },
          "paper_bgcolor": "white",
          "plot_bgcolor": "#E5ECF6",
          "polar": {
           "angularaxis": {
            "gridcolor": "white",
            "linecolor": "white",
            "ticks": ""
           },
           "bgcolor": "#E5ECF6",
           "radialaxis": {
            "gridcolor": "white",
            "linecolor": "white",
            "ticks": ""
           }
          },
          "scene": {
           "xaxis": {
            "backgroundcolor": "#E5ECF6",
            "gridcolor": "white",
            "gridwidth": 2,
            "linecolor": "white",
            "showbackground": true,
            "ticks": "",
            "zerolinecolor": "white"
           },
           "yaxis": {
            "backgroundcolor": "#E5ECF6",
            "gridcolor": "white",
            "gridwidth": 2,
            "linecolor": "white",
            "showbackground": true,
            "ticks": "",
            "zerolinecolor": "white"
           },
           "zaxis": {
            "backgroundcolor": "#E5ECF6",
            "gridcolor": "white",
            "gridwidth": 2,
            "linecolor": "white",
            "showbackground": true,
            "ticks": "",
            "zerolinecolor": "white"
           }
          },
          "shapedefaults": {
           "line": {
            "color": "#2a3f5f"
           }
          },
          "ternary": {
           "aaxis": {
            "gridcolor": "white",
            "linecolor": "white",
            "ticks": ""
           },
           "baxis": {
            "gridcolor": "white",
            "linecolor": "white",
            "ticks": ""
           },
           "bgcolor": "#E5ECF6",
           "caxis": {
            "gridcolor": "white",
            "linecolor": "white",
            "ticks": ""
           }
          },
          "title": {
           "x": 0.05
          },
          "xaxis": {
           "automargin": true,
           "gridcolor": "white",
           "linecolor": "white",
           "ticks": "",
           "title": {
            "standoff": 15
           },
           "zerolinecolor": "white",
           "zerolinewidth": 2
          },
          "yaxis": {
           "automargin": true,
           "gridcolor": "white",
           "linecolor": "white",
           "ticks": "",
           "title": {
            "standoff": 15
           },
           "zerolinecolor": "white",
           "zerolinewidth": 2
          }
         }
        },
        "title": {
         "text": "Fraud distribution by Transaction_state"
        },
        "xaxis": {
         "anchor": "y",
         "categoryorder": "total descending",
         "domain": [
          0,
          1
         ],
         "title": {
          "text": "Transaction_State"
         }
        },
        "yaxis": {
         "anchor": "x",
         "domain": [
          0,
          1
         ],
         "title": {
          "text": "Fraud markers"
         }
        }
       }
      }
     },
     "metadata": {},
     "output_type": "display_data"
    }
   ],
   "source": [
    "#plot 7: Relationship between Transaction_State and Fraud using bar plot \n",
    "fig = px.bar(x=fraud['Transaction_State'].value_counts().index,\n",
    "             y= fraud['Transaction_State'].value_counts().values,\n",
    "             color=fraud['Transaction_State'].value_counts().index,\n",
    "             title = \"Fraud distribution by Transaction_state\",\n",
    "             labels = {'x': 'Transaction_State', 'y': 'Fraud markers'},\n",
    "             color_discrete_sequence= px.colors.qualitative.Pastel)\n",
    "fig.update_layout(xaxis={'categoryorder': 'total descending'})\n",
    "fig.show() "
   ]
  },
  {
   "cell_type": "code",
   "execution_count": 81,
   "id": "d833186d",
   "metadata": {},
   "outputs": [
    {
     "data": {
      "application/vnd.plotly.v1+json": {
       "config": {
        "plotlyServerURL": "https://plot.ly"
       },
       "data": [
        {
         "alignmentgroup": "True",
         "hovertemplate": "color=Android<br>Device_OS=%{x}<br>Fraud markers=%{y}<extra></extra>",
         "legendgroup": "Android",
         "marker": {
          "color": "rgb(102, 197, 204)",
          "pattern": {
           "shape": ""
          }
         },
         "name": "Android",
         "offsetgroup": "Android",
         "orientation": "v",
         "showlegend": true,
         "textposition": "auto",
         "type": "bar",
         "x": [
          "Android"
         ],
         "xaxis": "x",
         "y": [
          52
         ],
         "yaxis": "y"
        },
        {
         "alignmentgroup": "True",
         "hovertemplate": "color=Windows<br>Device_OS=%{x}<br>Fraud markers=%{y}<extra></extra>",
         "legendgroup": "Windows",
         "marker": {
          "color": "rgb(246, 207, 113)",
          "pattern": {
           "shape": ""
          }
         },
         "name": "Windows",
         "offsetgroup": "Windows",
         "orientation": "v",
         "showlegend": true,
         "textposition": "auto",
         "type": "bar",
         "x": [
          "Windows"
         ],
         "xaxis": "x",
         "y": [
          39
         ],
         "yaxis": "y"
        },
        {
         "alignmentgroup": "True",
         "hovertemplate": "color=iOS<br>Device_OS=%{x}<br>Fraud markers=%{y}<extra></extra>",
         "legendgroup": "iOS",
         "marker": {
          "color": "rgb(248, 156, 116)",
          "pattern": {
           "shape": ""
          }
         },
         "name": "iOS",
         "offsetgroup": "iOS",
         "orientation": "v",
         "showlegend": true,
         "textposition": "auto",
         "type": "bar",
         "x": [
          "iOS"
         ],
         "xaxis": "x",
         "y": [
          34
         ],
         "yaxis": "y"
        },
        {
         "alignmentgroup": "True",
         "hovertemplate": "color=MacOS<br>Device_OS=%{x}<br>Fraud markers=%{y}<extra></extra>",
         "legendgroup": "MacOS",
         "marker": {
          "color": "rgb(220, 176, 242)",
          "pattern": {
           "shape": ""
          }
         },
         "name": "MacOS",
         "offsetgroup": "MacOS",
         "orientation": "v",
         "showlegend": true,
         "textposition": "auto",
         "type": "bar",
         "x": [
          "MacOS"
         ],
         "xaxis": "x",
         "y": [
          30
         ],
         "yaxis": "y"
        }
       ],
       "layout": {
        "barmode": "relative",
        "legend": {
         "title": {
          "text": "color"
         },
         "tracegroupgap": 0
        },
        "template": {
         "data": {
          "bar": [
           {
            "error_x": {
             "color": "#2a3f5f"
            },
            "error_y": {
             "color": "#2a3f5f"
            },
            "marker": {
             "line": {
              "color": "#E5ECF6",
              "width": 0.5
             },
             "pattern": {
              "fillmode": "overlay",
              "size": 10,
              "solidity": 0.2
             }
            },
            "type": "bar"
           }
          ],
          "barpolar": [
           {
            "marker": {
             "line": {
              "color": "#E5ECF6",
              "width": 0.5
             },
             "pattern": {
              "fillmode": "overlay",
              "size": 10,
              "solidity": 0.2
             }
            },
            "type": "barpolar"
           }
          ],
          "carpet": [
           {
            "aaxis": {
             "endlinecolor": "#2a3f5f",
             "gridcolor": "white",
             "linecolor": "white",
             "minorgridcolor": "white",
             "startlinecolor": "#2a3f5f"
            },
            "baxis": {
             "endlinecolor": "#2a3f5f",
             "gridcolor": "white",
             "linecolor": "white",
             "minorgridcolor": "white",
             "startlinecolor": "#2a3f5f"
            },
            "type": "carpet"
           }
          ],
          "choropleth": [
           {
            "colorbar": {
             "outlinewidth": 0,
             "ticks": ""
            },
            "type": "choropleth"
           }
          ],
          "contour": [
           {
            "colorbar": {
             "outlinewidth": 0,
             "ticks": ""
            },
            "colorscale": [
             [
              0,
              "#0d0887"
             ],
             [
              0.1111111111111111,
              "#46039f"
             ],
             [
              0.2222222222222222,
              "#7201a8"
             ],
             [
              0.3333333333333333,
              "#9c179e"
             ],
             [
              0.4444444444444444,
              "#bd3786"
             ],
             [
              0.5555555555555556,
              "#d8576b"
             ],
             [
              0.6666666666666666,
              "#ed7953"
             ],
             [
              0.7777777777777778,
              "#fb9f3a"
             ],
             [
              0.8888888888888888,
              "#fdca26"
             ],
             [
              1,
              "#f0f921"
             ]
            ],
            "type": "contour"
           }
          ],
          "contourcarpet": [
           {
            "colorbar": {
             "outlinewidth": 0,
             "ticks": ""
            },
            "type": "contourcarpet"
           }
          ],
          "heatmap": [
           {
            "colorbar": {
             "outlinewidth": 0,
             "ticks": ""
            },
            "colorscale": [
             [
              0,
              "#0d0887"
             ],
             [
              0.1111111111111111,
              "#46039f"
             ],
             [
              0.2222222222222222,
              "#7201a8"
             ],
             [
              0.3333333333333333,
              "#9c179e"
             ],
             [
              0.4444444444444444,
              "#bd3786"
             ],
             [
              0.5555555555555556,
              "#d8576b"
             ],
             [
              0.6666666666666666,
              "#ed7953"
             ],
             [
              0.7777777777777778,
              "#fb9f3a"
             ],
             [
              0.8888888888888888,
              "#fdca26"
             ],
             [
              1,
              "#f0f921"
             ]
            ],
            "type": "heatmap"
           }
          ],
          "heatmapgl": [
           {
            "colorbar": {
             "outlinewidth": 0,
             "ticks": ""
            },
            "colorscale": [
             [
              0,
              "#0d0887"
             ],
             [
              0.1111111111111111,
              "#46039f"
             ],
             [
              0.2222222222222222,
              "#7201a8"
             ],
             [
              0.3333333333333333,
              "#9c179e"
             ],
             [
              0.4444444444444444,
              "#bd3786"
             ],
             [
              0.5555555555555556,
              "#d8576b"
             ],
             [
              0.6666666666666666,
              "#ed7953"
             ],
             [
              0.7777777777777778,
              "#fb9f3a"
             ],
             [
              0.8888888888888888,
              "#fdca26"
             ],
             [
              1,
              "#f0f921"
             ]
            ],
            "type": "heatmapgl"
           }
          ],
          "histogram": [
           {
            "marker": {
             "pattern": {
              "fillmode": "overlay",
              "size": 10,
              "solidity": 0.2
             }
            },
            "type": "histogram"
           }
          ],
          "histogram2d": [
           {
            "colorbar": {
             "outlinewidth": 0,
             "ticks": ""
            },
            "colorscale": [
             [
              0,
              "#0d0887"
             ],
             [
              0.1111111111111111,
              "#46039f"
             ],
             [
              0.2222222222222222,
              "#7201a8"
             ],
             [
              0.3333333333333333,
              "#9c179e"
             ],
             [
              0.4444444444444444,
              "#bd3786"
             ],
             [
              0.5555555555555556,
              "#d8576b"
             ],
             [
              0.6666666666666666,
              "#ed7953"
             ],
             [
              0.7777777777777778,
              "#fb9f3a"
             ],
             [
              0.8888888888888888,
              "#fdca26"
             ],
             [
              1,
              "#f0f921"
             ]
            ],
            "type": "histogram2d"
           }
          ],
          "histogram2dcontour": [
           {
            "colorbar": {
             "outlinewidth": 0,
             "ticks": ""
            },
            "colorscale": [
             [
              0,
              "#0d0887"
             ],
             [
              0.1111111111111111,
              "#46039f"
             ],
             [
              0.2222222222222222,
              "#7201a8"
             ],
             [
              0.3333333333333333,
              "#9c179e"
             ],
             [
              0.4444444444444444,
              "#bd3786"
             ],
             [
              0.5555555555555556,
              "#d8576b"
             ],
             [
              0.6666666666666666,
              "#ed7953"
             ],
             [
              0.7777777777777778,
              "#fb9f3a"
             ],
             [
              0.8888888888888888,
              "#fdca26"
             ],
             [
              1,
              "#f0f921"
             ]
            ],
            "type": "histogram2dcontour"
           }
          ],
          "mesh3d": [
           {
            "colorbar": {
             "outlinewidth": 0,
             "ticks": ""
            },
            "type": "mesh3d"
           }
          ],
          "parcoords": [
           {
            "line": {
             "colorbar": {
              "outlinewidth": 0,
              "ticks": ""
             }
            },
            "type": "parcoords"
           }
          ],
          "pie": [
           {
            "automargin": true,
            "type": "pie"
           }
          ],
          "scatter": [
           {
            "fillpattern": {
             "fillmode": "overlay",
             "size": 10,
             "solidity": 0.2
            },
            "type": "scatter"
           }
          ],
          "scatter3d": [
           {
            "line": {
             "colorbar": {
              "outlinewidth": 0,
              "ticks": ""
             }
            },
            "marker": {
             "colorbar": {
              "outlinewidth": 0,
              "ticks": ""
             }
            },
            "type": "scatter3d"
           }
          ],
          "scattercarpet": [
           {
            "marker": {
             "colorbar": {
              "outlinewidth": 0,
              "ticks": ""
             }
            },
            "type": "scattercarpet"
           }
          ],
          "scattergeo": [
           {
            "marker": {
             "colorbar": {
              "outlinewidth": 0,
              "ticks": ""
             }
            },
            "type": "scattergeo"
           }
          ],
          "scattergl": [
           {
            "marker": {
             "colorbar": {
              "outlinewidth": 0,
              "ticks": ""
             }
            },
            "type": "scattergl"
           }
          ],
          "scattermapbox": [
           {
            "marker": {
             "colorbar": {
              "outlinewidth": 0,
              "ticks": ""
             }
            },
            "type": "scattermapbox"
           }
          ],
          "scatterpolar": [
           {
            "marker": {
             "colorbar": {
              "outlinewidth": 0,
              "ticks": ""
             }
            },
            "type": "scatterpolar"
           }
          ],
          "scatterpolargl": [
           {
            "marker": {
             "colorbar": {
              "outlinewidth": 0,
              "ticks": ""
             }
            },
            "type": "scatterpolargl"
           }
          ],
          "scatterternary": [
           {
            "marker": {
             "colorbar": {
              "outlinewidth": 0,
              "ticks": ""
             }
            },
            "type": "scatterternary"
           }
          ],
          "surface": [
           {
            "colorbar": {
             "outlinewidth": 0,
             "ticks": ""
            },
            "colorscale": [
             [
              0,
              "#0d0887"
             ],
             [
              0.1111111111111111,
              "#46039f"
             ],
             [
              0.2222222222222222,
              "#7201a8"
             ],
             [
              0.3333333333333333,
              "#9c179e"
             ],
             [
              0.4444444444444444,
              "#bd3786"
             ],
             [
              0.5555555555555556,
              "#d8576b"
             ],
             [
              0.6666666666666666,
              "#ed7953"
             ],
             [
              0.7777777777777778,
              "#fb9f3a"
             ],
             [
              0.8888888888888888,
              "#fdca26"
             ],
             [
              1,
              "#f0f921"
             ]
            ],
            "type": "surface"
           }
          ],
          "table": [
           {
            "cells": {
             "fill": {
              "color": "#EBF0F8"
             },
             "line": {
              "color": "white"
             }
            },
            "header": {
             "fill": {
              "color": "#C8D4E3"
             },
             "line": {
              "color": "white"
             }
            },
            "type": "table"
           }
          ]
         },
         "layout": {
          "annotationdefaults": {
           "arrowcolor": "#2a3f5f",
           "arrowhead": 0,
           "arrowwidth": 1
          },
          "autotypenumbers": "strict",
          "coloraxis": {
           "colorbar": {
            "outlinewidth": 0,
            "ticks": ""
           }
          },
          "colorscale": {
           "diverging": [
            [
             0,
             "#8e0152"
            ],
            [
             0.1,
             "#c51b7d"
            ],
            [
             0.2,
             "#de77ae"
            ],
            [
             0.3,
             "#f1b6da"
            ],
            [
             0.4,
             "#fde0ef"
            ],
            [
             0.5,
             "#f7f7f7"
            ],
            [
             0.6,
             "#e6f5d0"
            ],
            [
             0.7,
             "#b8e186"
            ],
            [
             0.8,
             "#7fbc41"
            ],
            [
             0.9,
             "#4d9221"
            ],
            [
             1,
             "#276419"
            ]
           ],
           "sequential": [
            [
             0,
             "#0d0887"
            ],
            [
             0.1111111111111111,
             "#46039f"
            ],
            [
             0.2222222222222222,
             "#7201a8"
            ],
            [
             0.3333333333333333,
             "#9c179e"
            ],
            [
             0.4444444444444444,
             "#bd3786"
            ],
            [
             0.5555555555555556,
             "#d8576b"
            ],
            [
             0.6666666666666666,
             "#ed7953"
            ],
            [
             0.7777777777777778,
             "#fb9f3a"
            ],
            [
             0.8888888888888888,
             "#fdca26"
            ],
            [
             1,
             "#f0f921"
            ]
           ],
           "sequentialminus": [
            [
             0,
             "#0d0887"
            ],
            [
             0.1111111111111111,
             "#46039f"
            ],
            [
             0.2222222222222222,
             "#7201a8"
            ],
            [
             0.3333333333333333,
             "#9c179e"
            ],
            [
             0.4444444444444444,
             "#bd3786"
            ],
            [
             0.5555555555555556,
             "#d8576b"
            ],
            [
             0.6666666666666666,
             "#ed7953"
            ],
            [
             0.7777777777777778,
             "#fb9f3a"
            ],
            [
             0.8888888888888888,
             "#fdca26"
            ],
            [
             1,
             "#f0f921"
            ]
           ]
          },
          "colorway": [
           "#636efa",
           "#EF553B",
           "#00cc96",
           "#ab63fa",
           "#FFA15A",
           "#19d3f3",
           "#FF6692",
           "#B6E880",
           "#FF97FF",
           "#FECB52"
          ],
          "font": {
           "color": "#2a3f5f"
          },
          "geo": {
           "bgcolor": "white",
           "lakecolor": "white",
           "landcolor": "#E5ECF6",
           "showlakes": true,
           "showland": true,
           "subunitcolor": "white"
          },
          "hoverlabel": {
           "align": "left"
          },
          "hovermode": "closest",
          "mapbox": {
           "style": "light"
          },
          "paper_bgcolor": "white",
          "plot_bgcolor": "#E5ECF6",
          "polar": {
           "angularaxis": {
            "gridcolor": "white",
            "linecolor": "white",
            "ticks": ""
           },
           "bgcolor": "#E5ECF6",
           "radialaxis": {
            "gridcolor": "white",
            "linecolor": "white",
            "ticks": ""
           }
          },
          "scene": {
           "xaxis": {
            "backgroundcolor": "#E5ECF6",
            "gridcolor": "white",
            "gridwidth": 2,
            "linecolor": "white",
            "showbackground": true,
            "ticks": "",
            "zerolinecolor": "white"
           },
           "yaxis": {
            "backgroundcolor": "#E5ECF6",
            "gridcolor": "white",
            "gridwidth": 2,
            "linecolor": "white",
            "showbackground": true,
            "ticks": "",
            "zerolinecolor": "white"
           },
           "zaxis": {
            "backgroundcolor": "#E5ECF6",
            "gridcolor": "white",
            "gridwidth": 2,
            "linecolor": "white",
            "showbackground": true,
            "ticks": "",
            "zerolinecolor": "white"
           }
          },
          "shapedefaults": {
           "line": {
            "color": "#2a3f5f"
           }
          },
          "ternary": {
           "aaxis": {
            "gridcolor": "white",
            "linecolor": "white",
            "ticks": ""
           },
           "baxis": {
            "gridcolor": "white",
            "linecolor": "white",
            "ticks": ""
           },
           "bgcolor": "#E5ECF6",
           "caxis": {
            "gridcolor": "white",
            "linecolor": "white",
            "ticks": ""
           }
          },
          "title": {
           "x": 0.05
          },
          "xaxis": {
           "automargin": true,
           "gridcolor": "white",
           "linecolor": "white",
           "ticks": "",
           "title": {
            "standoff": 15
           },
           "zerolinecolor": "white",
           "zerolinewidth": 2
          },
          "yaxis": {
           "automargin": true,
           "gridcolor": "white",
           "linecolor": "white",
           "ticks": "",
           "title": {
            "standoff": 15
           },
           "zerolinecolor": "white",
           "zerolinewidth": 2
          }
         }
        },
        "title": {
         "text": "Fraud distribution by Device_OS"
        },
        "xaxis": {
         "anchor": "y",
         "categoryorder": "total descending",
         "domain": [
          0,
          1
         ],
         "title": {
          "text": "Device_OS"
         }
        },
        "yaxis": {
         "anchor": "x",
         "domain": [
          0,
          1
         ],
         "title": {
          "text": "Fraud markers"
         }
        }
       }
      }
     },
     "metadata": {},
     "output_type": "display_data"
    }
   ],
   "source": [
    "#plot 8: Relationship between Device_OS and Fraud using bar plot \n",
    "fig = px.bar(x=fraud['Device_OS'].value_counts().index,\n",
    "             y= fraud['Device_OS'].value_counts().values,\n",
    "             color=fraud['Device_OS'].value_counts().index,\n",
    "             title = \"Fraud distribution by Device_OS\",\n",
    "             labels = {'x': 'Device_OS', 'y': 'Fraud markers'},\n",
    "             color_discrete_sequence= px.colors.qualitative.Pastel)\n",
    "fig.update_layout(xaxis={'categoryorder': 'total descending'})\n",
    "fig.show() "
   ]
  },
  {
   "cell_type": "markdown",
   "id": "a30c9d71",
   "metadata": {},
   "source": [
    "# Insights from the above visualisations:\n",
    "\n",
    "- Transaction types: Bank transfer, purchase & bill payment, are highly contributing to fraudulent transactions.\n",
    "\n",
    "- Platforms like: ICICI, HDFC and GooglePay have reported the highest number of fraudulent transactions.\n",
    "\n",
    "- Mercant category: home delivery, travel bookings, utlity, have reported the highest number of fraudulent transactions.\n",
    "\n",
    "- Transaction amount ranging 250 to 750 are highly sensitive to fraudulent transactions.\n",
    "\n",
    "- Transaction amount ranging 0 to 1250 are highest contributers to fraudulent transactions between FY 23-24.\n",
    "\n",
    "- Transaction frequency: 0 to 10 is highly sensitive to fraudulent transactions.\n",
    "\n",
    "- Days since last transaction feature is not contributing to the analysis as no pattern identified, hence can be dropped.\n",
    "\n",
    "- States-Himachal pradesh, Rajasthan, Meghalaya & Bihar are highly sensitive to fraudulent transactions.\n",
    "\n",
    "- Android OS reported highest number of fraudulent transactions"
   ]
  },
  {
   "cell_type": "markdown",
   "id": "6f5a281f",
   "metadata": {},
   "source": [
    "Dropping unnecessary columns from entire dataset"
   ]
  },
  {
   "cell_type": "code",
   "execution_count": 82,
   "id": "ce7164d1",
   "metadata": {},
   "outputs": [
    {
     "data": {
      "text/plain": [
       "Index(['Transaction_Type', 'Payment_Gateway', 'Transaction_City',\n",
       "       'Transaction_State', 'Transaction_Status', 'Device_OS',\n",
       "       'Transaction_Frequency', 'Merchant_Category', 'Transaction_Channel',\n",
       "       'Transaction_Amount_Deviation', 'Days_Since_Last_Transaction', 'amount',\n",
       "       'fraud', 'Year', 'Month'],\n",
       "      dtype='object')"
      ]
     },
     "execution_count": 82,
     "metadata": {},
     "output_type": "execute_result"
    }
   ],
   "source": [
    "df.columns"
   ]
  },
  {
   "cell_type": "code",
   "execution_count": 83,
   "id": "e4ec3620",
   "metadata": {},
   "outputs": [],
   "source": [
    "columns_to_drop = ['Days_Since_Last_Transaction','Transaction_Frequency','Transaction_Amount_Deviation',\n",
    "                    'Transaction_Status','Device_OS','Transaction_Channel','Transaction_City']\n",
    "df.drop(columns=columns_to_drop, inplace=True)          "
   ]
  },
  {
   "cell_type": "code",
   "execution_count": 84,
   "id": "6652de20",
   "metadata": {},
   "outputs": [
    {
     "name": "stdout",
     "output_type": "stream",
     "text": [
      "<class 'pandas.core.frame.DataFrame'>\n",
      "RangeIndex: 647 entries, 0 to 646\n",
      "Data columns (total 8 columns):\n",
      " #   Column             Non-Null Count  Dtype  \n",
      "---  ------             --------------  -----  \n",
      " 0   Transaction_Type   647 non-null    object \n",
      " 1   Payment_Gateway    647 non-null    object \n",
      " 2   Transaction_State  647 non-null    object \n",
      " 3   Merchant_Category  647 non-null    object \n",
      " 4   amount             647 non-null    float64\n",
      " 5   fraud              647 non-null    int64  \n",
      " 6   Year               647 non-null    int32  \n",
      " 7   Month              647 non-null    object \n",
      "dtypes: float64(1), int32(1), int64(1), object(5)\n",
      "memory usage: 38.0+ KB\n"
     ]
    }
   ],
   "source": [
    "df.info()"
   ]
  },
  {
   "cell_type": "code",
   "execution_count": 85,
   "id": "4792c56c",
   "metadata": {},
   "outputs": [
    {
     "data": {
      "text/plain": [
       "(647, 8)"
      ]
     },
     "execution_count": 85,
     "metadata": {},
     "output_type": "execute_result"
    }
   ],
   "source": [
    "df.shape"
   ]
  },
  {
   "cell_type": "code",
   "execution_count": 86,
   "id": "d0c0d454",
   "metadata": {},
   "outputs": [
    {
     "data": {
      "text/plain": [
       "Index(['Transaction_Type', 'Payment_Gateway', 'Transaction_State',\n",
       "       'Merchant_Category', 'amount', 'fraud', 'Year', 'Month'],\n",
       "      dtype='object')"
      ]
     },
     "execution_count": 86,
     "metadata": {},
     "output_type": "execute_result"
    }
   ],
   "source": [
    "df.columns"
   ]
  },
  {
   "cell_type": "markdown",
   "id": "5738c300",
   "metadata": {},
   "source": [
    "Encoding and scaling "
   ]
  },
  {
   "cell_type": "code",
   "execution_count": 87,
   "id": "e59f4e76",
   "metadata": {},
   "outputs": [],
   "source": [
    "data = df.copy()"
   ]
  },
  {
   "cell_type": "code",
   "execution_count": 88,
   "id": "2570e48e",
   "metadata": {},
   "outputs": [
    {
     "name": "stdout",
     "output_type": "stream",
     "text": [
      "<class 'pandas.core.frame.DataFrame'>\n",
      "RangeIndex: 647 entries, 0 to 646\n",
      "Data columns (total 8 columns):\n",
      " #   Column             Non-Null Count  Dtype  \n",
      "---  ------             --------------  -----  \n",
      " 0   Transaction_Type   647 non-null    object \n",
      " 1   Payment_Gateway    647 non-null    object \n",
      " 2   Transaction_State  647 non-null    object \n",
      " 3   Merchant_Category  647 non-null    object \n",
      " 4   amount             647 non-null    float64\n",
      " 5   fraud              647 non-null    int64  \n",
      " 6   Year               647 non-null    int32  \n",
      " 7   Month              647 non-null    object \n",
      "dtypes: float64(1), int32(1), int64(1), object(5)\n",
      "memory usage: 38.0+ KB\n"
     ]
    }
   ],
   "source": [
    "data.info()"
   ]
  },
  {
   "cell_type": "code",
   "execution_count": 89,
   "id": "ea963aeb",
   "metadata": {},
   "outputs": [],
   "source": [
    "# converting year column to object \n",
    "data['Year'] = data['Year'].astype('object')"
   ]
  },
  {
   "cell_type": "code",
   "execution_count": 90,
   "id": "7c21af1d",
   "metadata": {},
   "outputs": [
    {
     "data": {
      "text/plain": [
       "Index(['Transaction_Type', 'Payment_Gateway', 'Transaction_State',\n",
       "       'Merchant_Category', 'Year', 'Month'],\n",
       "      dtype='object')"
      ]
     },
     "execution_count": 90,
     "metadata": {},
     "output_type": "execute_result"
    }
   ],
   "source": [
    "# Extracting categorical columns from data\n",
    "categorical_cols = data.select_dtypes(include=['object']).columns\n",
    "\n",
    "categorical_cols"
   ]
  },
  {
   "cell_type": "code",
   "execution_count": 92,
   "id": "f2da4c26",
   "metadata": {},
   "outputs": [],
   "source": [
    "from sklearn.preprocessing import LabelEncoder\n",
    "\n",
    "cols = ['Year','Month']\n",
    "\n",
    "label_encoder = LabelEncoder()\n",
    "for col in cols:\n",
    "    data[col] = label_encoder.fit_transform(data[col])"
   ]
  },
  {
   "cell_type": "code",
   "execution_count": 95,
   "id": "c8babb67",
   "metadata": {},
   "outputs": [],
   "source": [
    "#non ordinal variables\n",
    "non_ordinal = ['Transaction_Type','Payment_Gateway','Transaction_State','Merchant_Category']\n",
    "\n",
    "# performing one hot encoding for non_ordinal variables\n",
    "data = pd.get_dummies(data, columns=non_ordinal,drop_first=True)\n",
    "\n",
    "#Convert boolean columns to integers \n",
    "data = data.astype(int)"
   ]
  },
  {
   "cell_type": "code",
   "execution_count": 96,
   "id": "bf03f50a",
   "metadata": {},
   "outputs": [
    {
     "data": {
      "text/html": [
       "<div>\n",
       "<style scoped>\n",
       "    .dataframe tbody tr th:only-of-type {\n",
       "        vertical-align: middle;\n",
       "    }\n",
       "\n",
       "    .dataframe tbody tr th {\n",
       "        vertical-align: top;\n",
       "    }\n",
       "\n",
       "    .dataframe thead th {\n",
       "        text-align: right;\n",
       "    }\n",
       "</style>\n",
       "<table border=\"1\" class=\"dataframe\">\n",
       "  <thead>\n",
       "    <tr style=\"text-align: right;\">\n",
       "      <th></th>\n",
       "      <th>amount</th>\n",
       "      <th>fraud</th>\n",
       "      <th>Year</th>\n",
       "      <th>Month</th>\n",
       "      <th>Transaction_Type_Bill Payment</th>\n",
       "      <th>Transaction_Type_Investment</th>\n",
       "      <th>Transaction_Type_Other</th>\n",
       "      <th>Transaction_Type_Purchase</th>\n",
       "      <th>Transaction_Type_Refund</th>\n",
       "      <th>Transaction_Type_Subscription</th>\n",
       "      <th>...</th>\n",
       "      <th>Transaction_State_West Bengal</th>\n",
       "      <th>Merchant_Category_Donations and Devotion</th>\n",
       "      <th>Merchant_Category_Financial services and Taxes</th>\n",
       "      <th>Merchant_Category_Home delivery</th>\n",
       "      <th>Merchant_Category_Investment</th>\n",
       "      <th>Merchant_Category_More Services</th>\n",
       "      <th>Merchant_Category_Other</th>\n",
       "      <th>Merchant_Category_Purchases</th>\n",
       "      <th>Merchant_Category_Travel bookings</th>\n",
       "      <th>Merchant_Category_Utilities</th>\n",
       "    </tr>\n",
       "  </thead>\n",
       "  <tbody>\n",
       "    <tr>\n",
       "      <th>0</th>\n",
       "      <td>396</td>\n",
       "      <td>1</td>\n",
       "      <td>0</td>\n",
       "      <td>0</td>\n",
       "      <td>0</td>\n",
       "      <td>0</td>\n",
       "      <td>0</td>\n",
       "      <td>0</td>\n",
       "      <td>1</td>\n",
       "      <td>0</td>\n",
       "      <td>...</td>\n",
       "      <td>0</td>\n",
       "      <td>0</td>\n",
       "      <td>0</td>\n",
       "      <td>0</td>\n",
       "      <td>0</td>\n",
       "      <td>0</td>\n",
       "      <td>0</td>\n",
       "      <td>0</td>\n",
       "      <td>0</td>\n",
       "      <td>0</td>\n",
       "    </tr>\n",
       "    <tr>\n",
       "      <th>1</th>\n",
       "      <td>121</td>\n",
       "      <td>1</td>\n",
       "      <td>0</td>\n",
       "      <td>1</td>\n",
       "      <td>0</td>\n",
       "      <td>0</td>\n",
       "      <td>0</td>\n",
       "      <td>0</td>\n",
       "      <td>0</td>\n",
       "      <td>0</td>\n",
       "      <td>...</td>\n",
       "      <td>0</td>\n",
       "      <td>0</td>\n",
       "      <td>0</td>\n",
       "      <td>1</td>\n",
       "      <td>0</td>\n",
       "      <td>0</td>\n",
       "      <td>0</td>\n",
       "      <td>0</td>\n",
       "      <td>0</td>\n",
       "      <td>0</td>\n",
       "    </tr>\n",
       "    <tr>\n",
       "      <th>2</th>\n",
       "      <td>106</td>\n",
       "      <td>1</td>\n",
       "      <td>0</td>\n",
       "      <td>5</td>\n",
       "      <td>0</td>\n",
       "      <td>0</td>\n",
       "      <td>0</td>\n",
       "      <td>0</td>\n",
       "      <td>0</td>\n",
       "      <td>0</td>\n",
       "      <td>...</td>\n",
       "      <td>0</td>\n",
       "      <td>0</td>\n",
       "      <td>0</td>\n",
       "      <td>0</td>\n",
       "      <td>0</td>\n",
       "      <td>0</td>\n",
       "      <td>0</td>\n",
       "      <td>0</td>\n",
       "      <td>0</td>\n",
       "      <td>1</td>\n",
       "    </tr>\n",
       "    <tr>\n",
       "      <th>3</th>\n",
       "      <td>3611</td>\n",
       "      <td>1</td>\n",
       "      <td>1</td>\n",
       "      <td>3</td>\n",
       "      <td>0</td>\n",
       "      <td>0</td>\n",
       "      <td>0</td>\n",
       "      <td>0</td>\n",
       "      <td>0</td>\n",
       "      <td>1</td>\n",
       "      <td>...</td>\n",
       "      <td>0</td>\n",
       "      <td>0</td>\n",
       "      <td>0</td>\n",
       "      <td>0</td>\n",
       "      <td>0</td>\n",
       "      <td>0</td>\n",
       "      <td>0</td>\n",
       "      <td>1</td>\n",
       "      <td>0</td>\n",
       "      <td>0</td>\n",
       "    </tr>\n",
       "    <tr>\n",
       "      <th>4</th>\n",
       "      <td>374</td>\n",
       "      <td>1</td>\n",
       "      <td>0</td>\n",
       "      <td>5</td>\n",
       "      <td>0</td>\n",
       "      <td>1</td>\n",
       "      <td>0</td>\n",
       "      <td>0</td>\n",
       "      <td>0</td>\n",
       "      <td>0</td>\n",
       "      <td>...</td>\n",
       "      <td>0</td>\n",
       "      <td>0</td>\n",
       "      <td>0</td>\n",
       "      <td>0</td>\n",
       "      <td>0</td>\n",
       "      <td>0</td>\n",
       "      <td>1</td>\n",
       "      <td>0</td>\n",
       "      <td>0</td>\n",
       "      <td>0</td>\n",
       "    </tr>\n",
       "  </tbody>\n",
       "</table>\n",
       "<p>5 rows × 54 columns</p>\n",
       "</div>"
      ],
      "text/plain": [
       "   amount  fraud  Year  Month  Transaction_Type_Bill Payment  \\\n",
       "0     396      1     0      0                              0   \n",
       "1     121      1     0      1                              0   \n",
       "2     106      1     0      5                              0   \n",
       "3    3611      1     1      3                              0   \n",
       "4     374      1     0      5                              0   \n",
       "\n",
       "   Transaction_Type_Investment  Transaction_Type_Other  \\\n",
       "0                            0                       0   \n",
       "1                            0                       0   \n",
       "2                            0                       0   \n",
       "3                            0                       0   \n",
       "4                            1                       0   \n",
       "\n",
       "   Transaction_Type_Purchase  Transaction_Type_Refund  \\\n",
       "0                          0                        1   \n",
       "1                          0                        0   \n",
       "2                          0                        0   \n",
       "3                          0                        0   \n",
       "4                          0                        0   \n",
       "\n",
       "   Transaction_Type_Subscription  ...  Transaction_State_West Bengal  \\\n",
       "0                              0  ...                              0   \n",
       "1                              0  ...                              0   \n",
       "2                              0  ...                              0   \n",
       "3                              1  ...                              0   \n",
       "4                              0  ...                              0   \n",
       "\n",
       "   Merchant_Category_Donations and Devotion  \\\n",
       "0                                         0   \n",
       "1                                         0   \n",
       "2                                         0   \n",
       "3                                         0   \n",
       "4                                         0   \n",
       "\n",
       "   Merchant_Category_Financial services and Taxes  \\\n",
       "0                                               0   \n",
       "1                                               0   \n",
       "2                                               0   \n",
       "3                                               0   \n",
       "4                                               0   \n",
       "\n",
       "   Merchant_Category_Home delivery  Merchant_Category_Investment  \\\n",
       "0                                0                             0   \n",
       "1                                1                             0   \n",
       "2                                0                             0   \n",
       "3                                0                             0   \n",
       "4                                0                             0   \n",
       "\n",
       "   Merchant_Category_More Services  Merchant_Category_Other  \\\n",
       "0                                0                        0   \n",
       "1                                0                        0   \n",
       "2                                0                        0   \n",
       "3                                0                        0   \n",
       "4                                0                        1   \n",
       "\n",
       "   Merchant_Category_Purchases  Merchant_Category_Travel bookings  \\\n",
       "0                            0                                  0   \n",
       "1                            0                                  0   \n",
       "2                            0                                  0   \n",
       "3                            1                                  0   \n",
       "4                            0                                  0   \n",
       "\n",
       "   Merchant_Category_Utilities  \n",
       "0                            0  \n",
       "1                            0  \n",
       "2                            1  \n",
       "3                            0  \n",
       "4                            0  \n",
       "\n",
       "[5 rows x 54 columns]"
      ]
     },
     "execution_count": 96,
     "metadata": {},
     "output_type": "execute_result"
    }
   ],
   "source": [
    "data.head()"
   ]
  },
  {
   "cell_type": "code",
   "execution_count": 97,
   "id": "f646e98d",
   "metadata": {},
   "outputs": [
    {
     "data": {
      "text/plain": [
       "amount                                            int32\n",
       "fraud                                             int32\n",
       "Year                                              int32\n",
       "Month                                             int32\n",
       "Transaction_Type_Bill Payment                     int32\n",
       "Transaction_Type_Investment                       int32\n",
       "Transaction_Type_Other                            int32\n",
       "Transaction_Type_Purchase                         int32\n",
       "Transaction_Type_Refund                           int32\n",
       "Transaction_Type_Subscription                     int32\n",
       "Payment_Gateway_Bank of Data                      int32\n",
       "Payment_Gateway_CReditPAY                         int32\n",
       "Payment_Gateway_Dummy Bank                        int32\n",
       "Payment_Gateway_Gamma Bank                        int32\n",
       "Payment_Gateway_Other                             int32\n",
       "Payment_Gateway_SamplePay                         int32\n",
       "Payment_Gateway_Sigma Bank                        int32\n",
       "Payment_Gateway_UPI Pay                           int32\n",
       "Transaction_State_Arunachal Pradesh               int32\n",
       "Transaction_State_Assam                           int32\n",
       "Transaction_State_Bihar                           int32\n",
       "Transaction_State_Chhattisgarh                    int32\n",
       "Transaction_State_Goa                             int32\n",
       "Transaction_State_Gujarat                         int32\n",
       "Transaction_State_Haryana                         int32\n",
       "Transaction_State_Himachal Pradesh                int32\n",
       "Transaction_State_Jharkhand                       int32\n",
       "Transaction_State_Karnataka                       int32\n",
       "Transaction_State_Kerala                          int32\n",
       "Transaction_State_Madhya Pradesh                  int32\n",
       "Transaction_State_Maharashtra                     int32\n",
       "Transaction_State_Manipur                         int32\n",
       "Transaction_State_Meghalaya                       int32\n",
       "Transaction_State_Mizoram                         int32\n",
       "Transaction_State_Nagaland                        int32\n",
       "Transaction_State_Odisha                          int32\n",
       "Transaction_State_Punjab                          int32\n",
       "Transaction_State_Rajasthan                       int32\n",
       "Transaction_State_Sikkim                          int32\n",
       "Transaction_State_Tamil Nadu                      int32\n",
       "Transaction_State_Telangana                       int32\n",
       "Transaction_State_Tripura                         int32\n",
       "Transaction_State_Uttar Pradesh                   int32\n",
       "Transaction_State_Uttarakhand                     int32\n",
       "Transaction_State_West Bengal                     int32\n",
       "Merchant_Category_Donations and Devotion          int32\n",
       "Merchant_Category_Financial services and Taxes    int32\n",
       "Merchant_Category_Home delivery                   int32\n",
       "Merchant_Category_Investment                      int32\n",
       "Merchant_Category_More Services                   int32\n",
       "Merchant_Category_Other                           int32\n",
       "Merchant_Category_Purchases                       int32\n",
       "Merchant_Category_Travel bookings                 int32\n",
       "Merchant_Category_Utilities                       int32\n",
       "dtype: object"
      ]
     },
     "execution_count": 97,
     "metadata": {},
     "output_type": "execute_result"
    }
   ],
   "source": [
    "data.dtypes"
   ]
  },
  {
   "cell_type": "code",
   "execution_count": 98,
   "id": "3e7540bb",
   "metadata": {},
   "outputs": [
    {
     "data": {
      "text/plain": [
       "(647, 54)"
      ]
     },
     "execution_count": 98,
     "metadata": {},
     "output_type": "execute_result"
    }
   ],
   "source": [
    "data.shape"
   ]
  },
  {
   "cell_type": "markdown",
   "id": "43e110b5",
   "metadata": {},
   "source": [
    "To improve the computational effeciency , taking 50% of the entire data for model building and testing keeping the ration intact \n"
   ]
  },
  {
   "cell_type": "code",
   "execution_count": 99,
   "id": "af156393",
   "metadata": {},
   "outputs": [],
   "source": [
    "import pandas as pd\n",
    "from sklearn.model_selection import train_test_split\n",
    "\n",
    "#split the data into 'fraud' and 'non-fraud' classes\n",
    "fraud_data  = data[data['fraud']==1]\n",
    "non_fraud_data = data[data['fraud']==0]\n",
    "\n",
    "#sample each class separately while maintaining proportions \n",
    "sampled_fraud_data = fraud_data.sample(frac=0.5, random_state=42)\n",
    "sampled_non_fraud_data = non_fraud_data.sample(frac=0.5, random_state=42)\n",
    "\n",
    "#Combine the sampled data back together \n",
    "data= pd.concat([sampled_fraud_data, sampled_non_fraud_data])\n"
   ]
  },
  {
   "cell_type": "markdown",
   "id": "f02b9d61",
   "metadata": {},
   "source": [
    "Model Building "
   ]
  },
  {
   "cell_type": "code",
   "execution_count": 103,
   "id": "af54de61",
   "metadata": {},
   "outputs": [
    {
     "name": "stdout",
     "output_type": "stream",
     "text": [
      "Training features shape: (259, 53)\n",
      "Test features shape: (65, 53)\n",
      "Training target shape: (259,)\n",
      "Test target shape: (65,)\n"
     ]
    }
   ],
   "source": [
    "from sklearn.model_selection import train_test_split\n",
    "from sklearn.preprocessing import StandardScaler\n",
    "\n",
    "#Perform Scaling \n",
    "def preprocess_data(X):\n",
    "\n",
    "    #Initializes StandardScalar\n",
    "    scaler = StandardScaler()\n",
    "\n",
    "    #Scale the features \n",
    "    X_scaled = scaler.fit_transform(X)\n",
    "    return X_scaled \n",
    "\n",
    "#Splitting the dataset into features (X) and target variables (y)\n",
    "X = data.drop('fraud', axis=1)\n",
    "y = data['fraud']\n",
    "\n",
    "#Preprocess the features \n",
    "X_scaled = preprocess_data(X)\n",
    "\n",
    "#Split the preprocessed data into the training set and Test set\n",
    "X_train, X_test, y_train ,y_test = train_test_split(X_scaled, y, test_size=0.2, random_state=42)\n",
    "\n",
    "#Print the shapes of the training and test sets \n",
    "print(\"Training features shape:\", X_train.shape)\n",
    "print(\"Test features shape:\", X_test.shape)\n",
    "print(\"Training target shape:\", y_train.shape)\n",
    "print(\"Test target shape:\", y_test.shape)\n"
   ]
  },
  {
   "cell_type": "markdown",
   "id": "d07aacb4",
   "metadata": {},
   "source": [
    "Model performance before data balancing .i.e, with RAW data"
   ]
  },
  {
   "cell_type": "code",
   "execution_count": 106,
   "id": "e6eeeebf",
   "metadata": {},
   "outputs": [
    {
     "name": "stdout",
     "output_type": "stream",
     "text": [
      "Defaulting to user installation because normal site-packages is not writeable\n",
      "Collecting xgboost\n",
      "  Downloading xgboost-3.0.1-py3-none-win_amd64.whl.metadata (2.1 kB)\n",
      "Requirement already satisfied: numpy in c:\\programdata\\anaconda3\\lib\\site-packages (from xgboost) (1.26.4)\n",
      "Requirement already satisfied: scipy in c:\\programdata\\anaconda3\\lib\\site-packages (from xgboost) (1.13.1)\n",
      "Downloading xgboost-3.0.1-py3-none-win_amd64.whl (150.0 MB)\n",
      "   ---------------------------------------- 0.0/150.0 MB ? eta -:--:--\n",
      "   ---------------------------------------- 0.8/150.0 MB 4.8 MB/s eta 0:00:32\n",
      "   ---------------------------------------- 1.6/150.0 MB 4.4 MB/s eta 0:00:34\n",
      "    --------------------------------------- 2.6/150.0 MB 4.7 MB/s eta 0:00:32\n",
      "   - -------------------------------------- 3.9/150.0 MB 5.1 MB/s eta 0:00:29\n",
      "   - -------------------------------------- 5.5/150.0 MB 5.6 MB/s eta 0:00:26\n",
      "   - -------------------------------------- 6.6/150.0 MB 5.6 MB/s eta 0:00:26\n",
      "   - -------------------------------------- 7.3/150.0 MB 5.4 MB/s eta 0:00:27\n",
      "   - -------------------------------------- 7.3/150.0 MB 5.4 MB/s eta 0:00:27\n",
      "   - -------------------------------------- 7.3/150.0 MB 5.4 MB/s eta 0:00:27\n",
      "   -- ------------------------------------- 7.6/150.0 MB 3.7 MB/s eta 0:00:39\n",
      "   -- ------------------------------------- 8.4/150.0 MB 3.7 MB/s eta 0:00:39\n",
      "   -- ------------------------------------- 8.9/150.0 MB 3.7 MB/s eta 0:00:39\n",
      "   -- ------------------------------------- 9.7/150.0 MB 3.7 MB/s eta 0:00:39\n",
      "   -- ------------------------------------- 10.2/150.0 MB 3.6 MB/s eta 0:00:39\n",
      "   -- ------------------------------------- 10.7/150.0 MB 3.5 MB/s eta 0:00:40\n",
      "   -- ------------------------------------- 11.0/150.0 MB 3.5 MB/s eta 0:00:40\n",
      "   --- ------------------------------------ 11.5/150.0 MB 3.3 MB/s eta 0:00:42\n",
      "   --- ------------------------------------ 12.6/150.0 MB 3.4 MB/s eta 0:00:41\n",
      "   --- ------------------------------------ 13.4/150.0 MB 3.4 MB/s eta 0:00:40\n",
      "   --- ------------------------------------ 14.4/150.0 MB 3.5 MB/s eta 0:00:39\n",
      "   --- ------------------------------------ 14.7/150.0 MB 3.5 MB/s eta 0:00:39\n",
      "   ---- ----------------------------------- 15.5/150.0 MB 3.4 MB/s eta 0:00:40\n",
      "   ---- ----------------------------------- 16.3/150.0 MB 3.5 MB/s eta 0:00:39\n",
      "   ---- ----------------------------------- 16.5/150.0 MB 3.4 MB/s eta 0:00:40\n",
      "   ---- ----------------------------------- 17.3/150.0 MB 3.4 MB/s eta 0:00:40\n",
      "   ---- ----------------------------------- 18.1/150.0 MB 3.4 MB/s eta 0:00:39\n",
      "   ----- ---------------------------------- 18.9/150.0 MB 3.5 MB/s eta 0:00:38\n",
      "   ----- ---------------------------------- 20.2/150.0 MB 3.5 MB/s eta 0:00:37\n",
      "   ----- ---------------------------------- 21.5/150.0 MB 3.6 MB/s eta 0:00:36\n",
      "   ------ --------------------------------- 22.8/150.0 MB 3.7 MB/s eta 0:00:35\n",
      "   ------ --------------------------------- 23.6/150.0 MB 3.7 MB/s eta 0:00:35\n",
      "   ------ --------------------------------- 24.9/150.0 MB 3.8 MB/s eta 0:00:33\n",
      "   ------- -------------------------------- 26.7/150.0 MB 3.9 MB/s eta 0:00:32\n",
      "   ------- -------------------------------- 28.0/150.0 MB 4.0 MB/s eta 0:00:31\n",
      "   ------- -------------------------------- 29.9/150.0 MB 4.2 MB/s eta 0:00:29\n",
      "   -------- ------------------------------- 32.0/150.0 MB 4.3 MB/s eta 0:00:28\n",
      "   -------- ------------------------------- 33.3/150.0 MB 4.4 MB/s eta 0:00:27\n",
      "   --------- ------------------------------ 35.1/150.0 MB 4.5 MB/s eta 0:00:26\n",
      "   --------- ------------------------------ 37.2/150.0 MB 4.6 MB/s eta 0:00:25\n",
      "   ---------- ----------------------------- 38.5/150.0 MB 4.7 MB/s eta 0:00:24\n",
      "   ---------- ----------------------------- 39.3/150.0 MB 4.7 MB/s eta 0:00:24\n",
      "   ---------- ----------------------------- 40.1/150.0 MB 4.7 MB/s eta 0:00:24\n",
      "   ---------- ----------------------------- 40.6/150.0 MB 4.7 MB/s eta 0:00:24\n",
      "   ----------- ---------------------------- 42.2/150.0 MB 4.7 MB/s eta 0:00:24\n",
      "   ----------- ---------------------------- 44.0/150.0 MB 4.7 MB/s eta 0:00:23\n",
      "   ------------ --------------------------- 45.9/150.0 MB 4.9 MB/s eta 0:00:22\n",
      "   ------------ --------------------------- 46.9/150.0 MB 4.8 MB/s eta 0:00:22\n",
      "   ------------ --------------------------- 48.0/150.0 MB 4.9 MB/s eta 0:00:21\n",
      "   ------------- -------------------------- 49.8/150.0 MB 4.9 MB/s eta 0:00:21\n",
      "   ------------- -------------------------- 51.6/150.0 MB 5.0 MB/s eta 0:00:20\n",
      "   -------------- ------------------------- 53.2/150.0 MB 5.1 MB/s eta 0:00:20\n",
      "   -------------- ------------------------- 54.8/150.0 MB 5.1 MB/s eta 0:00:19\n",
      "   --------------- ------------------------ 56.4/150.0 MB 5.2 MB/s eta 0:00:19\n",
      "   --------------- ------------------------ 58.5/150.0 MB 5.3 MB/s eta 0:00:18\n",
      "   ---------------- ----------------------- 60.0/150.0 MB 5.3 MB/s eta 0:00:17\n",
      "   ---------------- ----------------------- 61.1/150.0 MB 5.3 MB/s eta 0:00:17\n",
      "   ---------------- ----------------------- 61.9/150.0 MB 5.3 MB/s eta 0:00:17\n",
      "   ---------------- ----------------------- 62.9/150.0 MB 5.3 MB/s eta 0:00:17\n",
      "   ---------------- ----------------------- 63.7/150.0 MB 5.3 MB/s eta 0:00:17\n",
      "   ----------------- ---------------------- 65.3/150.0 MB 5.3 MB/s eta 0:00:17\n",
      "   ----------------- ---------------------- 66.3/150.0 MB 5.3 MB/s eta 0:00:16\n",
      "   ------------------ --------------------- 68.2/150.0 MB 5.3 MB/s eta 0:00:16\n",
      "   ------------------ --------------------- 69.2/150.0 MB 5.3 MB/s eta 0:00:16\n",
      "   ------------------ --------------------- 69.7/150.0 MB 5.3 MB/s eta 0:00:16\n",
      "   ------------------ --------------------- 70.5/150.0 MB 5.3 MB/s eta 0:00:16\n",
      "   ------------------- -------------------- 71.3/150.0 MB 5.3 MB/s eta 0:00:15\n",
      "   ------------------- -------------------- 71.8/150.0 MB 5.2 MB/s eta 0:00:15\n",
      "   ------------------- -------------------- 72.4/150.0 MB 5.2 MB/s eta 0:00:15\n",
      "   ------------------- -------------------- 72.9/150.0 MB 5.2 MB/s eta 0:00:15\n",
      "   ------------------- -------------------- 73.4/150.0 MB 5.1 MB/s eta 0:00:16\n",
      "   ------------------- -------------------- 73.9/150.0 MB 5.0 MB/s eta 0:00:16\n",
      "   ------------------- -------------------- 74.2/150.0 MB 5.0 MB/s eta 0:00:16\n",
      "   -------------------- ------------------- 75.5/150.0 MB 5.0 MB/s eta 0:00:15\n",
      "   -------------------- ------------------- 76.0/150.0 MB 5.0 MB/s eta 0:00:15\n",
      "   -------------------- ------------------- 77.1/150.0 MB 5.0 MB/s eta 0:00:15\n",
      "   -------------------- ------------------- 77.9/150.0 MB 5.0 MB/s eta 0:00:15\n",
      "   --------------------- ------------------ 79.4/150.0 MB 5.0 MB/s eta 0:00:15\n",
      "   --------------------- ------------------ 80.5/150.0 MB 5.0 MB/s eta 0:00:14\n",
      "   ---------------------- ----------------- 82.6/150.0 MB 5.1 MB/s eta 0:00:14\n",
      "   ---------------------- ----------------- 84.7/150.0 MB 5.1 MB/s eta 0:00:13\n",
      "   ----------------------- ---------------- 87.0/150.0 MB 5.2 MB/s eta 0:00:13\n",
      "   ----------------------- ---------------- 89.4/150.0 MB 5.3 MB/s eta 0:00:12\n",
      "   ------------------------ --------------- 91.8/150.0 MB 5.4 MB/s eta 0:00:11\n",
      "   ------------------------- -------------- 94.1/150.0 MB 5.4 MB/s eta 0:00:11\n",
      "   ------------------------- -------------- 96.2/150.0 MB 5.5 MB/s eta 0:00:10\n",
      "   -------------------------- ------------- 97.5/150.0 MB 5.5 MB/s eta 0:00:10\n",
      "   -------------------------- ------------- 99.1/150.0 MB 5.5 MB/s eta 0:00:10\n",
      "   -------------------------- ------------- 99.6/150.0 MB 5.5 MB/s eta 0:00:10\n",
      "   -------------------------- ------------- 100.4/150.0 MB 5.5 MB/s eta 0:00:10\n",
      "   --------------------------- ------------ 101.4/150.0 MB 5.5 MB/s eta 0:00:09\n",
      "   --------------------------- ------------ 102.2/150.0 MB 5.5 MB/s eta 0:00:09\n",
      "   --------------------------- ------------ 102.8/150.0 MB 5.4 MB/s eta 0:00:09\n",
      "   --------------------------- ------------ 103.3/150.0 MB 5.4 MB/s eta 0:00:09\n",
      "   --------------------------- ------------ 104.1/150.0 MB 5.4 MB/s eta 0:00:09\n",
      "   ---------------------------- ----------- 105.1/150.0 MB 5.4 MB/s eta 0:00:09\n",
      "   ---------------------------- ----------- 106.2/150.0 MB 5.4 MB/s eta 0:00:09\n",
      "   ---------------------------- ----------- 107.2/150.0 MB 5.4 MB/s eta 0:00:08\n",
      "   ---------------------------- ----------- 108.0/150.0 MB 5.4 MB/s eta 0:00:08\n",
      "   ----------------------------- ---------- 109.1/150.0 MB 5.3 MB/s eta 0:00:08\n",
      "   ----------------------------- ---------- 110.1/150.0 MB 5.3 MB/s eta 0:00:08\n",
      "   ----------------------------- ---------- 110.6/150.0 MB 5.3 MB/s eta 0:00:08\n",
      "   ----------------------------- ---------- 111.9/150.0 MB 5.3 MB/s eta 0:00:08\n",
      "   ------------------------------ --------- 113.2/150.0 MB 5.3 MB/s eta 0:00:07\n",
      "   ------------------------------ --------- 114.0/150.0 MB 5.3 MB/s eta 0:00:07\n",
      "   ------------------------------ --------- 114.6/150.0 MB 5.3 MB/s eta 0:00:07\n",
      "   ------------------------------ --------- 114.8/150.0 MB 5.2 MB/s eta 0:00:07\n",
      "   ------------------------------ --------- 116.1/150.0 MB 5.3 MB/s eta 0:00:07\n",
      "   ------------------------------- -------- 117.4/150.0 MB 5.3 MB/s eta 0:00:07\n",
      "   ------------------------------- -------- 118.0/150.0 MB 5.3 MB/s eta 0:00:07\n",
      "   ------------------------------- -------- 119.5/150.0 MB 5.3 MB/s eta 0:00:06\n",
      "   -------------------------------- ------- 120.6/150.0 MB 5.3 MB/s eta 0:00:06\n",
      "   -------------------------------- ------- 121.9/150.0 MB 5.3 MB/s eta 0:00:06\n",
      "   -------------------------------- ------- 122.7/150.0 MB 5.3 MB/s eta 0:00:06\n",
      "   -------------------------------- ------- 123.5/150.0 MB 5.3 MB/s eta 0:00:06\n",
      "   --------------------------------- ------ 124.0/150.0 MB 5.2 MB/s eta 0:00:05\n",
      "   --------------------------------- ------ 125.0/150.0 MB 5.2 MB/s eta 0:00:05\n",
      "   --------------------------------- ------ 125.0/150.0 MB 5.2 MB/s eta 0:00:05\n",
      "   --------------------------------- ------ 125.3/150.0 MB 5.1 MB/s eta 0:00:05\n",
      "   --------------------------------- ------ 125.6/150.0 MB 5.1 MB/s eta 0:00:05\n",
      "   --------------------------------- ------ 125.8/150.0 MB 5.1 MB/s eta 0:00:05\n",
      "   --------------------------------- ------ 126.4/150.0 MB 5.1 MB/s eta 0:00:05\n",
      "   --------------------------------- ------ 126.9/150.0 MB 5.0 MB/s eta 0:00:05\n",
      "   ---------------------------------- ----- 127.7/150.0 MB 5.0 MB/s eta 0:00:05\n",
      "   ---------------------------------- ----- 129.0/150.0 MB 5.0 MB/s eta 0:00:05\n",
      "   ---------------------------------- ----- 130.3/150.0 MB 5.0 MB/s eta 0:00:04\n",
      "   ----------------------------------- ---- 131.3/150.0 MB 5.0 MB/s eta 0:00:04\n",
      "   ----------------------------------- ---- 132.6/150.0 MB 5.0 MB/s eta 0:00:04\n",
      "   ----------------------------------- ---- 133.7/150.0 MB 5.1 MB/s eta 0:00:04\n",
      "   ----------------------------------- ---- 134.7/150.0 MB 5.1 MB/s eta 0:00:04\n",
      "   ----------------------------------- ---- 134.7/150.0 MB 5.1 MB/s eta 0:00:04\n",
      "   ------------------------------------ --- 135.5/150.0 MB 5.0 MB/s eta 0:00:03\n",
      "   ------------------------------------ --- 136.8/150.0 MB 5.0 MB/s eta 0:00:03\n",
      "   ------------------------------------ --- 137.4/150.0 MB 5.0 MB/s eta 0:00:03\n",
      "   ------------------------------------ --- 138.1/150.0 MB 5.0 MB/s eta 0:00:03\n",
      "   ------------------------------------ --- 138.4/150.0 MB 5.0 MB/s eta 0:00:03\n",
      "   ------------------------------------- -- 138.9/150.0 MB 5.0 MB/s eta 0:00:03\n",
      "   ------------------------------------- -- 140.2/150.0 MB 4.9 MB/s eta 0:00:02\n",
      "   ------------------------------------- -- 140.8/150.0 MB 4.9 MB/s eta 0:00:02\n",
      "   ------------------------------------- -- 141.6/150.0 MB 4.9 MB/s eta 0:00:02\n",
      "   ------------------------------------- -- 141.6/150.0 MB 4.9 MB/s eta 0:00:02\n",
      "   ------------------------------------- -- 142.1/150.0 MB 4.9 MB/s eta 0:00:02\n",
      "   -------------------------------------- - 142.9/150.0 MB 4.9 MB/s eta 0:00:02\n",
      "   -------------------------------------- - 143.7/150.0 MB 4.9 MB/s eta 0:00:02\n",
      "   -------------------------------------- - 143.9/150.0 MB 4.8 MB/s eta 0:00:02\n",
      "   -------------------------------------- - 145.0/150.0 MB 4.8 MB/s eta 0:00:02\n",
      "   -------------------------------------- - 145.5/150.0 MB 4.8 MB/s eta 0:00:01\n",
      "   -------------------------------------- - 145.8/150.0 MB 4.8 MB/s eta 0:00:01\n",
      "   ---------------------------------------  146.5/150.0 MB 4.8 MB/s eta 0:00:01\n",
      "   ---------------------------------------  146.5/150.0 MB 4.8 MB/s eta 0:00:01\n",
      "   ---------------------------------------  147.3/150.0 MB 4.7 MB/s eta 0:00:01\n",
      "   ---------------------------------------  147.6/150.0 MB 4.7 MB/s eta 0:00:01\n",
      "   ---------------------------------------  147.8/150.0 MB 4.7 MB/s eta 0:00:01\n",
      "   ---------------------------------------  148.6/150.0 MB 4.8 MB/s eta 0:00:01\n",
      "   ---------------------------------------  149.2/150.0 MB 4.7 MB/s eta 0:00:01\n",
      "   ---------------------------------------  149.7/150.0 MB 4.7 MB/s eta 0:00:01\n",
      "   ---------------------------------------  149.9/150.0 MB 4.7 MB/s eta 0:00:01\n",
      "   ---------------------------------------- 150.0/150.0 MB 4.7 MB/s eta 0:00:00\n",
      "Installing collected packages: xgboost\n",
      "Successfully installed xgboost-3.0.1\n"
     ]
    }
   ],
   "source": [
    "!pip install xgboost\n"
   ]
  },
  {
   "cell_type": "code",
   "execution_count": 110,
   "id": "33c366bd",
   "metadata": {},
   "outputs": [
    {
     "name": "stdout",
     "output_type": "stream",
     "text": [
      "Decision Tree:\n",
      "Random forest:\n",
      "Gradient Boosting:\n",
      "XGBoost:\n"
     ]
    },
    {
     "data": {
      "text/html": [
       "<div>\n",
       "<style scoped>\n",
       "    .dataframe tbody tr th:only-of-type {\n",
       "        vertical-align: middle;\n",
       "    }\n",
       "\n",
       "    .dataframe tbody tr th {\n",
       "        vertical-align: top;\n",
       "    }\n",
       "\n",
       "    .dataframe thead th {\n",
       "        text-align: right;\n",
       "    }\n",
       "</style>\n",
       "<table border=\"1\" class=\"dataframe\">\n",
       "  <thead>\n",
       "    <tr style=\"text-align: right;\">\n",
       "      <th></th>\n",
       "      <th>Model</th>\n",
       "      <th>Accuracy</th>\n",
       "      <th>Precision</th>\n",
       "      <th>Recall</th>\n",
       "      <th>F1 Score</th>\n",
       "      <th>ROC AUC Score</th>\n",
       "    </tr>\n",
       "  </thead>\n",
       "  <tbody>\n",
       "    <tr>\n",
       "      <th>0</th>\n",
       "      <td>DecisionTreeClassifier</td>\n",
       "      <td>0.907692</td>\n",
       "      <td>0.812500</td>\n",
       "      <td>0.8125</td>\n",
       "      <td>0.812500</td>\n",
       "      <td>0.875638</td>\n",
       "    </tr>\n",
       "    <tr>\n",
       "      <th>1</th>\n",
       "      <td>RandomForestClassifier</td>\n",
       "      <td>0.953846</td>\n",
       "      <td>1.000000</td>\n",
       "      <td>0.8125</td>\n",
       "      <td>0.896552</td>\n",
       "      <td>0.906250</td>\n",
       "    </tr>\n",
       "    <tr>\n",
       "      <th>2</th>\n",
       "      <td>GradientBoostingClassifier</td>\n",
       "      <td>0.938462</td>\n",
       "      <td>0.928571</td>\n",
       "      <td>0.8125</td>\n",
       "      <td>0.866667</td>\n",
       "      <td>0.896046</td>\n",
       "    </tr>\n",
       "    <tr>\n",
       "      <th>3</th>\n",
       "      <td>XGBClassifier</td>\n",
       "      <td>0.953846</td>\n",
       "      <td>0.933333</td>\n",
       "      <td>0.8750</td>\n",
       "      <td>0.903226</td>\n",
       "      <td>0.927296</td>\n",
       "    </tr>\n",
       "  </tbody>\n",
       "</table>\n",
       "</div>"
      ],
      "text/plain": [
       "                        Model  Accuracy  Precision  Recall  F1 Score  \\\n",
       "0      DecisionTreeClassifier  0.907692   0.812500  0.8125  0.812500   \n",
       "1      RandomForestClassifier  0.953846   1.000000  0.8125  0.896552   \n",
       "2  GradientBoostingClassifier  0.938462   0.928571  0.8125  0.866667   \n",
       "3               XGBClassifier  0.953846   0.933333  0.8750  0.903226   \n",
       "\n",
       "   ROC AUC Score  \n",
       "0       0.875638  \n",
       "1       0.906250  \n",
       "2       0.896046  \n",
       "3       0.927296  "
      ]
     },
     "execution_count": 110,
     "metadata": {},
     "output_type": "execute_result"
    }
   ],
   "source": [
    "import pandas as pd \n",
    "from sklearn.model_selection import train_test_split\n",
    "from sklearn.metrics import accuracy_score, precision_score, recall_score, f1_score, roc_auc_score\n",
    "from sklearn.tree import DecisionTreeClassifier\n",
    "from sklearn.ensemble import RandomForestClassifier, GradientBoostingClassifier\n",
    "from xgboost import XGBClassifier #Import XGBoost classifier\n",
    "\n",
    "#Split the sampled data into training and testing sets with a test size of 30%\n",
    "X_train, X_test, y_train ,y_test = train_test_split(X, y, test_size=0.2, random_state=42, stratify=y)\n",
    "\n",
    "#Define a function to evaluate a model and return a dictionary of metrics \n",
    "def evaluate_model(model, X_test,y_test):\n",
    "    #calculate predictions\n",
    "    y_pred = model.predict(X_test)\n",
    "\n",
    "    #compute metrics \n",
    "    accuracy = accuracy_score(y_test, y_pred)\n",
    "    precision = precision_score(y_test,y_pred)\n",
    "    recall = recall_score(y_test,y_pred)\n",
    "    f1 = f1_score(y_test,y_pred)\n",
    "    roc_auc = roc_auc_score(y_test,y_pred)\n",
    "\n",
    "    #Return metrics as a dictionary\n",
    "    return {\n",
    "        'Model': type(model).__name__,\n",
    "        'Accuracy': accuracy,\n",
    "        'Precision': precision,\n",
    "        'Recall': recall,\n",
    "        'F1 Score': f1,\n",
    "        'ROC AUC Score': roc_auc\n",
    "    }\n",
    "\n",
    "#Define models without Support Vector Machine (SVM)\n",
    "models = {\n",
    "    \"Decision Tree\": DecisionTreeClassifier(),\n",
    "    \"Random forest\": RandomForestClassifier(),\n",
    "    \"Gradient Boosting\": GradientBoostingClassifier(),\n",
    "    \"XGBoost\": XGBClassifier(), #added xgboost to the dictionary\n",
    "}\n",
    "\n",
    "#List to store evaluation results\n",
    "results = []\n",
    "\n",
    "#Model training and evaluation \n",
    "for model_name,model in models.items():\n",
    "    print(model_name + \":\")\n",
    "    model.fit(X_train,y_train)\n",
    "    metrics = evaluate_model(model,X_test, y_test)\n",
    "    results.append(metrics)\n",
    "\n",
    "#create a DataFrame from the results \n",
    "df_results = pd.DataFrame(results)\n",
    "\n",
    "#Define the Dataframe\n",
    "df_results\n",
    "\n"
   ]
  },
  {
   "cell_type": "markdown",
   "id": "70442994",
   "metadata": {},
   "source": [
    "# Inferences \n",
    "Inferences\n",
    "\n",
    "- Accuracy: All models achieved high accuracy, ranging from 98.84% to 99.24%, indicating their proficiency in classifying transactions. However, accuracy alone might not provide a complete picture, especially in cases of imbalanced datasets like fraud detection.\n",
    "\n",
    "- Precision and Recall: Precision measures the percentage of predicted positive instances among all actual positive instances, while recall measures the percentage of correctly predicted positive instances among all actual positive instances .\n",
    "\n",
    "- F1 Score: The F1 score, the harmonic mean of precision and recall, offers a balanced assessment of the model's performance. It is particularly useful in scenarios with class imbalance, such\n",
    "as fraud detection.\n",
    "\n",
    "- ROC AUC Score: The ROC AUC (Receiver Operating Characteristic Area Under the Curve) score evaluates the model's ability to discriminate between classes. Higher ROC AUC scores Indicate better performance.\n",
    "\n",
    "- Model Performance: While all models demonstrated strong performance, the Random Forest Classifier and XGBoost Classifier stood out. The Random Forest Classifier achieved an Ft score of 73.13% with an accuracy of 99.28%, indicating its ability to balance precision and recall effectively. On the other hand, the XGBoost Classifier surpassed all others with an F1 score of\n",
    "64.29%, highlighting its robust performance.\n",
    "\n",
    "- Decision Tree and Gradient Boosting: Although the Decision Tree Classifier and Gradient Boosting Classifier exhibited competitive performance, they slightly lagged behind the Random Forest and XGBoost classifiers in terms of F1 score.\n",
    "\n",
    "- Overall Recommendation Considering the F1 score and overall performance, the Random Forest Classifier emerges as the top choice for fraud detection in this scenario. However, the XGBoost Classifier also offers a strong alternative, particularly when computational efficiency is a concem. Both models provide effective solutions for identifying fraudulent transactions, with the Random Forest Classifier leading with the highest F1 score."
   ]
  },
  {
   "cell_type": "markdown",
   "id": "6516ef15",
   "metadata": {},
   "source": [
    "### Oversampling (SMOTE)"
   ]
  },
  {
   "cell_type": "code",
   "execution_count": 111,
   "id": "dee04c4b",
   "metadata": {},
   "outputs": [],
   "source": [
    "X = data.drop('fraud',axis=1)\n",
    "y = data['fraud']"
   ]
  },
  {
   "cell_type": "code",
   "execution_count": 112,
   "id": "f9c03505",
   "metadata": {},
   "outputs": [
    {
     "data": {
      "text/plain": [
       "(324, 53)"
      ]
     },
     "execution_count": 112,
     "metadata": {},
     "output_type": "execute_result"
    }
   ],
   "source": [
    "X.shape"
   ]
  },
  {
   "cell_type": "code",
   "execution_count": 113,
   "id": "6b945b1c",
   "metadata": {},
   "outputs": [
    {
     "data": {
      "text/plain": [
       "(324,)"
      ]
     },
     "execution_count": 113,
     "metadata": {},
     "output_type": "execute_result"
    }
   ],
   "source": [
    "y.shape"
   ]
  },
  {
   "cell_type": "code",
   "execution_count": 114,
   "id": "bd2d34c2",
   "metadata": {},
   "outputs": [
    {
     "name": "stdout",
     "output_type": "stream",
     "text": [
      "fraud\n",
      "1    246\n",
      "0    246\n",
      "Name: count, dtype: int64\n"
     ]
    }
   ],
   "source": [
    "from imblearn.over_sampling import SMOTE\n",
    "\n",
    "#using SMOTE to oversample the minority class\n",
    "X_res,y_res = SMOTE().fit_resample(X, y)\n",
    "\n",
    "#Print the count of each class after oversampling\n",
    "print(y_res.value_counts())"
   ]
  },
  {
   "cell_type": "code",
   "execution_count": 115,
   "id": "59dbe2aa",
   "metadata": {},
   "outputs": [
    {
     "name": "stdout",
     "output_type": "stream",
     "text": [
      "Decision Tree:\n",
      "Random forest:\n",
      "Gradient Boosting:\n",
      "XGBoost:\n"
     ]
    },
    {
     "data": {
      "text/html": [
       "<div>\n",
       "<style scoped>\n",
       "    .dataframe tbody tr th:only-of-type {\n",
       "        vertical-align: middle;\n",
       "    }\n",
       "\n",
       "    .dataframe tbody tr th {\n",
       "        vertical-align: top;\n",
       "    }\n",
       "\n",
       "    .dataframe thead th {\n",
       "        text-align: right;\n",
       "    }\n",
       "</style>\n",
       "<table border=\"1\" class=\"dataframe\">\n",
       "  <thead>\n",
       "    <tr style=\"text-align: right;\">\n",
       "      <th></th>\n",
       "      <th>Model</th>\n",
       "      <th>Accuracy</th>\n",
       "      <th>Precision</th>\n",
       "      <th>Recall</th>\n",
       "      <th>F1 Score</th>\n",
       "      <th>ROC AUC Score</th>\n",
       "    </tr>\n",
       "  </thead>\n",
       "  <tbody>\n",
       "    <tr>\n",
       "      <th>0</th>\n",
       "      <td>DecisionTreeClassifier</td>\n",
       "      <td>0.892308</td>\n",
       "      <td>0.800000</td>\n",
       "      <td>0.7500</td>\n",
       "      <td>0.774194</td>\n",
       "      <td>0.844388</td>\n",
       "    </tr>\n",
       "    <tr>\n",
       "      <th>1</th>\n",
       "      <td>RandomForestClassifier</td>\n",
       "      <td>0.969231</td>\n",
       "      <td>1.000000</td>\n",
       "      <td>0.8750</td>\n",
       "      <td>0.933333</td>\n",
       "      <td>0.937500</td>\n",
       "    </tr>\n",
       "    <tr>\n",
       "      <th>2</th>\n",
       "      <td>GradientBoostingClassifier</td>\n",
       "      <td>0.938462</td>\n",
       "      <td>0.928571</td>\n",
       "      <td>0.8125</td>\n",
       "      <td>0.866667</td>\n",
       "      <td>0.896046</td>\n",
       "    </tr>\n",
       "    <tr>\n",
       "      <th>3</th>\n",
       "      <td>XGBClassifier</td>\n",
       "      <td>0.953846</td>\n",
       "      <td>0.933333</td>\n",
       "      <td>0.8750</td>\n",
       "      <td>0.903226</td>\n",
       "      <td>0.927296</td>\n",
       "    </tr>\n",
       "  </tbody>\n",
       "</table>\n",
       "</div>"
      ],
      "text/plain": [
       "                        Model  Accuracy  Precision  Recall  F1 Score  \\\n",
       "0      DecisionTreeClassifier  0.892308   0.800000  0.7500  0.774194   \n",
       "1      RandomForestClassifier  0.969231   1.000000  0.8750  0.933333   \n",
       "2  GradientBoostingClassifier  0.938462   0.928571  0.8125  0.866667   \n",
       "3               XGBClassifier  0.953846   0.933333  0.8750  0.903226   \n",
       "\n",
       "   ROC AUC Score  \n",
       "0       0.844388  \n",
       "1       0.937500  \n",
       "2       0.896046  \n",
       "3       0.927296  "
      ]
     },
     "execution_count": 115,
     "metadata": {},
     "output_type": "execute_result"
    }
   ],
   "source": [
    "import pandas as pd \n",
    "from sklearn.model_selection import train_test_split\n",
    "from sklearn.metrics import accuracy_score, precision_score, recall_score, f1_score, roc_auc_score\n",
    "from sklearn.tree import DecisionTreeClassifier\n",
    "from sklearn.ensemble import RandomForestClassifier, GradientBoostingClassifier\n",
    "from xgboost import XGBClassifier #Import XGBoost classifier\n",
    "\n",
    "#Split the sampled data into training and testing sets with a test size of 30%\n",
    "X_train, X_test, y_train ,y_test = train_test_split(X, y, test_size=0.2, random_state=42, stratify=y)\n",
    "\n",
    "#Define a function to evaluate a model and return a dictionary of metrics \n",
    "def evaluate_model(model, X_test,y_test):\n",
    "    #calculate predictions\n",
    "    y_pred = model.predict(X_test)\n",
    "\n",
    "    #compute metrics \n",
    "    accuracy = accuracy_score(y_test, y_pred)\n",
    "    precision = precision_score(y_test,y_pred)\n",
    "    recall = recall_score(y_test,y_pred)\n",
    "    f1 = f1_score(y_test,y_pred)\n",
    "    roc_auc = roc_auc_score(y_test,y_pred)\n",
    "\n",
    "    #Return metrics as a dictionary\n",
    "    return {\n",
    "        'Model': type(model).__name__,\n",
    "        'Accuracy': accuracy,\n",
    "        'Precision': precision,\n",
    "        'Recall': recall,\n",
    "        'F1 Score': f1,\n",
    "        'ROC AUC Score': roc_auc\n",
    "    }\n",
    "\n",
    "#Define models without Support Vector Machine (SVM)\n",
    "models = {\n",
    "    \"Decision Tree\": DecisionTreeClassifier(),\n",
    "    \"Random forest\": RandomForestClassifier(),\n",
    "    \"Gradient Boosting\": GradientBoostingClassifier(),\n",
    "    \"XGBoost\": XGBClassifier(), #added xgboost to the dictionary\n",
    "}\n",
    "\n",
    "#List to store evaluation results\n",
    "results = []\n",
    "\n",
    "#Model training and evaluation \n",
    "for model_name,model in models.items():\n",
    "    print(model_name + \":\")\n",
    "    model.fit(X_train,y_train)\n",
    "    metrics = evaluate_model(model,X_test, y_test)\n",
    "    results.append(metrics)\n",
    "\n",
    "#create a DataFrame from the results \n",
    "df_results = pd.DataFrame(results)\n",
    "\n",
    "#Define the Dataframe\n",
    "df_results\n",
    "\n"
   ]
  },
  {
   "cell_type": "markdown",
   "id": "649aef51",
   "metadata": {},
   "source": [
    "### Inference:\n",
    "\n",
    "- RandomForestclassifier has the highest F1 Score : 93% across all metrics. Hence, it is the best model out of the four models tested for UPI fraud detection."
   ]
  },
  {
   "cell_type": "code",
   "execution_count": 123,
   "id": "6f898a56",
   "metadata": {},
   "outputs": [
    {
     "data": {
      "application/vnd.plotly.v1+json": {
       "config": {
        "plotlyServerURL": "https://plot.ly"
       },
       "data": [
        {
         "alignmentgroup": "True",
         "hovertemplate": "Model=%{x}<br>F1 Score=%{y}<extra></extra>",
         "legendgroup": "RandomForestClassifier",
         "marker": {
          "color": "#636efa",
          "pattern": {
           "shape": ""
          }
         },
         "name": "RandomForestClassifier",
         "offsetgroup": "RandomForestClassifier",
         "orientation": "v",
         "showlegend": true,
         "textposition": "auto",
         "type": "bar",
         "x": [
          "RandomForestClassifier"
         ],
         "xaxis": "x",
         "y": [
          0.9333333333333333
         ],
         "yaxis": "y"
        },
        {
         "alignmentgroup": "True",
         "hovertemplate": "Model=%{x}<br>F1 Score=%{y}<extra></extra>",
         "legendgroup": "XGBClassifier",
         "marker": {
          "color": "#EF553B",
          "pattern": {
           "shape": ""
          }
         },
         "name": "XGBClassifier",
         "offsetgroup": "XGBClassifier",
         "orientation": "v",
         "showlegend": true,
         "textposition": "auto",
         "type": "bar",
         "x": [
          "XGBClassifier"
         ],
         "xaxis": "x",
         "y": [
          0.9032258064516129
         ],
         "yaxis": "y"
        },
        {
         "alignmentgroup": "True",
         "hovertemplate": "Model=%{x}<br>F1 Score=%{y}<extra></extra>",
         "legendgroup": "GradientBoostingClassifier",
         "marker": {
          "color": "#00cc96",
          "pattern": {
           "shape": ""
          }
         },
         "name": "GradientBoostingClassifier",
         "offsetgroup": "GradientBoostingClassifier",
         "orientation": "v",
         "showlegend": true,
         "textposition": "auto",
         "type": "bar",
         "x": [
          "GradientBoostingClassifier"
         ],
         "xaxis": "x",
         "y": [
          0.8666666666666667
         ],
         "yaxis": "y"
        },
        {
         "alignmentgroup": "True",
         "hovertemplate": "Model=%{x}<br>F1 Score=%{y}<extra></extra>",
         "legendgroup": "DecisionTreeClassifier",
         "marker": {
          "color": "#ab63fa",
          "pattern": {
           "shape": ""
          }
         },
         "name": "DecisionTreeClassifier",
         "offsetgroup": "DecisionTreeClassifier",
         "orientation": "v",
         "showlegend": true,
         "textposition": "auto",
         "type": "bar",
         "x": [
          "DecisionTreeClassifier"
         ],
         "xaxis": "x",
         "y": [
          0.7741935483870968
         ],
         "yaxis": "y"
        }
       ],
       "layout": {
        "barmode": "relative",
        "legend": {
         "title": {
          "text": "Model"
         },
         "tracegroupgap": 0
        },
        "margin": {
         "b": 20,
         "l": 20,
         "r": 20,
         "t": 50
        },
        "template": {
         "data": {
          "bar": [
           {
            "error_x": {
             "color": "#2a3f5f"
            },
            "error_y": {
             "color": "#2a3f5f"
            },
            "marker": {
             "line": {
              "color": "#E5ECF6",
              "width": 0.5
             },
             "pattern": {
              "fillmode": "overlay",
              "size": 10,
              "solidity": 0.2
             }
            },
            "type": "bar"
           }
          ],
          "barpolar": [
           {
            "marker": {
             "line": {
              "color": "#E5ECF6",
              "width": 0.5
             },
             "pattern": {
              "fillmode": "overlay",
              "size": 10,
              "solidity": 0.2
             }
            },
            "type": "barpolar"
           }
          ],
          "carpet": [
           {
            "aaxis": {
             "endlinecolor": "#2a3f5f",
             "gridcolor": "white",
             "linecolor": "white",
             "minorgridcolor": "white",
             "startlinecolor": "#2a3f5f"
            },
            "baxis": {
             "endlinecolor": "#2a3f5f",
             "gridcolor": "white",
             "linecolor": "white",
             "minorgridcolor": "white",
             "startlinecolor": "#2a3f5f"
            },
            "type": "carpet"
           }
          ],
          "choropleth": [
           {
            "colorbar": {
             "outlinewidth": 0,
             "ticks": ""
            },
            "type": "choropleth"
           }
          ],
          "contour": [
           {
            "colorbar": {
             "outlinewidth": 0,
             "ticks": ""
            },
            "colorscale": [
             [
              0,
              "#0d0887"
             ],
             [
              0.1111111111111111,
              "#46039f"
             ],
             [
              0.2222222222222222,
              "#7201a8"
             ],
             [
              0.3333333333333333,
              "#9c179e"
             ],
             [
              0.4444444444444444,
              "#bd3786"
             ],
             [
              0.5555555555555556,
              "#d8576b"
             ],
             [
              0.6666666666666666,
              "#ed7953"
             ],
             [
              0.7777777777777778,
              "#fb9f3a"
             ],
             [
              0.8888888888888888,
              "#fdca26"
             ],
             [
              1,
              "#f0f921"
             ]
            ],
            "type": "contour"
           }
          ],
          "contourcarpet": [
           {
            "colorbar": {
             "outlinewidth": 0,
             "ticks": ""
            },
            "type": "contourcarpet"
           }
          ],
          "heatmap": [
           {
            "colorbar": {
             "outlinewidth": 0,
             "ticks": ""
            },
            "colorscale": [
             [
              0,
              "#0d0887"
             ],
             [
              0.1111111111111111,
              "#46039f"
             ],
             [
              0.2222222222222222,
              "#7201a8"
             ],
             [
              0.3333333333333333,
              "#9c179e"
             ],
             [
              0.4444444444444444,
              "#bd3786"
             ],
             [
              0.5555555555555556,
              "#d8576b"
             ],
             [
              0.6666666666666666,
              "#ed7953"
             ],
             [
              0.7777777777777778,
              "#fb9f3a"
             ],
             [
              0.8888888888888888,
              "#fdca26"
             ],
             [
              1,
              "#f0f921"
             ]
            ],
            "type": "heatmap"
           }
          ],
          "heatmapgl": [
           {
            "colorbar": {
             "outlinewidth": 0,
             "ticks": ""
            },
            "colorscale": [
             [
              0,
              "#0d0887"
             ],
             [
              0.1111111111111111,
              "#46039f"
             ],
             [
              0.2222222222222222,
              "#7201a8"
             ],
             [
              0.3333333333333333,
              "#9c179e"
             ],
             [
              0.4444444444444444,
              "#bd3786"
             ],
             [
              0.5555555555555556,
              "#d8576b"
             ],
             [
              0.6666666666666666,
              "#ed7953"
             ],
             [
              0.7777777777777778,
              "#fb9f3a"
             ],
             [
              0.8888888888888888,
              "#fdca26"
             ],
             [
              1,
              "#f0f921"
             ]
            ],
            "type": "heatmapgl"
           }
          ],
          "histogram": [
           {
            "marker": {
             "pattern": {
              "fillmode": "overlay",
              "size": 10,
              "solidity": 0.2
             }
            },
            "type": "histogram"
           }
          ],
          "histogram2d": [
           {
            "colorbar": {
             "outlinewidth": 0,
             "ticks": ""
            },
            "colorscale": [
             [
              0,
              "#0d0887"
             ],
             [
              0.1111111111111111,
              "#46039f"
             ],
             [
              0.2222222222222222,
              "#7201a8"
             ],
             [
              0.3333333333333333,
              "#9c179e"
             ],
             [
              0.4444444444444444,
              "#bd3786"
             ],
             [
              0.5555555555555556,
              "#d8576b"
             ],
             [
              0.6666666666666666,
              "#ed7953"
             ],
             [
              0.7777777777777778,
              "#fb9f3a"
             ],
             [
              0.8888888888888888,
              "#fdca26"
             ],
             [
              1,
              "#f0f921"
             ]
            ],
            "type": "histogram2d"
           }
          ],
          "histogram2dcontour": [
           {
            "colorbar": {
             "outlinewidth": 0,
             "ticks": ""
            },
            "colorscale": [
             [
              0,
              "#0d0887"
             ],
             [
              0.1111111111111111,
              "#46039f"
             ],
             [
              0.2222222222222222,
              "#7201a8"
             ],
             [
              0.3333333333333333,
              "#9c179e"
             ],
             [
              0.4444444444444444,
              "#bd3786"
             ],
             [
              0.5555555555555556,
              "#d8576b"
             ],
             [
              0.6666666666666666,
              "#ed7953"
             ],
             [
              0.7777777777777778,
              "#fb9f3a"
             ],
             [
              0.8888888888888888,
              "#fdca26"
             ],
             [
              1,
              "#f0f921"
             ]
            ],
            "type": "histogram2dcontour"
           }
          ],
          "mesh3d": [
           {
            "colorbar": {
             "outlinewidth": 0,
             "ticks": ""
            },
            "type": "mesh3d"
           }
          ],
          "parcoords": [
           {
            "line": {
             "colorbar": {
              "outlinewidth": 0,
              "ticks": ""
             }
            },
            "type": "parcoords"
           }
          ],
          "pie": [
           {
            "automargin": true,
            "type": "pie"
           }
          ],
          "scatter": [
           {
            "fillpattern": {
             "fillmode": "overlay",
             "size": 10,
             "solidity": 0.2
            },
            "type": "scatter"
           }
          ],
          "scatter3d": [
           {
            "line": {
             "colorbar": {
              "outlinewidth": 0,
              "ticks": ""
             }
            },
            "marker": {
             "colorbar": {
              "outlinewidth": 0,
              "ticks": ""
             }
            },
            "type": "scatter3d"
           }
          ],
          "scattercarpet": [
           {
            "marker": {
             "colorbar": {
              "outlinewidth": 0,
              "ticks": ""
             }
            },
            "type": "scattercarpet"
           }
          ],
          "scattergeo": [
           {
            "marker": {
             "colorbar": {
              "outlinewidth": 0,
              "ticks": ""
             }
            },
            "type": "scattergeo"
           }
          ],
          "scattergl": [
           {
            "marker": {
             "colorbar": {
              "outlinewidth": 0,
              "ticks": ""
             }
            },
            "type": "scattergl"
           }
          ],
          "scattermapbox": [
           {
            "marker": {
             "colorbar": {
              "outlinewidth": 0,
              "ticks": ""
             }
            },
            "type": "scattermapbox"
           }
          ],
          "scatterpolar": [
           {
            "marker": {
             "colorbar": {
              "outlinewidth": 0,
              "ticks": ""
             }
            },
            "type": "scatterpolar"
           }
          ],
          "scatterpolargl": [
           {
            "marker": {
             "colorbar": {
              "outlinewidth": 0,
              "ticks": ""
             }
            },
            "type": "scatterpolargl"
           }
          ],
          "scatterternary": [
           {
            "marker": {
             "colorbar": {
              "outlinewidth": 0,
              "ticks": ""
             }
            },
            "type": "scatterternary"
           }
          ],
          "surface": [
           {
            "colorbar": {
             "outlinewidth": 0,
             "ticks": ""
            },
            "colorscale": [
             [
              0,
              "#0d0887"
             ],
             [
              0.1111111111111111,
              "#46039f"
             ],
             [
              0.2222222222222222,
              "#7201a8"
             ],
             [
              0.3333333333333333,
              "#9c179e"
             ],
             [
              0.4444444444444444,
              "#bd3786"
             ],
             [
              0.5555555555555556,
              "#d8576b"
             ],
             [
              0.6666666666666666,
              "#ed7953"
             ],
             [
              0.7777777777777778,
              "#fb9f3a"
             ],
             [
              0.8888888888888888,
              "#fdca26"
             ],
             [
              1,
              "#f0f921"
             ]
            ],
            "type": "surface"
           }
          ],
          "table": [
           {
            "cells": {
             "fill": {
              "color": "#EBF0F8"
             },
             "line": {
              "color": "white"
             }
            },
            "header": {
             "fill": {
              "color": "#C8D4E3"
             },
             "line": {
              "color": "white"
             }
            },
            "type": "table"
           }
          ]
         },
         "layout": {
          "annotationdefaults": {
           "arrowcolor": "#2a3f5f",
           "arrowhead": 0,
           "arrowwidth": 1
          },
          "autotypenumbers": "strict",
          "coloraxis": {
           "colorbar": {
            "outlinewidth": 0,
            "ticks": ""
           }
          },
          "colorscale": {
           "diverging": [
            [
             0,
             "#8e0152"
            ],
            [
             0.1,
             "#c51b7d"
            ],
            [
             0.2,
             "#de77ae"
            ],
            [
             0.3,
             "#f1b6da"
            ],
            [
             0.4,
             "#fde0ef"
            ],
            [
             0.5,
             "#f7f7f7"
            ],
            [
             0.6,
             "#e6f5d0"
            ],
            [
             0.7,
             "#b8e186"
            ],
            [
             0.8,
             "#7fbc41"
            ],
            [
             0.9,
             "#4d9221"
            ],
            [
             1,
             "#276419"
            ]
           ],
           "sequential": [
            [
             0,
             "#0d0887"
            ],
            [
             0.1111111111111111,
             "#46039f"
            ],
            [
             0.2222222222222222,
             "#7201a8"
            ],
            [
             0.3333333333333333,
             "#9c179e"
            ],
            [
             0.4444444444444444,
             "#bd3786"
            ],
            [
             0.5555555555555556,
             "#d8576b"
            ],
            [
             0.6666666666666666,
             "#ed7953"
            ],
            [
             0.7777777777777778,
             "#fb9f3a"
            ],
            [
             0.8888888888888888,
             "#fdca26"
            ],
            [
             1,
             "#f0f921"
            ]
           ],
           "sequentialminus": [
            [
             0,
             "#0d0887"
            ],
            [
             0.1111111111111111,
             "#46039f"
            ],
            [
             0.2222222222222222,
             "#7201a8"
            ],
            [
             0.3333333333333333,
             "#9c179e"
            ],
            [
             0.4444444444444444,
             "#bd3786"
            ],
            [
             0.5555555555555556,
             "#d8576b"
            ],
            [
             0.6666666666666666,
             "#ed7953"
            ],
            [
             0.7777777777777778,
             "#fb9f3a"
            ],
            [
             0.8888888888888888,
             "#fdca26"
            ],
            [
             1,
             "#f0f921"
            ]
           ]
          },
          "colorway": [
           "#636efa",
           "#EF553B",
           "#00cc96",
           "#ab63fa",
           "#FFA15A",
           "#19d3f3",
           "#FF6692",
           "#B6E880",
           "#FF97FF",
           "#FECB52"
          ],
          "font": {
           "color": "#2a3f5f"
          },
          "geo": {
           "bgcolor": "white",
           "lakecolor": "white",
           "landcolor": "#E5ECF6",
           "showlakes": true,
           "showland": true,
           "subunitcolor": "white"
          },
          "hoverlabel": {
           "align": "left"
          },
          "hovermode": "closest",
          "mapbox": {
           "style": "light"
          },
          "paper_bgcolor": "white",
          "plot_bgcolor": "#E5ECF6",
          "polar": {
           "angularaxis": {
            "gridcolor": "white",
            "linecolor": "white",
            "ticks": ""
           },
           "bgcolor": "#E5ECF6",
           "radialaxis": {
            "gridcolor": "white",
            "linecolor": "white",
            "ticks": ""
           }
          },
          "scene": {
           "xaxis": {
            "backgroundcolor": "#E5ECF6",
            "gridcolor": "white",
            "gridwidth": 2,
            "linecolor": "white",
            "showbackground": true,
            "ticks": "",
            "zerolinecolor": "white"
           },
           "yaxis": {
            "backgroundcolor": "#E5ECF6",
            "gridcolor": "white",
            "gridwidth": 2,
            "linecolor": "white",
            "showbackground": true,
            "ticks": "",
            "zerolinecolor": "white"
           },
           "zaxis": {
            "backgroundcolor": "#E5ECF6",
            "gridcolor": "white",
            "gridwidth": 2,
            "linecolor": "white",
            "showbackground": true,
            "ticks": "",
            "zerolinecolor": "white"
           }
          },
          "shapedefaults": {
           "line": {
            "color": "#2a3f5f"
           }
          },
          "ternary": {
           "aaxis": {
            "gridcolor": "white",
            "linecolor": "white",
            "ticks": ""
           },
           "baxis": {
            "gridcolor": "white",
            "linecolor": "white",
            "ticks": ""
           },
           "bgcolor": "#E5ECF6",
           "caxis": {
            "gridcolor": "white",
            "linecolor": "white",
            "ticks": ""
           }
          },
          "title": {
           "x": 0.05
          },
          "xaxis": {
           "automargin": true,
           "gridcolor": "white",
           "linecolor": "white",
           "ticks": "",
           "title": {
            "standoff": 15
           },
           "zerolinecolor": "white",
           "zerolinewidth": 2
          },
          "yaxis": {
           "automargin": true,
           "gridcolor": "white",
           "linecolor": "white",
           "ticks": "",
           "title": {
            "standoff": 15
           },
           "zerolinecolor": "white",
           "zerolinewidth": 2
          }
         }
        },
        "title": {
         "text": "F1 Score of Models"
        },
        "xaxis": {
         "anchor": "y",
         "categoryarray": [
          "RandomForestClassifier",
          "XGBClassifier",
          "GradientBoostingClassifier",
          "DecisionTreeClassifier"
         ],
         "categoryorder": "total descending",
         "domain": [
          0,
          1
         ],
         "title": {
          "text": "Model"
         }
        },
        "yaxis": {
         "anchor": "x",
         "domain": [
          0,
          1
         ],
         "title": {
          "text": "F1 Score"
         }
        }
       }
      }
     },
     "metadata": {},
     "output_type": "display_data"
    }
   ],
   "source": [
    "import plotly.express as px\n",
    "\n",
    "# Sort the DataFrame by F1 Score\n",
    "df_results_sorted = df_results.sort_values(by='F1 Score', ascending=False)\n",
    "\n",
    "# Create a bar chart without text inside bars\n",
    "fig = px.bar(\n",
    "    df_results_sorted,\n",
    "    x='Model',\n",
    "    y='F1 Score',\n",
    "    color='Model',\n",
    "    title='F1 Score of Models'\n",
    ")\n",
    "\n",
    "# Update layout\n",
    "fig.update_layout(\n",
    "    xaxis_title='Model',\n",
    "    yaxis_title='F1 Score',\n",
    "    xaxis={'categoryorder': 'total descending'},\n",
    "    margin=dict(l=20, r=20, t=50, b=20)\n",
    ")\n",
    "\n",
    "fig.show()\n"
   ]
  }
 ],
 "metadata": {
  "kernelspec": {
   "display_name": "base",
   "language": "python",
   "name": "python3"
  },
  "language_info": {
   "codemirror_mode": {
    "name": "ipython",
    "version": 3
   },
   "file_extension": ".py",
   "mimetype": "text/x-python",
   "name": "python",
   "nbconvert_exporter": "python",
   "pygments_lexer": "ipython3",
   "version": "3.12.7"
  }
 },
 "nbformat": 4,
 "nbformat_minor": 5
}
